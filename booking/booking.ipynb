{
 "cells": [
  {
   "cell_type": "markdown",
   "metadata": {},
   "source": [
    "# Project 3: Feature Engineering"
   ]
  },
  {
   "cell_type": "code",
   "execution_count": 1,
   "metadata": {},
   "outputs": [],
   "source": [
    "import pandas as pd\n",
    "import numpy as np\n",
    "import re\n",
    "import plotly.express as px"
   ]
  },
  {
   "cell_type": "markdown",
   "metadata": {},
   "source": [
    "## Preliminary data analysis"
   ]
  },
  {
   "cell_type": "code",
   "execution_count": 2,
   "metadata": {},
   "outputs": [
    {
     "data": {
      "text/html": [
       "<div>\n",
       "<style scoped>\n",
       "    .dataframe tbody tr th:only-of-type {\n",
       "        vertical-align: middle;\n",
       "    }\n",
       "\n",
       "    .dataframe tbody tr th {\n",
       "        vertical-align: top;\n",
       "    }\n",
       "\n",
       "    .dataframe thead th {\n",
       "        text-align: right;\n",
       "    }\n",
       "</style>\n",
       "<table border=\"1\" class=\"dataframe\">\n",
       "  <thead>\n",
       "    <tr style=\"text-align: right;\">\n",
       "      <th></th>\n",
       "      <th>hotel_address</th>\n",
       "      <th>additional_number_of_scoring</th>\n",
       "      <th>review_date</th>\n",
       "      <th>average_score</th>\n",
       "      <th>hotel_name</th>\n",
       "      <th>reviewer_nationality</th>\n",
       "      <th>negative_review</th>\n",
       "      <th>review_total_negative_word_counts</th>\n",
       "      <th>total_number_of_reviews</th>\n",
       "      <th>positive_review</th>\n",
       "      <th>review_total_positive_word_counts</th>\n",
       "      <th>total_number_of_reviews_reviewer_has_given</th>\n",
       "      <th>reviewer_score</th>\n",
       "      <th>tags</th>\n",
       "      <th>days_since_review</th>\n",
       "      <th>lat</th>\n",
       "      <th>lng</th>\n",
       "    </tr>\n",
       "  </thead>\n",
       "  <tbody>\n",
       "    <tr>\n",
       "      <th>0</th>\n",
       "      <td>Stratton Street Mayfair Westminster Borough Lo...</td>\n",
       "      <td>581</td>\n",
       "      <td>2/19/2016</td>\n",
       "      <td>8.4</td>\n",
       "      <td>The May Fair Hotel</td>\n",
       "      <td>United Kingdom</td>\n",
       "      <td>Leaving</td>\n",
       "      <td>3</td>\n",
       "      <td>1994</td>\n",
       "      <td>Staff were amazing</td>\n",
       "      <td>4</td>\n",
       "      <td>7</td>\n",
       "      <td>10.0</td>\n",
       "      <td>[' Leisure trip ', ' Couple ', ' Studio Suite ...</td>\n",
       "      <td>531 day</td>\n",
       "      <td>51.507894</td>\n",
       "      <td>-0.143671</td>\n",
       "    </tr>\n",
       "    <tr>\n",
       "      <th>1</th>\n",
       "      <td>130 134 Southampton Row Camden London WC1B 5AF...</td>\n",
       "      <td>299</td>\n",
       "      <td>1/12/2017</td>\n",
       "      <td>8.3</td>\n",
       "      <td>Mercure London Bloomsbury Hotel</td>\n",
       "      <td>United Kingdom</td>\n",
       "      <td>poor breakfast</td>\n",
       "      <td>3</td>\n",
       "      <td>1361</td>\n",
       "      <td>location</td>\n",
       "      <td>2</td>\n",
       "      <td>14</td>\n",
       "      <td>6.3</td>\n",
       "      <td>[' Business trip ', ' Couple ', ' Standard Dou...</td>\n",
       "      <td>203 day</td>\n",
       "      <td>51.521009</td>\n",
       "      <td>-0.123097</td>\n",
       "    </tr>\n",
       "    <tr>\n",
       "      <th>2</th>\n",
       "      <td>151 bis Rue de Rennes 6th arr 75006 Paris France</td>\n",
       "      <td>32</td>\n",
       "      <td>10/18/2016</td>\n",
       "      <td>8.9</td>\n",
       "      <td>Legend Saint Germain by Elegancia</td>\n",
       "      <td>China</td>\n",
       "      <td>No kettle in room</td>\n",
       "      <td>6</td>\n",
       "      <td>406</td>\n",
       "      <td>No Positive</td>\n",
       "      <td>0</td>\n",
       "      <td>14</td>\n",
       "      <td>7.5</td>\n",
       "      <td>[' Leisure trip ', ' Solo traveler ', ' Modern...</td>\n",
       "      <td>289 day</td>\n",
       "      <td>48.845377</td>\n",
       "      <td>2.325643</td>\n",
       "    </tr>\n",
       "    <tr>\n",
       "      <th>3</th>\n",
       "      <td>216 Avenue Jean Jaures 19th arr 75019 Paris Fr...</td>\n",
       "      <td>34</td>\n",
       "      <td>9/22/2015</td>\n",
       "      <td>7.5</td>\n",
       "      <td>Mercure Paris 19 Philharmonie La Villette</td>\n",
       "      <td>United Kingdom</td>\n",
       "      <td>No Negative</td>\n",
       "      <td>0</td>\n",
       "      <td>607</td>\n",
       "      <td>Friendly staff quiet comfortable room spotles...</td>\n",
       "      <td>11</td>\n",
       "      <td>8</td>\n",
       "      <td>10.0</td>\n",
       "      <td>[' Leisure trip ', ' Solo traveler ', ' Standa...</td>\n",
       "      <td>681 day</td>\n",
       "      <td>48.888697</td>\n",
       "      <td>2.394540</td>\n",
       "    </tr>\n",
       "    <tr>\n",
       "      <th>4</th>\n",
       "      <td>Molenwerf 1 1014 AG Amsterdam Netherlands</td>\n",
       "      <td>914</td>\n",
       "      <td>3/5/2016</td>\n",
       "      <td>8.5</td>\n",
       "      <td>Golden Tulip Amsterdam West</td>\n",
       "      <td>Poland</td>\n",
       "      <td>Torn sheets</td>\n",
       "      <td>4</td>\n",
       "      <td>7586</td>\n",
       "      <td>The staff was very friendly and helpful Break...</td>\n",
       "      <td>20</td>\n",
       "      <td>10</td>\n",
       "      <td>9.6</td>\n",
       "      <td>[' Business trip ', ' Couple ', ' Standard Dou...</td>\n",
       "      <td>516 day</td>\n",
       "      <td>52.385601</td>\n",
       "      <td>4.847060</td>\n",
       "    </tr>\n",
       "  </tbody>\n",
       "</table>\n",
       "</div>"
      ],
      "text/plain": [
       "                                       hotel_address  \\\n",
       "0  Stratton Street Mayfair Westminster Borough Lo...   \n",
       "1  130 134 Southampton Row Camden London WC1B 5AF...   \n",
       "2   151 bis Rue de Rennes 6th arr 75006 Paris France   \n",
       "3  216 Avenue Jean Jaures 19th arr 75019 Paris Fr...   \n",
       "4          Molenwerf 1 1014 AG Amsterdam Netherlands   \n",
       "\n",
       "   additional_number_of_scoring review_date  average_score  \\\n",
       "0                           581   2/19/2016            8.4   \n",
       "1                           299   1/12/2017            8.3   \n",
       "2                            32  10/18/2016            8.9   \n",
       "3                            34   9/22/2015            7.5   \n",
       "4                           914    3/5/2016            8.5   \n",
       "\n",
       "                                  hotel_name reviewer_nationality  \\\n",
       "0                         The May Fair Hotel      United Kingdom    \n",
       "1            Mercure London Bloomsbury Hotel      United Kingdom    \n",
       "2          Legend Saint Germain by Elegancia               China    \n",
       "3  Mercure Paris 19 Philharmonie La Villette      United Kingdom    \n",
       "4                Golden Tulip Amsterdam West              Poland    \n",
       "\n",
       "       negative_review  review_total_negative_word_counts  \\\n",
       "0             Leaving                                   3   \n",
       "1       poor breakfast                                  3   \n",
       "2   No kettle in room                                   6   \n",
       "3          No Negative                                  0   \n",
       "4         Torn sheets                                   4   \n",
       "\n",
       "   total_number_of_reviews                                    positive_review  \\\n",
       "0                     1994                                 Staff were amazing   \n",
       "1                     1361                                           location   \n",
       "2                      406                                        No Positive   \n",
       "3                      607   Friendly staff quiet comfortable room spotles...   \n",
       "4                     7586   The staff was very friendly and helpful Break...   \n",
       "\n",
       "   review_total_positive_word_counts  \\\n",
       "0                                  4   \n",
       "1                                  2   \n",
       "2                                  0   \n",
       "3                                 11   \n",
       "4                                 20   \n",
       "\n",
       "   total_number_of_reviews_reviewer_has_given  reviewer_score  \\\n",
       "0                                           7            10.0   \n",
       "1                                          14             6.3   \n",
       "2                                          14             7.5   \n",
       "3                                           8            10.0   \n",
       "4                                          10             9.6   \n",
       "\n",
       "                                                tags days_since_review  \\\n",
       "0  [' Leisure trip ', ' Couple ', ' Studio Suite ...           531 day   \n",
       "1  [' Business trip ', ' Couple ', ' Standard Dou...           203 day   \n",
       "2  [' Leisure trip ', ' Solo traveler ', ' Modern...           289 day   \n",
       "3  [' Leisure trip ', ' Solo traveler ', ' Standa...           681 day   \n",
       "4  [' Business trip ', ' Couple ', ' Standard Dou...           516 day   \n",
       "\n",
       "         lat       lng  \n",
       "0  51.507894 -0.143671  \n",
       "1  51.521009 -0.123097  \n",
       "2  48.845377  2.325643  \n",
       "3  48.888697  2.394540  \n",
       "4  52.385601  4.847060  "
      ]
     },
     "execution_count": 2,
     "metadata": {},
     "output_type": "execute_result"
    }
   ],
   "source": [
    "# Data reading\n",
    "hotels = pd.read_csv('data/hotels.csv')\n",
    "hotels.head()"
   ]
  },
  {
   "cell_type": "code",
   "execution_count": 3,
   "metadata": {},
   "outputs": [
    {
     "name": "stdout",
     "output_type": "stream",
     "text": [
      "<class 'pandas.core.frame.DataFrame'>\n",
      "RangeIndex: 386803 entries, 0 to 386802\n",
      "Data columns (total 17 columns):\n",
      " #   Column                                      Non-Null Count   Dtype  \n",
      "---  ------                                      --------------   -----  \n",
      " 0   hotel_address                               386803 non-null  object \n",
      " 1   additional_number_of_scoring                386803 non-null  int64  \n",
      " 2   review_date                                 386803 non-null  object \n",
      " 3   average_score                               386803 non-null  float64\n",
      " 4   hotel_name                                  386803 non-null  object \n",
      " 5   reviewer_nationality                        386803 non-null  object \n",
      " 6   negative_review                             386803 non-null  object \n",
      " 7   review_total_negative_word_counts           386803 non-null  int64  \n",
      " 8   total_number_of_reviews                     386803 non-null  int64  \n",
      " 9   positive_review                             386803 non-null  object \n",
      " 10  review_total_positive_word_counts           386803 non-null  int64  \n",
      " 11  total_number_of_reviews_reviewer_has_given  386803 non-null  int64  \n",
      " 12  reviewer_score                              386803 non-null  float64\n",
      " 13  tags                                        386803 non-null  object \n",
      " 14  days_since_review                           386803 non-null  object \n",
      " 15  lat                                         384355 non-null  float64\n",
      " 16  lng                                         384355 non-null  float64\n",
      "dtypes: float64(4), int64(5), object(8)\n",
      "memory usage: 50.2+ MB\n"
     ]
    }
   ],
   "source": [
    "hotels.info()"
   ]
  },
  {
   "cell_type": "markdown",
   "metadata": {},
   "source": [
    "Only *lat* and *lng* features have nans."
   ]
  },
  {
   "cell_type": "code",
   "execution_count": 4,
   "metadata": {},
   "outputs": [
    {
     "data": {
      "text/html": [
       "<div>\n",
       "<style scoped>\n",
       "    .dataframe tbody tr th:only-of-type {\n",
       "        vertical-align: middle;\n",
       "    }\n",
       "\n",
       "    .dataframe tbody tr th {\n",
       "        vertical-align: top;\n",
       "    }\n",
       "\n",
       "    .dataframe thead th {\n",
       "        text-align: right;\n",
       "    }\n",
       "</style>\n",
       "<table border=\"1\" class=\"dataframe\">\n",
       "  <thead>\n",
       "    <tr style=\"text-align: right;\">\n",
       "      <th></th>\n",
       "      <th>additional_number_of_scoring</th>\n",
       "      <th>average_score</th>\n",
       "      <th>review_total_negative_word_counts</th>\n",
       "      <th>total_number_of_reviews</th>\n",
       "      <th>review_total_positive_word_counts</th>\n",
       "      <th>total_number_of_reviews_reviewer_has_given</th>\n",
       "      <th>reviewer_score</th>\n",
       "      <th>lat</th>\n",
       "      <th>lng</th>\n",
       "    </tr>\n",
       "  </thead>\n",
       "  <tbody>\n",
       "    <tr>\n",
       "      <th>count</th>\n",
       "      <td>386803.00</td>\n",
       "      <td>386803.00</td>\n",
       "      <td>386803.00</td>\n",
       "      <td>386803.00</td>\n",
       "      <td>386803.00</td>\n",
       "      <td>386803.00</td>\n",
       "      <td>386803.00</td>\n",
       "      <td>384355.00</td>\n",
       "      <td>384355.00</td>\n",
       "    </tr>\n",
       "    <tr>\n",
       "      <th>mean</th>\n",
       "      <td>498.25</td>\n",
       "      <td>8.40</td>\n",
       "      <td>18.54</td>\n",
       "      <td>2743.99</td>\n",
       "      <td>17.78</td>\n",
       "      <td>7.18</td>\n",
       "      <td>8.40</td>\n",
       "      <td>49.44</td>\n",
       "      <td>2.82</td>\n",
       "    </tr>\n",
       "    <tr>\n",
       "      <th>std</th>\n",
       "      <td>500.26</td>\n",
       "      <td>0.55</td>\n",
       "      <td>29.70</td>\n",
       "      <td>2316.46</td>\n",
       "      <td>21.73</td>\n",
       "      <td>11.05</td>\n",
       "      <td>1.64</td>\n",
       "      <td>3.47</td>\n",
       "      <td>4.58</td>\n",
       "    </tr>\n",
       "    <tr>\n",
       "      <th>min</th>\n",
       "      <td>1.00</td>\n",
       "      <td>5.20</td>\n",
       "      <td>0.00</td>\n",
       "      <td>43.00</td>\n",
       "      <td>0.00</td>\n",
       "      <td>1.00</td>\n",
       "      <td>2.50</td>\n",
       "      <td>41.33</td>\n",
       "      <td>-0.37</td>\n",
       "    </tr>\n",
       "    <tr>\n",
       "      <th>25%</th>\n",
       "      <td>169.00</td>\n",
       "      <td>8.10</td>\n",
       "      <td>2.00</td>\n",
       "      <td>1161.00</td>\n",
       "      <td>5.00</td>\n",
       "      <td>1.00</td>\n",
       "      <td>7.50</td>\n",
       "      <td>48.21</td>\n",
       "      <td>-0.14</td>\n",
       "    </tr>\n",
       "    <tr>\n",
       "      <th>50%</th>\n",
       "      <td>342.00</td>\n",
       "      <td>8.40</td>\n",
       "      <td>9.00</td>\n",
       "      <td>2134.00</td>\n",
       "      <td>11.00</td>\n",
       "      <td>3.00</td>\n",
       "      <td>8.80</td>\n",
       "      <td>51.50</td>\n",
       "      <td>-0.00</td>\n",
       "    </tr>\n",
       "    <tr>\n",
       "      <th>75%</th>\n",
       "      <td>660.00</td>\n",
       "      <td>8.80</td>\n",
       "      <td>23.00</td>\n",
       "      <td>3613.00</td>\n",
       "      <td>22.00</td>\n",
       "      <td>8.00</td>\n",
       "      <td>9.60</td>\n",
       "      <td>51.52</td>\n",
       "      <td>4.83</td>\n",
       "    </tr>\n",
       "    <tr>\n",
       "      <th>max</th>\n",
       "      <td>2682.00</td>\n",
       "      <td>9.80</td>\n",
       "      <td>408.00</td>\n",
       "      <td>16670.00</td>\n",
       "      <td>395.00</td>\n",
       "      <td>355.00</td>\n",
       "      <td>10.00</td>\n",
       "      <td>52.40</td>\n",
       "      <td>16.43</td>\n",
       "    </tr>\n",
       "  </tbody>\n",
       "</table>\n",
       "</div>"
      ],
      "text/plain": [
       "       additional_number_of_scoring  average_score  \\\n",
       "count                     386803.00      386803.00   \n",
       "mean                         498.25           8.40   \n",
       "std                          500.26           0.55   \n",
       "min                            1.00           5.20   \n",
       "25%                          169.00           8.10   \n",
       "50%                          342.00           8.40   \n",
       "75%                          660.00           8.80   \n",
       "max                         2682.00           9.80   \n",
       "\n",
       "       review_total_negative_word_counts  total_number_of_reviews  \\\n",
       "count                          386803.00                386803.00   \n",
       "mean                               18.54                  2743.99   \n",
       "std                                29.70                  2316.46   \n",
       "min                                 0.00                    43.00   \n",
       "25%                                 2.00                  1161.00   \n",
       "50%                                 9.00                  2134.00   \n",
       "75%                                23.00                  3613.00   \n",
       "max                               408.00                 16670.00   \n",
       "\n",
       "       review_total_positive_word_counts  \\\n",
       "count                          386803.00   \n",
       "mean                               17.78   \n",
       "std                                21.73   \n",
       "min                                 0.00   \n",
       "25%                                 5.00   \n",
       "50%                                11.00   \n",
       "75%                                22.00   \n",
       "max                               395.00   \n",
       "\n",
       "       total_number_of_reviews_reviewer_has_given  reviewer_score        lat  \\\n",
       "count                                   386803.00       386803.00  384355.00   \n",
       "mean                                         7.18            8.40      49.44   \n",
       "std                                         11.05            1.64       3.47   \n",
       "min                                          1.00            2.50      41.33   \n",
       "25%                                          1.00            7.50      48.21   \n",
       "50%                                          3.00            8.80      51.50   \n",
       "75%                                          8.00            9.60      51.52   \n",
       "max                                        355.00           10.00      52.40   \n",
       "\n",
       "             lng  \n",
       "count  384355.00  \n",
       "mean        2.82  \n",
       "std         4.58  \n",
       "min        -0.37  \n",
       "25%        -0.14  \n",
       "50%        -0.00  \n",
       "75%         4.83  \n",
       "max        16.43  "
      ]
     },
     "execution_count": 4,
     "metadata": {},
     "output_type": "execute_result"
    }
   ],
   "source": [
    "# Statistics of numeric features\n",
    "hotels.describe().round(2)"
   ]
  },
  {
   "cell_type": "code",
   "execution_count": 5,
   "metadata": {},
   "outputs": [
    {
     "data": {
      "text/html": [
       "<div>\n",
       "<style scoped>\n",
       "    .dataframe tbody tr th:only-of-type {\n",
       "        vertical-align: middle;\n",
       "    }\n",
       "\n",
       "    .dataframe tbody tr th {\n",
       "        vertical-align: top;\n",
       "    }\n",
       "\n",
       "    .dataframe thead th {\n",
       "        text-align: right;\n",
       "    }\n",
       "</style>\n",
       "<table border=\"1\" class=\"dataframe\">\n",
       "  <thead>\n",
       "    <tr style=\"text-align: right;\">\n",
       "      <th></th>\n",
       "      <th>hotel_address</th>\n",
       "      <th>review_date</th>\n",
       "      <th>hotel_name</th>\n",
       "      <th>reviewer_nationality</th>\n",
       "      <th>negative_review</th>\n",
       "      <th>positive_review</th>\n",
       "      <th>tags</th>\n",
       "      <th>days_since_review</th>\n",
       "    </tr>\n",
       "  </thead>\n",
       "  <tbody>\n",
       "    <tr>\n",
       "      <th>count</th>\n",
       "      <td>386803</td>\n",
       "      <td>386803</td>\n",
       "      <td>386803</td>\n",
       "      <td>386803</td>\n",
       "      <td>386803</td>\n",
       "      <td>386803</td>\n",
       "      <td>386803</td>\n",
       "      <td>386803</td>\n",
       "    </tr>\n",
       "    <tr>\n",
       "      <th>unique</th>\n",
       "      <td>1493</td>\n",
       "      <td>731</td>\n",
       "      <td>1492</td>\n",
       "      <td>225</td>\n",
       "      <td>248828</td>\n",
       "      <td>311737</td>\n",
       "      <td>47135</td>\n",
       "      <td>731</td>\n",
       "    </tr>\n",
       "    <tr>\n",
       "      <th>top</th>\n",
       "      <td>163 Marsh Wall Docklands Tower Hamlets London ...</td>\n",
       "      <td>8/2/2017</td>\n",
       "      <td>Britannia International Hotel Canary Wharf</td>\n",
       "      <td>United Kingdom</td>\n",
       "      <td>No Negative</td>\n",
       "      <td>No Positive</td>\n",
       "      <td>[' Leisure trip ', ' Couple ', ' Double Room '...</td>\n",
       "      <td>1 days</td>\n",
       "    </tr>\n",
       "    <tr>\n",
       "      <th>freq</th>\n",
       "      <td>3587</td>\n",
       "      <td>1911</td>\n",
       "      <td>3587</td>\n",
       "      <td>184033</td>\n",
       "      <td>95907</td>\n",
       "      <td>26885</td>\n",
       "      <td>3853</td>\n",
       "      <td>1911</td>\n",
       "    </tr>\n",
       "  </tbody>\n",
       "</table>\n",
       "</div>"
      ],
      "text/plain": [
       "                                            hotel_address review_date  \\\n",
       "count                                              386803      386803   \n",
       "unique                                               1493         731   \n",
       "top     163 Marsh Wall Docklands Tower Hamlets London ...    8/2/2017   \n",
       "freq                                                 3587        1911   \n",
       "\n",
       "                                        hotel_name reviewer_nationality  \\\n",
       "count                                       386803               386803   \n",
       "unique                                        1492                  225   \n",
       "top     Britannia International Hotel Canary Wharf      United Kingdom    \n",
       "freq                                          3587               184033   \n",
       "\n",
       "       negative_review positive_review  \\\n",
       "count           386803          386803   \n",
       "unique          248828          311737   \n",
       "top        No Negative     No Positive   \n",
       "freq             95907           26885   \n",
       "\n",
       "                                                     tags days_since_review  \n",
       "count                                              386803            386803  \n",
       "unique                                              47135               731  \n",
       "top     [' Leisure trip ', ' Couple ', ' Double Room '...            1 days  \n",
       "freq                                                 3853              1911  "
      ]
     },
     "execution_count": 5,
     "metadata": {},
     "output_type": "execute_result"
    }
   ],
   "source": [
    "# Statistics of categorical features\n",
    "hotels.describe(exclude=np.number)"
   ]
  },
  {
   "cell_type": "markdown",
   "metadata": {},
   "source": [
    "## Feature engineering"
   ]
  },
  {
   "cell_type": "code",
   "execution_count": 6,
   "metadata": {},
   "outputs": [],
   "source": [
    "import scipy.stats as stats\n",
    "\n",
    "# significance level\n",
    "alpha = 0.05"
   ]
  },
  {
   "cell_type": "markdown",
   "metadata": {},
   "source": [
    "Dataset separation:"
   ]
  },
  {
   "cell_type": "code",
   "execution_count": 7,
   "metadata": {},
   "outputs": [
    {
     "name": "stdout",
     "output_type": "stream",
     "text": [
      "<class 'pandas.core.frame.DataFrame'>\n",
      "RangeIndex: 386803 entries, 0 to 386802\n",
      "Data columns (total 16 columns):\n",
      " #   Column                                      Non-Null Count   Dtype  \n",
      "---  ------                                      --------------   -----  \n",
      " 0   hotel_address                               386803 non-null  object \n",
      " 1   additional_number_of_scoring                386803 non-null  int64  \n",
      " 2   review_date                                 386803 non-null  object \n",
      " 3   average_score                               386803 non-null  float64\n",
      " 4   hotel_name                                  386803 non-null  object \n",
      " 5   reviewer_nationality                        386803 non-null  object \n",
      " 6   negative_review                             386803 non-null  object \n",
      " 7   review_total_negative_word_counts           386803 non-null  int64  \n",
      " 8   total_number_of_reviews                     386803 non-null  int64  \n",
      " 9   positive_review                             386803 non-null  object \n",
      " 10  review_total_positive_word_counts           386803 non-null  int64  \n",
      " 11  total_number_of_reviews_reviewer_has_given  386803 non-null  int64  \n",
      " 12  tags                                        386803 non-null  object \n",
      " 13  days_since_review                           386803 non-null  object \n",
      " 14  lat                                         384355 non-null  float64\n",
      " 15  lng                                         384355 non-null  float64\n",
      "dtypes: float64(3), int64(5), object(8)\n",
      "memory usage: 47.2+ MB\n"
     ]
    }
   ],
   "source": [
    "# X - features for training, y - target (hotel rating) \n",
    "X = hotels.drop(['reviewer_score'], axis = 1)\n",
    "y = hotels['reviewer_score']\n",
    "X.info()"
   ]
  },
  {
   "cell_type": "markdown",
   "metadata": {},
   "source": [
    "### Hotel Address"
   ]
  },
  {
   "cell_type": "markdown",
   "metadata": {},
   "source": [
    "Extract information about city"
   ]
  },
  {
   "cell_type": "code",
   "execution_count": 8,
   "metadata": {},
   "outputs": [
    {
     "data": {
      "text/plain": [
       "city\n",
       "London       50.871891\n",
       "Barcelona    11.667955\n",
       "Paris        11.589879\n",
       "Amsterdam    11.118321\n",
       "Vienna        7.543375\n",
       "Milan         7.208579\n",
       "Name: proportion, dtype: float64"
      ]
     },
     "execution_count": 8,
     "metadata": {},
     "output_type": "execute_result"
    }
   ],
   "source": [
    "X['city'] = X['hotel_address'].apply(lambda x: x.split()[-5] if 'United Kingdom' in x \\\n",
    "    else x.split()[-2])\n",
    "X['city'].value_counts(True) * 100"
   ]
  },
  {
   "cell_type": "markdown",
   "metadata": {},
   "source": [
    "Encoding"
   ]
  },
  {
   "cell_type": "code",
   "execution_count": 9,
   "metadata": {},
   "outputs": [],
   "source": [
    "import category_encoders as ce"
   ]
  },
  {
   "cell_type": "code",
   "execution_count": 10,
   "metadata": {},
   "outputs": [],
   "source": [
    "encoder = ce.OneHotEncoder(cols=['city'], use_cat_names=True)\n",
    "city_bin = encoder.fit_transform(X['city'])\n",
    "X = pd.concat([X, city_bin], axis=1)"
   ]
  },
  {
   "cell_type": "markdown",
   "metadata": {},
   "source": [
    "### Coordinates"
   ]
  },
  {
   "cell_type": "code",
   "execution_count": 11,
   "metadata": {},
   "outputs": [],
   "source": [
    "from geopy.geocoders import Nominatim"
   ]
  },
  {
   "cell_type": "markdown",
   "metadata": {},
   "source": [
    "Addresses lacking coordinates:"
   ]
  },
  {
   "cell_type": "code",
   "execution_count": 12,
   "metadata": {},
   "outputs": [
    {
     "data": {
      "text/plain": [
       "array(['Savoyenstra e 2 16 Ottakring 1160 Vienna Austria',\n",
       "       '23 Rue Damr mont 18th arr 75018 Paris France',\n",
       "       'Josefst dter Stra e 10 12 08 Josefstadt 1080 Vienna Austria',\n",
       "       'W hringer Stra e 33 35 09 Alsergrund 1090 Vienna Austria',\n",
       "       '4 rue de la P pini re 8th arr 75008 Paris France',\n",
       "       'Sieveringer Stra e 4 19 D bling 1190 Vienna Austria',\n",
       "       'Taborstra e 8 A 02 Leopoldstadt 1020 Vienna Austria',\n",
       "       'Bail n 4 6 Eixample 08010 Barcelona Spain',\n",
       "       'Gr nentorgasse 30 09 Alsergrund 1090 Vienna Austria',\n",
       "       'Landstra er G rtel 5 03 Landstra e 1030 Vienna Austria',\n",
       "       'Paragonstra e 1 11 Simmering 1110 Vienna Austria',\n",
       "       'W hringer Stra e 12 09 Alsergrund 1090 Vienna Austria',\n",
       "       '20 Rue De La Ga t 14th arr 75014 Paris France',\n",
       "       'Hasenauerstra e 12 19 D bling 1190 Vienna Austria',\n",
       "       'Sep lveda 180 Eixample 08011 Barcelona Spain',\n",
       "       'Pau Clar s 122 Eixample 08009 Barcelona Spain',\n",
       "       'Josefst dter Stra e 22 08 Josefstadt 1080 Vienna Austria'],\n",
       "      dtype=object)"
      ]
     },
     "execution_count": 12,
     "metadata": {},
     "output_type": "execute_result"
    }
   ],
   "source": [
    "coordinates_na = X[X['lng'].isna() | X['lat'].isna()]['hotel_address'].unique()\n",
    "coordinates_na"
   ]
  },
  {
   "cell_type": "markdown",
   "metadata": {},
   "source": [
    "Correct some *hotel_address* entries:"
   ]
  },
  {
   "cell_type": "code",
   "execution_count": 13,
   "metadata": {},
   "outputs": [],
   "source": [
    "X['hotel_address'].replace({\n",
    "    'Savoyenstra e 2 16 Ottakring 1160 Vienna Austria': 'Savoyenstraße 2, 16. Ottakring, 1160 Vienna, Austria',\n",
    "    '23 Rue Damr mont 18th arr 75018 Paris France': '23, Rue Damrémont, 18e arrondissement, 75018 Paris, France',\n",
    "    'Josefst dter Stra e 10 12 08 Josefstadt 1080 Vienna Austria': 'Josefstädter Straße 10-12. Josefstadt, 1080 Vienna, Austria',\n",
    "    'W hringer Stra e 33 35 09 Alsergrund 1090 Vienna Austria': 'Währinger Straße 33-35. Alsergrund, 1090 Vienna, Austria',\n",
    "    '4 rue de la P pini re 8th arr 75008 Paris France': '4, rue de la Pépinière, 8e arrondissement, 75008 Paris, France',\n",
    "    'Sieveringer Stra e 4 19 D bling 1190 Vienna Austria': 'Sieveringer Straße 4, 19. Döbling, 1190 Vienna, Austria',\n",
    "    'Taborstra e 8 A 02 Leopoldstadt 1020 Vienna Austria': 'Taborstraße 8A. Leopoldstadt, 1020 Vienna, Austria',\n",
    "    'Bail n 4 6 Eixample 08010 Barcelona Spain': 'Bailén, 4-6, Eixample, 08010 Barcelona, Spain',\n",
    "    'Gr nentorgasse 30 09 Alsergrund 1090 Vienna Austria': 'Grünentorgasse, 30. Alsergrund, 1090 Vienna, Austria',\n",
    "    'Landstra er G rtel 5 03 Landstra e 1030 Vienna Austria': 'Landstraßer Gürtel 5. Landstraße, 1030 Vienna, Austria',\n",
    "    'Paragonstra e 1 11 Simmering 1110 Vienna Austria': 'Paragonstraße 1, 11. Simmering, 1110 Vienna, Austria',\n",
    "    'W hringer Stra e 12 09 Alsergrund 1090 Vienna Austria': 'Währinger Straße 12. Alsergrund, 1090 Vienna, Austria',\n",
    "    '20 Rue De La Ga t 14th arr 75014 Paris France': '20, Rue De La Gaîté, 14e arrondissement, 75014 Paris, France',\n",
    "    'Hasenauerstra e 12 19 D bling 1190 Vienna Austria': 'Hasenauerstraße 12, 19. Döbling, 1190 Vienna, Austria',\n",
    "    'Sep lveda 180 Eixample 08011 Barcelona Spain': 'Sepúlveda 180, Eixample, 08011 Barcelona, Spain',\n",
    "    'Pau Clar s 122 Eixample 08009 Barcelona Spain': 'Pau Clarís 122, Eixample, 08009 Barcelona, Spain',\n",
    "    'Josefst dter Stra e 22 08 Josefstadt 1080 Vienna Austria': 'Josefstädter Straße 22. Josefstadt, 1080 Vienna, Austria'\n",
    "}, inplace=True)"
   ]
  },
  {
   "cell_type": "markdown",
   "metadata": {},
   "source": [
    "Generate dictionary with keys as addresses and values as coordinates:"
   ]
  },
  {
   "cell_type": "code",
   "execution_count": 14,
   "metadata": {},
   "outputs": [
    {
     "data": {
      "text/plain": [
       "{'Savoyenstraße 2, 16. Ottakring, 1160 Vienna, Austria': [48.219571,\n",
       "  16.285625206638713],\n",
       " '23, Rue Damrémont, 18e arrondissement, 75018 Paris, France': [48.8888806,\n",
       "  2.3331948],\n",
       " 'Josefstädter Straße 10-12. Josefstadt, 1080 Vienna, Austria': [48.209235,\n",
       "  16.355225],\n",
       " 'Währinger Straße 33-35. Alsergrund, 1090 Vienna, Austria': [48.2203011,\n",
       "  16.3558834],\n",
       " '4, rue de la Pépinière, 8e arrondissement, 75008 Paris, France': [48.875248,\n",
       "  2.3233746],\n",
       " 'Sieveringer Straße 4, 19. Döbling, 1190 Vienna, Austria': [48.2516561,\n",
       "  16.320504901254935],\n",
       " 'Taborstraße 8A. Leopoldstadt, 1020 Vienna, Austria': [48.2136122,\n",
       "  16.380141833653525],\n",
       " 'Bailén, 4-6, Eixample, 08010 Barcelona, Spain': [41.3927215, 2.1760747],\n",
       " 'Grünentorgasse, 30. Alsergrund, 1090 Vienna, Austria': [48.2208351,\n",
       "  16.366645],\n",
       " 'Landstraßer Gürtel 5. Landstraße, 1030 Vienna, Austria': [48.1888627,\n",
       "  16.3838516356697],\n",
       " 'Paragonstraße 1, 11. Simmering, 1110 Vienna, Austria': [48.18672145,\n",
       "  16.420653090404993],\n",
       " 'Währinger Straße 12. Alsergrund, 1090 Vienna, Austria': [48.216813,\n",
       "  16.3599356],\n",
       " '20, Rue De La Gaîté, 14e arrondissement, 75014 Paris, France': [48.8399395,\n",
       "  2.3236754],\n",
       " 'Hasenauerstraße 12, 19. Döbling, 1190 Vienna, Austria': [48.2335228,\n",
       "  16.3456553],\n",
       " 'Sepúlveda 180, Eixample, 08011 Barcelona, Spain': [41.3832344,\n",
       "  2.162940206993912],\n",
       " 'Pau Clarís 122, Eixample, 08009 Barcelona, Spain': [41.3927154, 2.1674921],\n",
       " 'Josefstädter Straße 22. Josefstadt, 1080 Vienna, Austria': [48.20966395,\n",
       "  16.35142625097432]}"
      ]
     },
     "execution_count": 14,
     "metadata": {},
     "output_type": "execute_result"
    }
   ],
   "source": [
    "coordinates_na = list(X[X['lng'].isna() | X['lat'].isna()]['hotel_address'].unique())\n",
    "\n",
    "geolocator = Nominatim(user_agent=\"hotel_locator\")\n",
    "\n",
    "locations_dict = dict()\n",
    "\n",
    "for item in coordinates_na:\n",
    "    location = geolocator.geocode(item)\n",
    "    locations_dict[item] = [location.latitude, location.longitude]\n",
    "    \n",
    "locations_dict"
   ]
  },
  {
   "cell_type": "markdown",
   "metadata": {},
   "source": [
    "Fill missing coordinates:"
   ]
  },
  {
   "cell_type": "code",
   "execution_count": 15,
   "metadata": {},
   "outputs": [],
   "source": [
    "for key in locations_dict.keys():\n",
    "    X.loc[X['hotel_address'] == key, 'lat'] = locations_dict[key][0]\n",
    "    X.loc[X['hotel_address'] == key, 'lng'] = locations_dict[key][1]"
   ]
  },
  {
   "cell_type": "markdown",
   "metadata": {},
   "source": [
    "### Hotel name"
   ]
  },
  {
   "cell_type": "code",
   "execution_count": 16,
   "metadata": {},
   "outputs": [
    {
     "data": {
      "text/plain": [
       "1492"
      ]
     },
     "execution_count": 16,
     "metadata": {},
     "output_type": "execute_result"
    }
   ],
   "source": [
    "X['hotel_name'].nunique()"
   ]
  },
  {
   "cell_type": "markdown",
   "metadata": {},
   "source": [
    "It seems like we have 1492 unique hotel names. In part that's true, but some hotels share the same name."
   ]
  },
  {
   "cell_type": "code",
   "execution_count": 17,
   "metadata": {},
   "outputs": [
    {
     "data": {
      "text/plain": [
       "1494"
      ]
     },
     "execution_count": 17,
     "metadata": {},
     "output_type": "execute_result"
    }
   ],
   "source": [
    "name_address_df = X[['hotel_name', 'hotel_address']].drop_duplicates(ignore_index=True)\n",
    "name_address_df.shape[0]"
   ]
  },
  {
   "cell_type": "markdown",
   "metadata": {},
   "source": [
    "We have 1494 records despite having 1492 unique hotel names."
   ]
  },
  {
   "cell_type": "code",
   "execution_count": 18,
   "metadata": {},
   "outputs": [
    {
     "data": {
      "text/html": [
       "<div>\n",
       "<style scoped>\n",
       "    .dataframe tbody tr th:only-of-type {\n",
       "        vertical-align: middle;\n",
       "    }\n",
       "\n",
       "    .dataframe tbody tr th {\n",
       "        vertical-align: top;\n",
       "    }\n",
       "\n",
       "    .dataframe thead th {\n",
       "        text-align: right;\n",
       "    }\n",
       "</style>\n",
       "<table border=\"1\" class=\"dataframe\">\n",
       "  <thead>\n",
       "    <tr style=\"text-align: right;\">\n",
       "      <th></th>\n",
       "      <th>hotel_name</th>\n",
       "      <th>hotel_address</th>\n",
       "    </tr>\n",
       "  </thead>\n",
       "  <tbody>\n",
       "    <tr>\n",
       "      <th>687</th>\n",
       "      <td>Hotel Regina</td>\n",
       "      <td>Rooseveltplatz 15 09 Alsergrund 1090 Vienna Au...</td>\n",
       "    </tr>\n",
       "    <tr>\n",
       "      <th>717</th>\n",
       "      <td>Hotel Regina</td>\n",
       "      <td>Via Cesare Correnti 13 Milan City Center 20123...</td>\n",
       "    </tr>\n",
       "  </tbody>\n",
       "</table>\n",
       "</div>"
      ],
      "text/plain": [
       "       hotel_name                                      hotel_address\n",
       "687  Hotel Regina  Rooseveltplatz 15 09 Alsergrund 1090 Vienna Au...\n",
       "717  Hotel Regina  Via Cesare Correnti 13 Milan City Center 20123..."
      ]
     },
     "execution_count": 18,
     "metadata": {},
     "output_type": "execute_result"
    }
   ],
   "source": [
    "name_address_df[name_address_df.duplicated(subset=['hotel_name'])]"
   ]
  },
  {
   "cell_type": "code",
   "execution_count": 19,
   "metadata": {},
   "outputs": [
    {
     "data": {
      "text/html": [
       "<div>\n",
       "<style scoped>\n",
       "    .dataframe tbody tr th:only-of-type {\n",
       "        vertical-align: middle;\n",
       "    }\n",
       "\n",
       "    .dataframe tbody tr th {\n",
       "        vertical-align: top;\n",
       "    }\n",
       "\n",
       "    .dataframe thead th {\n",
       "        text-align: right;\n",
       "    }\n",
       "</style>\n",
       "<table border=\"1\" class=\"dataframe\">\n",
       "  <thead>\n",
       "    <tr style=\"text-align: right;\">\n",
       "      <th></th>\n",
       "      <th>hotel_name</th>\n",
       "      <th>hotel_address</th>\n",
       "    </tr>\n",
       "  </thead>\n",
       "  <tbody>\n",
       "    <tr>\n",
       "      <th>337</th>\n",
       "      <td>Hotel Regina</td>\n",
       "      <td>Bergara 2 4 Eixample 08002 Barcelona Spain</td>\n",
       "    </tr>\n",
       "    <tr>\n",
       "      <th>687</th>\n",
       "      <td>Hotel Regina</td>\n",
       "      <td>Rooseveltplatz 15 09 Alsergrund 1090 Vienna Au...</td>\n",
       "    </tr>\n",
       "    <tr>\n",
       "      <th>717</th>\n",
       "      <td>Hotel Regina</td>\n",
       "      <td>Via Cesare Correnti 13 Milan City Center 20123...</td>\n",
       "    </tr>\n",
       "  </tbody>\n",
       "</table>\n",
       "</div>"
      ],
      "text/plain": [
       "       hotel_name                                      hotel_address\n",
       "337  Hotel Regina         Bergara 2 4 Eixample 08002 Barcelona Spain\n",
       "687  Hotel Regina  Rooseveltplatz 15 09 Alsergrund 1090 Vienna Au...\n",
       "717  Hotel Regina  Via Cesare Correnti 13 Milan City Center 20123..."
      ]
     },
     "execution_count": 19,
     "metadata": {},
     "output_type": "execute_result"
    }
   ],
   "source": [
    "name_address_df[name_address_df['hotel_name'] == 'Hotel Regina']"
   ]
  },
  {
   "cell_type": "markdown",
   "metadata": {},
   "source": [
    "There are 3 separate hotels who share the name 'Hotel Regina'. Let's rename them respectively:"
   ]
  },
  {
   "cell_type": "code",
   "execution_count": 20,
   "metadata": {},
   "outputs": [
    {
     "data": {
      "text/plain": [
       "1494"
      ]
     },
     "execution_count": 20,
     "metadata": {},
     "output_type": "execute_result"
    }
   ],
   "source": [
    "regina_city_arr = X[X['hotel_name'] == 'Hotel Regina']['city'].unique()\n",
    "\n",
    "for item in regina_city_arr:\n",
    "    X.loc[(X['city'] == item) & (X['hotel_name'] == 'Hotel Regina'), 'hotel_name'] = 'Hotel Regina (' + item + ')'\n",
    "\n",
    "X['hotel_name'].nunique()"
   ]
  },
  {
   "cell_type": "markdown",
   "metadata": {},
   "source": [
    "### Additional number of scoring"
   ]
  },
  {
   "cell_type": "code",
   "execution_count": 21,
   "metadata": {},
   "outputs": [
    {
     "data": {
      "text/html": [
       "<div>\n",
       "<style scoped>\n",
       "    .dataframe tbody tr th:only-of-type {\n",
       "        vertical-align: middle;\n",
       "    }\n",
       "\n",
       "    .dataframe tbody tr th {\n",
       "        vertical-align: top;\n",
       "    }\n",
       "\n",
       "    .dataframe thead th {\n",
       "        text-align: right;\n",
       "    }\n",
       "</style>\n",
       "<table border=\"1\" class=\"dataframe\">\n",
       "  <thead>\n",
       "    <tr style=\"text-align: right;\">\n",
       "      <th></th>\n",
       "      <th>hotel_name</th>\n",
       "      <th>additional_number_of_scoring</th>\n",
       "      <th>average_score</th>\n",
       "      <th>total_number_of_reviews</th>\n",
       "    </tr>\n",
       "  </thead>\n",
       "  <tbody>\n",
       "    <tr>\n",
       "      <th>0</th>\n",
       "      <td>The May Fair Hotel</td>\n",
       "      <td>581</td>\n",
       "      <td>8.4</td>\n",
       "      <td>1994</td>\n",
       "    </tr>\n",
       "    <tr>\n",
       "      <th>1</th>\n",
       "      <td>Mercure London Bloomsbury Hotel</td>\n",
       "      <td>299</td>\n",
       "      <td>8.3</td>\n",
       "      <td>1361</td>\n",
       "    </tr>\n",
       "    <tr>\n",
       "      <th>2</th>\n",
       "      <td>Legend Saint Germain by Elegancia</td>\n",
       "      <td>32</td>\n",
       "      <td>8.9</td>\n",
       "      <td>406</td>\n",
       "    </tr>\n",
       "    <tr>\n",
       "      <th>3</th>\n",
       "      <td>Mercure Paris 19 Philharmonie La Villette</td>\n",
       "      <td>34</td>\n",
       "      <td>7.5</td>\n",
       "      <td>607</td>\n",
       "    </tr>\n",
       "    <tr>\n",
       "      <th>4</th>\n",
       "      <td>Golden Tulip Amsterdam West</td>\n",
       "      <td>914</td>\n",
       "      <td>8.5</td>\n",
       "      <td>7586</td>\n",
       "    </tr>\n",
       "  </tbody>\n",
       "</table>\n",
       "</div>"
      ],
      "text/plain": [
       "                                  hotel_name  additional_number_of_scoring  \\\n",
       "0                         The May Fair Hotel                           581   \n",
       "1            Mercure London Bloomsbury Hotel                           299   \n",
       "2          Legend Saint Germain by Elegancia                            32   \n",
       "3  Mercure Paris 19 Philharmonie La Villette                            34   \n",
       "4                Golden Tulip Amsterdam West                           914   \n",
       "\n",
       "   average_score  total_number_of_reviews  \n",
       "0            8.4                     1994  \n",
       "1            8.3                     1361  \n",
       "2            8.9                      406  \n",
       "3            7.5                      607  \n",
       "4            8.5                     7586  "
      ]
     },
     "execution_count": 21,
     "metadata": {},
     "output_type": "execute_result"
    }
   ],
   "source": [
    "hotel_df = X[['hotel_name', 'additional_number_of_scoring', 'average_score', 'total_number_of_reviews']].drop_duplicates(ignore_index=True)\n",
    "hotel_df.head()"
   ]
  },
  {
   "cell_type": "code",
   "execution_count": 22,
   "metadata": {},
   "outputs": [
    {
     "data": {
      "image/png": "[encoded data removed]"
     },
     "metadata": {},
     "output_type": "display_data"
    }
   ],
   "source": [
    "fig_add_number = px.histogram(\n",
    "    hotel_df['additional_number_of_scoring'],\n",
    "    height=600,\n",
    "    width=1000,\n",
    "    marginal='box',\n",
    "    title=\"Additional number of scoring histogram\"\n",
    ")\n",
    "fig_add_number.update_layout(showlegend=False)\n",
    "fig_add_number.update_yaxes(minor_showgrid=True)\n",
    "fig_add_number.layout.xaxis.title.text = 'Additional number of scoring'\n",
    "fig_add_number.layout.yaxis.title.text = 'Number of hotels'\n",
    "fig_add_number.write_html('images/add_scoring.html')\n",
    "fig_add_number.write_image('images/add_scoring.png')\n",
    "fig_add_number.show('png')\n",
    "#fig_add_number.show()"
   ]
  },
  {
   "cell_type": "markdown",
   "metadata": {},
   "source": [
    "### Average score"
   ]
  },
  {
   "cell_type": "markdown",
   "metadata": {},
   "source": [
    "Check if average score is normally distributed:"
   ]
  },
  {
   "cell_type": "code",
   "execution_count": 23,
   "metadata": {},
   "outputs": [],
   "source": [
    "# normality check function\n",
    "def decision_normality(p):\n",
    "    print(f'p-value - {p:.3f}')\n",
    "    if p <= alpha:\n",
    "        print(f'p-value is less than significance level {alpha:.2f}. Distribution is not normal.')\n",
    "        return False\n",
    "    else:\n",
    "        print(f'p-value is greater than significance level {alpha:.2f}. Distribution is normal.')\n",
    "        return True"
   ]
  },
  {
   "cell_type": "code",
   "execution_count": 24,
   "metadata": {},
   "outputs": [
    {
     "name": "stdout",
     "output_type": "stream",
     "text": [
      "p-value - 0.000\n",
      "p-value is less than significance level 0.05. Distribution is not normal.\n"
     ]
    },
    {
     "data": {
      "text/plain": [
       "False"
      ]
     },
     "execution_count": 24,
     "metadata": {},
     "output_type": "execute_result"
    }
   ],
   "source": [
    "decision_normality(stats.shapiro(hotel_df['average_score'])[1])"
   ]
  },
  {
   "cell_type": "code",
   "execution_count": 25,
   "metadata": {},
   "outputs": [],
   "source": [
    "def outliers_iqr_log(data, feature, left = 1.5, right = 1.5, log_scale = False):\n",
    "\t\"\"\"Clean data, quantile method\n",
    "\n",
    "\tArgs:\n",
    "\t\tdata (pandas.Dataframe): original dataframe\n",
    "\t\tfeature (string): name of feature to clean\n",
    "\t\tleft (float, optional): left boundary. Defaults to 1.5.\n",
    "\t\tright (float, optional): right boundary. Defaults to 1.5.\n",
    "\t\tlog_scale (bool, optional): logarithmical scale. Defaults to False.\n",
    "\n",
    "\tReturns:\n",
    "\t\tpandas.Dataframe: purged data, filtered data\n",
    "\t\"\"\"\n",
    "\tif log_scale:\n",
    "\t\tx = np.log(data[feature])\n",
    "\telse:\n",
    "\t\tx = data[feature]\n",
    "\n",
    "\tquartile_1, quartile_3 = x.quantile(0.25), x.quantile(0.75)\n",
    "\tiqr = quartile_3 - quartile_1\n",
    "\tlower_bound = quartile_1 - (iqr * left)\n",
    "\tupper_bound = quartile_3 + (iqr * right)\n",
    "\toutliers = data[(x < lower_bound) | (x > upper_bound)]\n",
    "\tcleaned = data[(x >= lower_bound) & (x <= upper_bound)]\n",
    " \n",
    "\treturn outliers, cleaned"
   ]
  },
  {
   "cell_type": "code",
   "execution_count": 26,
   "metadata": {},
   "outputs": [
    {
     "data": {
      "text/plain": [
       "3"
      ]
     },
     "execution_count": 26,
     "metadata": {},
     "output_type": "execute_result"
    }
   ],
   "source": [
    "outliers_score, cleaned_score = outliers_iqr_log(hotel_df, 'average_score', left=2, right=1.5)\n",
    "\n",
    "# number of outliers\n",
    "outliers_score.shape[0]"
   ]
  },
  {
   "cell_type": "code",
   "execution_count": 27,
   "metadata": {},
   "outputs": [
    {
     "data": {
      "image/png": "[encoded data removed]"
     },
     "metadata": {},
     "output_type": "display_data"
    }
   ],
   "source": [
    "fig_score_cleaned = px.histogram(\n",
    "    cleaned_score['average_score'],\n",
    "    height=600,\n",
    "    width=1000,\n",
    "    marginal='box',\n",
    "    title=\"Cleaned average score histogram\"\n",
    ")\n",
    "fig_score_cleaned.update_layout(showlegend=False)\n",
    "fig_score_cleaned.layout.xaxis.title.text = 'Cleaned average score'\n",
    "fig_score_cleaned.layout.yaxis.title.text = 'Number of hotels'\n",
    "fig_score_cleaned.write_html('images/average_score_cleaned.html')\n",
    "fig_score_cleaned.write_image('images/average_score_cleaned.png')\n",
    "fig_score_cleaned.show('png')\n",
    "#fig_score_cleaned.show()"
   ]
  },
  {
   "cell_type": "code",
   "execution_count": 28,
   "metadata": {},
   "outputs": [
    {
     "data": {
      "text/html": [
       "<div>\n",
       "<style scoped>\n",
       "    .dataframe tbody tr th:only-of-type {\n",
       "        vertical-align: middle;\n",
       "    }\n",
       "\n",
       "    .dataframe tbody tr th {\n",
       "        vertical-align: top;\n",
       "    }\n",
       "\n",
       "    .dataframe thead th {\n",
       "        text-align: right;\n",
       "    }\n",
       "</style>\n",
       "<table border=\"1\" class=\"dataframe\">\n",
       "  <thead>\n",
       "    <tr style=\"text-align: right;\">\n",
       "      <th></th>\n",
       "      <th>hotel_name</th>\n",
       "      <th>additional_number_of_scoring</th>\n",
       "      <th>average_score</th>\n",
       "      <th>total_number_of_reviews</th>\n",
       "    </tr>\n",
       "  </thead>\n",
       "  <tbody>\n",
       "    <tr>\n",
       "      <th>596</th>\n",
       "      <td>Hotel Cavendish</td>\n",
       "      <td>369</td>\n",
       "      <td>6.4</td>\n",
       "      <td>2275</td>\n",
       "    </tr>\n",
       "    <tr>\n",
       "      <th>999</th>\n",
       "      <td>Savoy Hotel Amsterdam</td>\n",
       "      <td>114</td>\n",
       "      <td>6.4</td>\n",
       "      <td>995</td>\n",
       "    </tr>\n",
       "    <tr>\n",
       "      <th>1167</th>\n",
       "      <td>Hotel Liberty</td>\n",
       "      <td>26</td>\n",
       "      <td>5.2</td>\n",
       "      <td>465</td>\n",
       "    </tr>\n",
       "  </tbody>\n",
       "</table>\n",
       "</div>"
      ],
      "text/plain": [
       "                 hotel_name  additional_number_of_scoring  average_score  \\\n",
       "596         Hotel Cavendish                           369            6.4   \n",
       "999   Savoy Hotel Amsterdam                           114            6.4   \n",
       "1167          Hotel Liberty                            26            5.2   \n",
       "\n",
       "      total_number_of_reviews  \n",
       "596                      2275  \n",
       "999                       995  \n",
       "1167                      465  "
      ]
     },
     "execution_count": 28,
     "metadata": {},
     "output_type": "execute_result"
    }
   ],
   "source": [
    "outliers_score"
   ]
  },
  {
   "cell_type": "code",
   "execution_count": 29,
   "metadata": {},
   "outputs": [
    {
     "data": {
      "text/html": [
       "<div>\n",
       "<style scoped>\n",
       "    .dataframe tbody tr th:only-of-type {\n",
       "        vertical-align: middle;\n",
       "    }\n",
       "\n",
       "    .dataframe tbody tr th {\n",
       "        vertical-align: top;\n",
       "    }\n",
       "\n",
       "    .dataframe thead th {\n",
       "        text-align: right;\n",
       "    }\n",
       "</style>\n",
       "<table border=\"1\" class=\"dataframe\">\n",
       "  <thead>\n",
       "    <tr style=\"text-align: right;\">\n",
       "      <th></th>\n",
       "      <th>positive_review</th>\n",
       "      <th>negative_review</th>\n",
       "    </tr>\n",
       "  </thead>\n",
       "  <tbody>\n",
       "    <tr>\n",
       "      <th>5666</th>\n",
       "      <td>The stuff was extremely nice The breakfast wa...</td>\n",
       "      <td>The shower water pressure was absolutely miss...</td>\n",
       "    </tr>\n",
       "    <tr>\n",
       "      <th>18895</th>\n",
       "      <td>The Wi Fi was reachable near the lobby The ro...</td>\n",
       "      <td>No Negative</td>\n",
       "    </tr>\n",
       "    <tr>\n",
       "      <th>28330</th>\n",
       "      <td>Breakfast is good Weekday staff is very kind ...</td>\n",
       "      <td>Shower box is not provided enough water and t...</td>\n",
       "    </tr>\n",
       "    <tr>\n",
       "      <th>42524</th>\n",
       "      <td>Location is not bad</td>\n",
       "      <td>Not clean no wi fi in rooms Old furniture and...</td>\n",
       "    </tr>\n",
       "    <tr>\n",
       "      <th>48461</th>\n",
       "      <td>No Positive</td>\n",
       "      <td>Very dirty poorly staffed Airconditioners do ...</td>\n",
       "    </tr>\n",
       "    <tr>\n",
       "      <th>51081</th>\n",
       "      <td>No Positive</td>\n",
       "      <td>Staff not welcoming at all Bad smell of cigar...</td>\n",
       "    </tr>\n",
       "    <tr>\n",
       "      <th>64706</th>\n",
       "      <td>Have stayed there at least 4 times Size of mo...</td>\n",
       "      <td>Hotel looks tired and requires some updates i...</td>\n",
       "    </tr>\n",
       "    <tr>\n",
       "      <th>75164</th>\n",
       "      <td>hotel was empty like having a private hotel</td>\n",
       "      <td>no wi fi in the room</td>\n",
       "    </tr>\n",
       "    <tr>\n",
       "      <th>80268</th>\n",
       "      <td>The room was clean</td>\n",
       "      <td>Our bed wasn t made the next day The AC didn ...</td>\n",
       "    </tr>\n",
       "    <tr>\n",
       "      <th>93707</th>\n",
       "      <td>No Positive</td>\n",
       "      <td>run down hotel with unmotivated staff</td>\n",
       "    </tr>\n",
       "    <tr>\n",
       "      <th>100488</th>\n",
       "      <td>Friendly personals Half Retro feeling</td>\n",
       "      <td>Curpet is old Dust is too much because of thi...</td>\n",
       "    </tr>\n",
       "    <tr>\n",
       "      <th>109471</th>\n",
       "      <td>Good location quiet if rooms are on the inter...</td>\n",
       "      <td>There is no wi fi in the rooms and no air con...</td>\n",
       "    </tr>\n",
       "    <tr>\n",
       "      <th>112424</th>\n",
       "      <td>This hotel is nothing special It s convenient...</td>\n",
       "      <td>Wifi wasn t available in the room</td>\n",
       "    </tr>\n",
       "    <tr>\n",
       "      <th>134115</th>\n",
       "      <td>Nothing to like in this hotel is very disaste...</td>\n",
       "      <td>It is disaster hotel very very bad dirty and ...</td>\n",
       "    </tr>\n",
       "    <tr>\n",
       "      <th>136382</th>\n",
       "      <td>The staff is very friendly and helpful The lo...</td>\n",
       "      <td>The hotel is looking run down Burnt out light...</td>\n",
       "    </tr>\n",
       "    <tr>\n",
       "      <th>137507</th>\n",
       "      <td>Trams passed the front door Attractive foyer ...</td>\n",
       "      <td>Rooms were tired Carpet needed a good clean o...</td>\n",
       "    </tr>\n",
       "    <tr>\n",
       "      <th>137586</th>\n",
       "      <td>Location 5 mins walk to main train station Pr...</td>\n",
       "      <td>Breakfast very simple and basic Room drapes a...</td>\n",
       "    </tr>\n",
       "    <tr>\n",
       "      <th>155814</th>\n",
       "      <td>Location and availability Nice place</td>\n",
       "      <td>The smell of dust in the room because of the ...</td>\n",
       "    </tr>\n",
       "    <tr>\n",
       "      <th>157280</th>\n",
       "      <td>some kind and helpful staff including the man...</td>\n",
       "      <td>the facilities are old very old and used Room...</td>\n",
       "    </tr>\n",
       "    <tr>\n",
       "      <th>164711</th>\n",
       "      <td>No Positive</td>\n",
       "      <td>very bad hotel How can it be 4 star The light...</td>\n",
       "    </tr>\n",
       "    <tr>\n",
       "      <th>165075</th>\n",
       "      <td>No Positive</td>\n",
       "      <td>Hotel quoted 4 stars but the services offered...</td>\n",
       "    </tr>\n",
       "    <tr>\n",
       "      <th>167984</th>\n",
       "      <td>No Positive</td>\n",
       "      <td>The room is really dirty dirt and dust are ev...</td>\n",
       "    </tr>\n",
       "    <tr>\n",
       "      <th>174853</th>\n",
       "      <td>It is very close to Metro</td>\n",
       "      <td>No wi fi in the room Bad breakfast Noisy room...</td>\n",
       "    </tr>\n",
       "    <tr>\n",
       "      <th>215739</th>\n",
       "      <td>The hotel is in a good location between many ...</td>\n",
       "      <td>The room wasn t cleaned properly the hotel ha...</td>\n",
       "    </tr>\n",
       "    <tr>\n",
       "      <th>221017</th>\n",
       "      <td>the location</td>\n",
       "      <td>1 we didn t received whta we asked a room wit...</td>\n",
       "    </tr>\n",
       "    <tr>\n",
       "      <th>232126</th>\n",
       "      <td>No Positive</td>\n",
       "      <td>Poor service from staff impolite and unfriendly</td>\n",
       "    </tr>\n",
       "    <tr>\n",
       "      <th>244107</th>\n",
       "      <td>No Positive</td>\n",
       "      <td>Poor breakfast</td>\n",
       "    </tr>\n",
       "    <tr>\n",
       "      <th>244472</th>\n",
       "      <td>Polite staff There was no hot water in the ba...</td>\n",
       "      <td>Wi fi available only in the lobby No electric...</td>\n",
       "    </tr>\n",
       "    <tr>\n",
       "      <th>246136</th>\n",
       "      <td>No Positive</td>\n",
       "      <td>This may have been a four star hotel 20 years...</td>\n",
       "    </tr>\n",
       "    <tr>\n",
       "      <th>258905</th>\n",
       "      <td>I really unhappy with the room vessel and sin...</td>\n",
       "      <td>The room not comfortable and the bathroom tru...</td>\n",
       "    </tr>\n",
       "    <tr>\n",
       "      <th>260279</th>\n",
       "      <td>Breakfast was good</td>\n",
       "      <td>NO wifi in room You have to go to portal for ...</td>\n",
       "    </tr>\n",
       "    <tr>\n",
       "      <th>269483</th>\n",
       "      <td>Friendly and available staff Location is very...</td>\n",
       "      <td>Not very clean for 4 star</td>\n",
       "    </tr>\n",
       "    <tr>\n",
       "      <th>272686</th>\n",
       "      <td>Nothing</td>\n",
       "      <td>The hotel is terrible they advertise for AC w...</td>\n",
       "    </tr>\n",
       "    <tr>\n",
       "      <th>273390</th>\n",
       "      <td>Location is good and you can easily walk ever...</td>\n",
       "      <td>Poor spread for breakfast 50 of the light bul...</td>\n",
       "    </tr>\n",
       "    <tr>\n",
       "      <th>290325</th>\n",
       "      <td>Such friendly and helpful staff Short distanc...</td>\n",
       "      <td>Air conditioning</td>\n",
       "    </tr>\n",
       "    <tr>\n",
       "      <th>295708</th>\n",
       "      <td>Location</td>\n",
       "      <td>Rooms were extremely dirty and dark Bathroom ...</td>\n",
       "    </tr>\n",
       "    <tr>\n",
       "      <th>331929</th>\n",
       "      <td>The location of the hotel is very nice Near t...</td>\n",
       "      <td>The bed was not very comfy and the breakfast ...</td>\n",
       "    </tr>\n",
       "    <tr>\n",
       "      <th>335043</th>\n",
       "      <td>Tram lines</td>\n",
       "      <td>There was no hot water in my room and staff w...</td>\n",
       "    </tr>\n",
       "    <tr>\n",
       "      <th>338906</th>\n",
       "      <td>Close to city center Reasonable price</td>\n",
       "      <td>Small room Old furniture old decorations old ...</td>\n",
       "    </tr>\n",
       "    <tr>\n",
       "      <th>340449</th>\n",
       "      <td>V friendly staff</td>\n",
       "      <td>Ac not good</td>\n",
       "    </tr>\n",
       "    <tr>\n",
       "      <th>344213</th>\n",
       "      <td>Nice breakfast</td>\n",
       "      <td>No wifi in the room Carpets worn out Shower h...</td>\n",
       "    </tr>\n",
       "    <tr>\n",
       "      <th>354126</th>\n",
       "      <td>Just the breakfast service</td>\n",
       "      <td>When you pay that much of an amount with an e...</td>\n",
       "    </tr>\n",
       "    <tr>\n",
       "      <th>362234</th>\n",
       "      <td>near the duomo 2 stops by subway</td>\n",
       "      <td>rooms are dirty and useless this hotel is not...</td>\n",
       "    </tr>\n",
       "    <tr>\n",
       "      <th>377014</th>\n",
       "      <td>Not so far from the center of the city only s...</td>\n",
       "      <td>About 1 3 of lamps didn t work Shower was ver...</td>\n",
       "    </tr>\n",
       "  </tbody>\n",
       "</table>\n",
       "</div>"
      ],
      "text/plain": [
       "                                          positive_review  \\\n",
       "5666     The stuff was extremely nice The breakfast wa...   \n",
       "18895    The Wi Fi was reachable near the lobby The ro...   \n",
       "28330    Breakfast is good Weekday staff is very kind ...   \n",
       "42524                                 Location is not bad   \n",
       "48461                                         No Positive   \n",
       "51081                                         No Positive   \n",
       "64706    Have stayed there at least 4 times Size of mo...   \n",
       "75164         hotel was empty like having a private hotel   \n",
       "80268                                 The room was clean    \n",
       "93707                                         No Positive   \n",
       "100488              Friendly personals Half Retro feeling   \n",
       "109471   Good location quiet if rooms are on the inter...   \n",
       "112424   This hotel is nothing special It s convenient...   \n",
       "134115   Nothing to like in this hotel is very disaste...   \n",
       "136382   The staff is very friendly and helpful The lo...   \n",
       "137507   Trams passed the front door Attractive foyer ...   \n",
       "137586   Location 5 mins walk to main train station Pr...   \n",
       "155814              Location and availability Nice place    \n",
       "157280   some kind and helpful staff including the man...   \n",
       "164711                                        No Positive   \n",
       "165075                                        No Positive   \n",
       "167984                                        No Positive   \n",
       "174853                          It is very close to Metro   \n",
       "215739   The hotel is in a good location between many ...   \n",
       "221017                                       the location   \n",
       "232126                                        No Positive   \n",
       "244107                                        No Positive   \n",
       "244472   Polite staff There was no hot water in the ba...   \n",
       "246136                                        No Positive   \n",
       "258905   I really unhappy with the room vessel and sin...   \n",
       "260279                                Breakfast was good    \n",
       "269483   Friendly and available staff Location is very...   \n",
       "272686                                            Nothing   \n",
       "273390   Location is good and you can easily walk ever...   \n",
       "290325   Such friendly and helpful staff Short distanc...   \n",
       "295708                                           Location   \n",
       "331929   The location of the hotel is very nice Near t...   \n",
       "335043                                         Tram lines   \n",
       "338906              Close to city center Reasonable price   \n",
       "340449                                   V friendly staff   \n",
       "344213                                     Nice breakfast   \n",
       "354126                        Just the breakfast service    \n",
       "362234                  near the duomo 2 stops by subway    \n",
       "377014   Not so far from the center of the city only s...   \n",
       "\n",
       "                                          negative_review  \n",
       "5666     The shower water pressure was absolutely miss...  \n",
       "18895                                         No Negative  \n",
       "28330    Shower box is not provided enough water and t...  \n",
       "42524    Not clean no wi fi in rooms Old furniture and...  \n",
       "48461    Very dirty poorly staffed Airconditioners do ...  \n",
       "51081    Staff not welcoming at all Bad smell of cigar...  \n",
       "64706    Hotel looks tired and requires some updates i...  \n",
       "75164                                no wi fi in the room  \n",
       "80268    Our bed wasn t made the next day The AC didn ...  \n",
       "93707               run down hotel with unmotivated staff  \n",
       "100488   Curpet is old Dust is too much because of thi...  \n",
       "109471   There is no wi fi in the rooms and no air con...  \n",
       "112424                 Wifi wasn t available in the room   \n",
       "134115   It is disaster hotel very very bad dirty and ...  \n",
       "136382   The hotel is looking run down Burnt out light...  \n",
       "137507   Rooms were tired Carpet needed a good clean o...  \n",
       "137586   Breakfast very simple and basic Room drapes a...  \n",
       "155814   The smell of dust in the room because of the ...  \n",
       "157280   the facilities are old very old and used Room...  \n",
       "164711   very bad hotel How can it be 4 star The light...  \n",
       "165075   Hotel quoted 4 stars but the services offered...  \n",
       "167984   The room is really dirty dirt and dust are ev...  \n",
       "174853   No wi fi in the room Bad breakfast Noisy room...  \n",
       "215739   The room wasn t cleaned properly the hotel ha...  \n",
       "221017   1 we didn t received whta we asked a room wit...  \n",
       "232126   Poor service from staff impolite and unfriendly   \n",
       "244107                                     Poor breakfast  \n",
       "244472   Wi fi available only in the lobby No electric...  \n",
       "246136   This may have been a four star hotel 20 years...  \n",
       "258905   The room not comfortable and the bathroom tru...  \n",
       "260279   NO wifi in room You have to go to portal for ...  \n",
       "269483                          Not very clean for 4 star  \n",
       "272686   The hotel is terrible they advertise for AC w...  \n",
       "273390   Poor spread for breakfast 50 of the light bul...  \n",
       "290325                                   Air conditioning  \n",
       "295708   Rooms were extremely dirty and dark Bathroom ...  \n",
       "331929   The bed was not very comfy and the breakfast ...  \n",
       "335043   There was no hot water in my room and staff w...  \n",
       "338906   Small room Old furniture old decorations old ...  \n",
       "340449                                        Ac not good  \n",
       "344213   No wifi in the room Carpets worn out Shower h...  \n",
       "354126   When you pay that much of an amount with an e...  \n",
       "362234   rooms are dirty and useless this hotel is not...  \n",
       "377014   About 1 3 of lamps didn t work Shower was ver...  "
      ]
     },
     "execution_count": 29,
     "metadata": {},
     "output_type": "execute_result"
    }
   ],
   "source": [
    "X[X['hotel_name'] == 'Hotel Liberty'][['positive_review', 'negative_review']]"
   ]
  },
  {
   "cell_type": "markdown",
   "metadata": {},
   "source": [
    "Since \"outlying\" hotels have many negative reviews, we have no reason to ignore these records."
   ]
  },
  {
   "cell_type": "markdown",
   "metadata": {},
   "source": [
    "### Total number of reviews"
   ]
  },
  {
   "cell_type": "code",
   "execution_count": 30,
   "metadata": {},
   "outputs": [
    {
     "data": {
      "image/png": "[encoded data removed]"
     },
     "metadata": {},
     "output_type": "display_data"
    }
   ],
   "source": [
    "fig_num_review = px.histogram(\n",
    "    hotel_df['total_number_of_reviews'],\n",
    "    height=600,\n",
    "    width=1000,\n",
    "    marginal='box',\n",
    "    title=\"Total number of reviews histogram\"\n",
    ")\n",
    "fig_num_review.update_layout(showlegend=False)\n",
    "fig_num_review.update_yaxes(minor_showgrid=True)\n",
    "fig_num_review.layout.xaxis.title.text = 'Total number of reviews'\n",
    "fig_num_review.layout.yaxis.title.text = 'Number of hotels'\n",
    "fig_num_review.write_html('images/total_reviews.html')\n",
    "fig_num_review.write_image('images/total_reviews.png')\n",
    "fig_num_review.show('png')\n",
    "#fig_num_review.show()"
   ]
  },
  {
   "cell_type": "markdown",
   "metadata": {},
   "source": [
    "Correlation between numeric features in *hotel_df*:"
   ]
  },
  {
   "cell_type": "code",
   "execution_count": 31,
   "metadata": {},
   "outputs": [
    {
     "data": {
      "image/png": "[encoded data removed]"
     },
     "metadata": {},
     "output_type": "display_data"
    }
   ],
   "source": [
    "fig_numeric_corr = px.imshow(\n",
    "    round(hotel_df.select_dtypes(include=[np.number]).corr(method='spearman'), 2),\n",
    "    text_auto=True,\n",
    "    range_color=[-1, 1],\n",
    "    title='Heatmap of Spearman correlation ratio',\n",
    "    width=600,\n",
    "    height=600,\n",
    "    color_continuous_scale=px.colors.sequential.RdBu_r\n",
    ")\n",
    "fig_numeric_corr.update_layout(showlegend=False)\n",
    "fig_numeric_corr.write_html('images/numeric_corr.html')\n",
    "fig_numeric_corr.write_image('images/numeric_corr.png')\n",
    "fig_numeric_corr.show('png')\n",
    "#fig_numeric_corr.show()"
   ]
  },
  {
   "cell_type": "markdown",
   "metadata": {},
   "source": [
    "Since all of the numeric features has not normal distribution, we have implemented Spearman correlation.\n",
    "\n",
    "*Total number of reviews* and *additional number of scoring* have strong correlation. Average score has faint negative correlation with the rest of numeric features. If there is some cheating involved, its scale is insignificant."
   ]
  },
  {
   "cell_type": "markdown",
   "metadata": {},
   "source": [
    "### Review date"
   ]
  },
  {
   "cell_type": "markdown",
   "metadata": {},
   "source": [
    "Convert type of data to datetime"
   ]
  },
  {
   "cell_type": "code",
   "execution_count": 32,
   "metadata": {},
   "outputs": [
    {
     "data": {
      "text/plain": [
       "0   2016-02-19\n",
       "1   2017-01-12\n",
       "2   2016-10-18\n",
       "3   2015-09-22\n",
       "4   2016-03-05\n",
       "Name: review_date, dtype: datetime64[ns]"
      ]
     },
     "execution_count": 32,
     "metadata": {},
     "output_type": "execute_result"
    }
   ],
   "source": [
    "X['review_date'] = pd.to_datetime(X['review_date'])\n",
    "X['review_date'].head()"
   ]
  },
  {
   "cell_type": "markdown",
   "metadata": {},
   "source": [
    "Extract information about year, month, day of week, day of month"
   ]
  },
  {
   "cell_type": "code",
   "execution_count": 33,
   "metadata": {},
   "outputs": [
    {
     "data": {
      "text/html": [
       "<div>\n",
       "<style scoped>\n",
       "    .dataframe tbody tr th:only-of-type {\n",
       "        vertical-align: middle;\n",
       "    }\n",
       "\n",
       "    .dataframe tbody tr th {\n",
       "        vertical-align: top;\n",
       "    }\n",
       "\n",
       "    .dataframe thead th {\n",
       "        text-align: right;\n",
       "    }\n",
       "</style>\n",
       "<table border=\"1\" class=\"dataframe\">\n",
       "  <thead>\n",
       "    <tr style=\"text-align: right;\">\n",
       "      <th></th>\n",
       "      <th>review_year</th>\n",
       "      <th>review_month</th>\n",
       "      <th>review_day_week</th>\n",
       "      <th>review_day_month</th>\n",
       "    </tr>\n",
       "  </thead>\n",
       "  <tbody>\n",
       "    <tr>\n",
       "      <th>0</th>\n",
       "      <td>2016</td>\n",
       "      <td>2</td>\n",
       "      <td>4</td>\n",
       "      <td>19</td>\n",
       "    </tr>\n",
       "    <tr>\n",
       "      <th>1</th>\n",
       "      <td>2017</td>\n",
       "      <td>1</td>\n",
       "      <td>3</td>\n",
       "      <td>12</td>\n",
       "    </tr>\n",
       "    <tr>\n",
       "      <th>2</th>\n",
       "      <td>2016</td>\n",
       "      <td>10</td>\n",
       "      <td>1</td>\n",
       "      <td>18</td>\n",
       "    </tr>\n",
       "    <tr>\n",
       "      <th>3</th>\n",
       "      <td>2015</td>\n",
       "      <td>9</td>\n",
       "      <td>1</td>\n",
       "      <td>22</td>\n",
       "    </tr>\n",
       "    <tr>\n",
       "      <th>4</th>\n",
       "      <td>2016</td>\n",
       "      <td>3</td>\n",
       "      <td>5</td>\n",
       "      <td>5</td>\n",
       "    </tr>\n",
       "  </tbody>\n",
       "</table>\n",
       "</div>"
      ],
      "text/plain": [
       "   review_year  review_month  review_day_week  review_day_month\n",
       "0         2016             2                4                19\n",
       "1         2017             1                3                12\n",
       "2         2016            10                1                18\n",
       "3         2015             9                1                22\n",
       "4         2016             3                5                 5"
      ]
     },
     "execution_count": 33,
     "metadata": {},
     "output_type": "execute_result"
    }
   ],
   "source": [
    "X['review_year'] = X['review_date'].dt.year\n",
    "X['review_month'] = X['review_date'].dt.month\n",
    "X['review_day_week'] = X['review_date'].dt.day_of_week\n",
    "X['review_day_month'] = X['review_date'].dt.day\n",
    "X[['review_year', 'review_month', 'review_day_week', 'review_day_month']].head()"
   ]
  },
  {
   "cell_type": "markdown",
   "metadata": {},
   "source": [
    "### Reviewer nationality"
   ]
  },
  {
   "cell_type": "code",
   "execution_count": 34,
   "metadata": {},
   "outputs": [
    {
     "data": {
      "text/plain": [
       "225"
      ]
     },
     "execution_count": 34,
     "metadata": {},
     "output_type": "execute_result"
    }
   ],
   "source": [
    "X['reviewer_nationality'].nunique()"
   ]
  },
  {
   "cell_type": "code",
   "execution_count": 35,
   "metadata": {},
   "outputs": [
    {
     "data": {
      "text/plain": [
       "reviewer_nationality\n",
       " United Kingdom               47.577966\n",
       " United States of America      6.861632\n",
       " Australia                     4.198261\n",
       " Ireland                       2.876400\n",
       " United Arab Emirates          1.969219\n",
       " Saudi Arabia                  1.737836\n",
       " Netherlands                   1.708363\n",
       " Switzerland                   1.679925\n",
       " Canada                        1.547041\n",
       " Germany                       1.539802\n",
       "Name: proportion, dtype: float64"
      ]
     },
     "execution_count": 35,
     "metadata": {},
     "output_type": "execute_result"
    }
   ],
   "source": [
    "X['reviewer_nationality'].value_counts(True)[:10] * 100"
   ]
  },
  {
   "cell_type": "markdown",
   "metadata": {},
   "source": [
    "Create new features representing most common nationalities"
   ]
  },
  {
   "cell_type": "code",
   "execution_count": 36,
   "metadata": {},
   "outputs": [],
   "source": [
    "X['reviewer_from_UK'] = X['reviewer_nationality'].apply(lambda x: 1 if x == 'United Kingdom' else 0)"
   ]
  },
  {
   "cell_type": "markdown",
   "metadata": {},
   "source": [
    "### Negative review"
   ]
  },
  {
   "cell_type": "code",
   "execution_count": 37,
   "metadata": {},
   "outputs": [
    {
     "data": {
      "text/plain": [
       "248828"
      ]
     },
     "execution_count": 37,
     "metadata": {},
     "output_type": "execute_result"
    }
   ],
   "source": [
    "X['negative_review'].nunique()"
   ]
  },
  {
   "cell_type": "markdown",
   "metadata": {},
   "source": [
    "Some preprocessing operations:"
   ]
  },
  {
   "cell_type": "code",
   "execution_count": 38,
   "metadata": {},
   "outputs": [],
   "source": [
    "# Delete redundant spaces and convert text to lowercase\n",
    "X['negative_review'] = X['negative_review'].apply(lambda x: x.strip(' ').lower())"
   ]
  },
  {
   "cell_type": "code",
   "execution_count": 39,
   "metadata": {},
   "outputs": [],
   "source": [
    "# Deal with 's and 't wrong interpretation\n",
    "X['negative_review'] = X['negative_review'].apply(lambda x: x.replace(' t ', 't '))\n",
    "X['negative_review'] = X['negative_review'].apply(lambda x: x.replace(' s ', 's '))"
   ]
  },
  {
   "cell_type": "code",
   "execution_count": 40,
   "metadata": {},
   "outputs": [
    {
     "data": {
      "text/html": [
       "<div>\n",
       "<style scoped>\n",
       "    .dataframe tbody tr th:only-of-type {\n",
       "        vertical-align: middle;\n",
       "    }\n",
       "\n",
       "    .dataframe tbody tr th {\n",
       "        vertical-align: top;\n",
       "    }\n",
       "\n",
       "    .dataframe thead th {\n",
       "        text-align: right;\n",
       "    }\n",
       "</style>\n",
       "<table border=\"1\" class=\"dataframe\">\n",
       "  <thead>\n",
       "    <tr style=\"text-align: right;\">\n",
       "      <th></th>\n",
       "      <th>negative_review</th>\n",
       "      <th>neg_review_wc</th>\n",
       "    </tr>\n",
       "  </thead>\n",
       "  <tbody>\n",
       "    <tr>\n",
       "      <th>0</th>\n",
       "      <td>leaving</td>\n",
       "      <td>1</td>\n",
       "    </tr>\n",
       "    <tr>\n",
       "      <th>1</th>\n",
       "      <td>poor breakfast</td>\n",
       "      <td>2</td>\n",
       "    </tr>\n",
       "    <tr>\n",
       "      <th>2</th>\n",
       "      <td>no kettle in room</td>\n",
       "      <td>4</td>\n",
       "    </tr>\n",
       "    <tr>\n",
       "      <th>3</th>\n",
       "      <td>no negative</td>\n",
       "      <td>2</td>\n",
       "    </tr>\n",
       "    <tr>\n",
       "      <th>4</th>\n",
       "      <td>torn sheets</td>\n",
       "      <td>2</td>\n",
       "    </tr>\n",
       "  </tbody>\n",
       "</table>\n",
       "</div>"
      ],
      "text/plain": [
       "     negative_review  neg_review_wc\n",
       "0            leaving              1\n",
       "1     poor breakfast              2\n",
       "2  no kettle in room              4\n",
       "3        no negative              2\n",
       "4        torn sheets              2"
      ]
     },
     "execution_count": 40,
     "metadata": {},
     "output_type": "execute_result"
    }
   ],
   "source": [
    "# Word counter in negative reviews\n",
    "X['neg_review_wc'] = X['negative_review'].apply(lambda x: len(re.findall(r\"[\\w']+\", x)))\n",
    "X[['negative_review', 'neg_review_wc']].head()"
   ]
  },
  {
   "cell_type": "code",
   "execution_count": 41,
   "metadata": {},
   "outputs": [
    {
     "data": {
      "image/png": "[encoded data removed]"
     },
     "metadata": {},
     "output_type": "display_data"
    }
   ],
   "source": [
    "fig_neg_wc = px.histogram(\n",
    "    X['neg_review_wc'],\n",
    "    height=600,\n",
    "    width=1000,\n",
    "    title=\"Number of words in negative reviews\"\n",
    ")\n",
    "fig_neg_wc.update_layout(showlegend=False)\n",
    "fig_neg_wc.update_yaxes(minor_showgrid=True)\n",
    "fig_neg_wc.layout.xaxis.title.text = 'Number of words'\n",
    "fig_neg_wc.layout.yaxis.title.text = 'Frequency'\n",
    "fig_neg_wc.write_html('images/neg_wc.html')\n",
    "fig_neg_wc.write_image('images/neg_wc.png')\n",
    "fig_neg_wc.show('png')\n",
    "#fig_neg_wc.show()"
   ]
  },
  {
   "cell_type": "markdown",
   "metadata": {},
   "source": [
    "Overwhelming number of reviews consists of very short number of words. Such reviews usually contain no negative content at all. Those of reviews which have long duration typically describe some features displeasing the reviewer."
   ]
  },
  {
   "cell_type": "code",
   "execution_count": 42,
   "metadata": {},
   "outputs": [
    {
     "data": {
      "text/plain": [
       "0                 [leaving]\n",
       "1         [poor, breakfast]\n",
       "2    [no, kettle, in, room]\n",
       "3            [no, negative]\n",
       "4            [torn, sheets]\n",
       "Name: negative_review, dtype: object"
      ]
     },
     "execution_count": 42,
     "metadata": {},
     "output_type": "execute_result"
    }
   ],
   "source": [
    "neg_review_list = X['negative_review'].apply(lambda x: x.split())\n",
    "neg_review_list.head()"
   ]
  },
  {
   "cell_type": "markdown",
   "metadata": {},
   "source": [
    "The main idea is to match 20 most popular words in negative reviews that can affect the hotel rating."
   ]
  },
  {
   "cell_type": "code",
   "execution_count": 43,
   "metadata": {},
   "outputs": [
    {
     "data": {
      "text/plain": [
       "0      leaving\n",
       "1         poor\n",
       "1    breakfast\n",
       "2           no\n",
       "2       kettle\n",
       "Name: negative_review, dtype: object"
      ]
     },
     "execution_count": 43,
     "metadata": {},
     "output_type": "execute_result"
    }
   ],
   "source": [
    "neg_words_list = neg_review_list.explode()\n",
    "neg_words_list.head()"
   ]
  },
  {
   "cell_type": "code",
   "execution_count": 44,
   "metadata": {},
   "outputs": [
    {
     "data": {
      "text/plain": [
       "negative_review\n",
       "the         398192\n",
       "was         177297\n",
       "a           172589\n",
       "to          171717\n",
       "and         164233\n",
       "no          148333\n",
       "room        131762\n",
       "in          126317\n",
       "negative     97092\n",
       "not          94356\n",
       "i            91828\n",
       "of           90435\n",
       "for          88102\n",
       "we           74440\n",
       "it           73800\n",
       "is           61684\n",
       "very         60354\n",
       "but          56657\n",
       "hotel        55303\n",
       "on           51545\n",
       "Name: count, dtype: int64"
      ]
     },
     "execution_count": 44,
     "metadata": {},
     "output_type": "execute_result"
    }
   ],
   "source": [
    "neg_words_cnt = pd.value_counts(neg_words_list)\n",
    "neg_words_cnt.head(20)"
   ]
  },
  {
   "cell_type": "code",
   "execution_count": 45,
   "metadata": {},
   "outputs": [
    {
     "data": {
      "text/plain": [
       "negative_review\n",
       "room         131762\n",
       "hotel         55303\n",
       "on            51545\n",
       "were          46211\n",
       "at            45899\n",
       "had           45187\n",
       "breakfast     43514\n",
       "that          42439\n",
       "have          41054\n",
       "with          38967\n",
       "small         37369\n",
       "be            33941\n",
       "there         33833\n",
       "as            33012\n",
       "they          31853\n",
       "you           30422\n",
       "from          30079\n",
       "this          29789\n",
       "staff         29605\n",
       "so            29575\n",
       "Name: count, dtype: int64"
      ]
     },
     "execution_count": 45,
     "metadata": {},
     "output_type": "execute_result"
    }
   ],
   "source": [
    "neg_words_cnt.drop(['the', 'was', 'a', 'to', 'and', 'no', 'in', 'negative', 'not', 'i', 'of', 'for', 'it', 'we', 'is', \\\n",
    "    'very', 'but', 't'], inplace=True)\n",
    "neg_words_cnt.head(20)"
   ]
  },
  {
   "cell_type": "code",
   "execution_count": 46,
   "metadata": {},
   "outputs": [
    {
     "data": {
      "text/plain": [
       "negative_review\n",
       "room         131762\n",
       "breakfast     43514\n",
       "small         37369\n",
       "staff         29605\n",
       "my            29134\n",
       "nothing       29011\n",
       "rooms         26424\n",
       "our           25498\n",
       "would         24315\n",
       "could         24015\n",
       "when          23213\n",
       "bed           22270\n",
       "are           21973\n",
       "all           21761\n",
       "too           21585\n",
       "didnt         21438\n",
       "only          21034\n",
       "one           20993\n",
       "bit           20583\n",
       "out           20232\n",
       "Name: count, dtype: int64"
      ]
     },
     "execution_count": 46,
     "metadata": {},
     "output_type": "execute_result"
    }
   ],
   "source": [
    "neg_words_cnt.drop(['hotel', 'on', 'were', 'at', 'had', 'that', 'have', 'with', 'there', 'be', 'as', 'they', \\\n",
    "    'you', 'from', 'this', 'so'], inplace=True)\n",
    "neg_words_cnt.head(20)"
   ]
  },
  {
   "cell_type": "code",
   "execution_count": 47,
   "metadata": {},
   "outputs": [
    {
     "data": {
      "text/plain": [
       "negative_review\n",
       "room         131762\n",
       "breakfast     43514\n",
       "small         37369\n",
       "staff         29605\n",
       "nothing       29011\n",
       "bed           22270\n",
       "didnt         21438\n",
       "bathroom      19976\n",
       "which         19549\n",
       "night         17828\n",
       "like          16799\n",
       "little        16779\n",
       "or            16696\n",
       "if            16059\n",
       "shower        15956\n",
       "good          15577\n",
       "an            15566\n",
       "been          15328\n",
       "us            15321\n",
       "more          15236\n",
       "Name: count, dtype: int64"
      ]
     },
     "execution_count": 47,
     "metadata": {},
     "output_type": "execute_result"
    }
   ],
   "source": [
    "neg_words_cnt.drop(['my', 'rooms', 'our', 'would', 'could', 'when', 'are', 'all', 'too', 'one', 'only', 'bit', 'out'], inplace=True)\n",
    "neg_words_cnt.head(20)"
   ]
  },
  {
   "cell_type": "code",
   "execution_count": 48,
   "metadata": {},
   "outputs": [
    {
     "data": {
      "text/plain": [
       "negative_review\n",
       "room         131762\n",
       "breakfast     43514\n",
       "small         37369\n",
       "staff         29605\n",
       "nothing       29011\n",
       "bed           22270\n",
       "bathroom      19976\n",
       "like          16799\n",
       "little        16779\n",
       "shower        15956\n",
       "good          15577\n",
       "did           15097\n",
       "get           14707\n",
       "up            14690\n",
       "service       14513\n",
       "bar           14414\n",
       "me            13811\n",
       "stay          13158\n",
       "time          13125\n",
       "expensive     12510\n",
       "Name: count, dtype: int64"
      ]
     },
     "execution_count": 48,
     "metadata": {},
     "output_type": "execute_result"
    }
   ],
   "source": [
    "neg_words_cnt.drop(['didnt', 'which', 'night', 'or', 'if', 'an', 'been', 'us', 'more'], inplace=True)\n",
    "neg_words_cnt.head(20)"
   ]
  },
  {
   "cell_type": "code",
   "execution_count": 49,
   "metadata": {},
   "outputs": [
    {
     "data": {
      "text/plain": [
       "negative_review\n",
       "room         131762\n",
       "breakfast     43514\n",
       "small         37369\n",
       "staff         29605\n",
       "nothing       29011\n",
       "bed           22270\n",
       "bathroom      19976\n",
       "like          16799\n",
       "little        16779\n",
       "shower        15956\n",
       "good          15577\n",
       "service       14513\n",
       "bar           14414\n",
       "expensive     12510\n",
       "reception     12509\n",
       "really        12378\n",
       "also          12373\n",
       "just          12282\n",
       "some          12275\n",
       "poor          12103\n",
       "Name: count, dtype: int64"
      ]
     },
     "execution_count": 49,
     "metadata": {},
     "output_type": "execute_result"
    }
   ],
   "source": [
    "neg_words_cnt.drop(['did', 'get', 'up', 'me', 'stay', 'time'], inplace=True)\n",
    "neg_words_cnt.head(20)"
   ]
  },
  {
   "cell_type": "code",
   "execution_count": 50,
   "metadata": {},
   "outputs": [
    {
     "data": {
      "text/plain": [
       "negative_review\n",
       "room         131762\n",
       "breakfast     43514\n",
       "small         37369\n",
       "staff         29605\n",
       "nothing       29011\n",
       "bed           22270\n",
       "bathroom      19976\n",
       "like          16799\n",
       "little        16779\n",
       "shower        15956\n",
       "good          15577\n",
       "service       14513\n",
       "bar           14414\n",
       "expensive     12510\n",
       "reception     12509\n",
       "poor          12103\n",
       "even          11580\n",
       "price         11560\n",
       "by            11540\n",
       "check         11495\n",
       "Name: count, dtype: int64"
      ]
     },
     "execution_count": 50,
     "metadata": {},
     "output_type": "execute_result"
    }
   ],
   "source": [
    "neg_words_cnt.drop(['really', 'also', 'just', 'some'], inplace=True)\n",
    "neg_words_cnt.head(20)"
   ]
  },
  {
   "cell_type": "code",
   "execution_count": 51,
   "metadata": {},
   "outputs": [
    {
     "data": {
      "text/plain": [
       "negative_review\n",
       "room         131762\n",
       "breakfast     43514\n",
       "small         37369\n",
       "staff         29605\n",
       "nothing       29011\n",
       "bed           22270\n",
       "bathroom      19976\n",
       "like          16799\n",
       "little        16779\n",
       "shower        15956\n",
       "good          15577\n",
       "service       14513\n",
       "bar           14414\n",
       "expensive     12510\n",
       "reception     12509\n",
       "poor          12103\n",
       "price         11560\n",
       "day           11303\n",
       "wasnt         11285\n",
       "floor         11190\n",
       "Name: count, dtype: int64"
      ]
     },
     "execution_count": 51,
     "metadata": {},
     "output_type": "execute_result"
    }
   ],
   "source": [
    "neg_words_cnt.drop(['even', 'by', 'check'], inplace=True)\n",
    "neg_words_cnt.head(20)"
   ]
  },
  {
   "cell_type": "code",
   "execution_count": 52,
   "metadata": {},
   "outputs": [],
   "source": [
    "neg_words_cnt.drop(['can'], inplace=True)"
   ]
  },
  {
   "cell_type": "code",
   "execution_count": 53,
   "metadata": {},
   "outputs": [
    {
     "data": {
      "text/plain": [
       "['room',\n",
       " 'breakfast',\n",
       " 'small',\n",
       " 'staff',\n",
       " 'nothing',\n",
       " 'bed',\n",
       " 'bathroom',\n",
       " 'like',\n",
       " 'little',\n",
       " 'shower',\n",
       " 'good',\n",
       " 'service',\n",
       " 'bar',\n",
       " 'expensive',\n",
       " 'reception',\n",
       " 'poor',\n",
       " 'price',\n",
       " 'day',\n",
       " 'wasnt',\n",
       " 'floor']"
      ]
     },
     "execution_count": 53,
     "metadata": {},
     "output_type": "execute_result"
    }
   ],
   "source": [
    "negative_tags = list(neg_words_cnt[:20].index)\n",
    "negative_tags"
   ]
  },
  {
   "cell_type": "markdown",
   "metadata": {},
   "source": [
    "Generate some new features that marks presence or absence of word in review."
   ]
  },
  {
   "cell_type": "code",
   "execution_count": 54,
   "metadata": {},
   "outputs": [],
   "source": [
    "for tag in negative_tags:\n",
    "    X['neg_is_' + tag] = X['negative_review'].apply(lambda x: 1 if tag in x else 0)"
   ]
  },
  {
   "cell_type": "markdown",
   "metadata": {},
   "source": [
    "### Positive review"
   ]
  },
  {
   "cell_type": "code",
   "execution_count": 55,
   "metadata": {},
   "outputs": [
    {
     "data": {
      "text/plain": [
       "311737"
      ]
     },
     "execution_count": 55,
     "metadata": {},
     "output_type": "execute_result"
    }
   ],
   "source": [
    "X['positive_review'].nunique()"
   ]
  },
  {
   "cell_type": "markdown",
   "metadata": {},
   "source": [
    "Preprocessing:"
   ]
  },
  {
   "cell_type": "code",
   "execution_count": 56,
   "metadata": {},
   "outputs": [],
   "source": [
    "X['positive_review'] = X['positive_review'].apply(lambda x: x.strip(' ').lower())"
   ]
  },
  {
   "cell_type": "code",
   "execution_count": 57,
   "metadata": {},
   "outputs": [],
   "source": [
    "X['positive_review'] = X['positive_review'].apply(lambda x: x.replace(' t ', 't '))\n",
    "X['positive_review'] = X['positive_review'].apply(lambda x: x.replace(' s ', 's '))"
   ]
  },
  {
   "cell_type": "markdown",
   "metadata": {},
   "source": [
    "Word counter:"
   ]
  },
  {
   "cell_type": "code",
   "execution_count": 58,
   "metadata": {},
   "outputs": [
    {
     "data": {
      "text/html": [
       "<div>\n",
       "<style scoped>\n",
       "    .dataframe tbody tr th:only-of-type {\n",
       "        vertical-align: middle;\n",
       "    }\n",
       "\n",
       "    .dataframe tbody tr th {\n",
       "        vertical-align: top;\n",
       "    }\n",
       "\n",
       "    .dataframe thead th {\n",
       "        text-align: right;\n",
       "    }\n",
       "</style>\n",
       "<table border=\"1\" class=\"dataframe\">\n",
       "  <thead>\n",
       "    <tr style=\"text-align: right;\">\n",
       "      <th></th>\n",
       "      <th>positive_review</th>\n",
       "      <th>pos_review_wc</th>\n",
       "    </tr>\n",
       "  </thead>\n",
       "  <tbody>\n",
       "    <tr>\n",
       "      <th>0</th>\n",
       "      <td>staff were amazing</td>\n",
       "      <td>3</td>\n",
       "    </tr>\n",
       "    <tr>\n",
       "      <th>1</th>\n",
       "      <td>location</td>\n",
       "      <td>1</td>\n",
       "    </tr>\n",
       "    <tr>\n",
       "      <th>2</th>\n",
       "      <td>no positive</td>\n",
       "      <td>2</td>\n",
       "    </tr>\n",
       "    <tr>\n",
       "      <th>3</th>\n",
       "      <td>friendly staff quiet comfortable room spotless...</td>\n",
       "      <td>9</td>\n",
       "    </tr>\n",
       "    <tr>\n",
       "      <th>4</th>\n",
       "      <td>the staff was very friendly and helpful breakf...</td>\n",
       "      <td>18</td>\n",
       "    </tr>\n",
       "  </tbody>\n",
       "</table>\n",
       "</div>"
      ],
      "text/plain": [
       "                                     positive_review  pos_review_wc\n",
       "0                                 staff were amazing              3\n",
       "1                                           location              1\n",
       "2                                        no positive              2\n",
       "3  friendly staff quiet comfortable room spotless...              9\n",
       "4  the staff was very friendly and helpful breakf...             18"
      ]
     },
     "execution_count": 58,
     "metadata": {},
     "output_type": "execute_result"
    }
   ],
   "source": [
    "X['pos_review_wc'] = X['positive_review'].apply(lambda x: len(re.findall(r\"[\\w']+\", x)))\n",
    "X[['positive_review', 'pos_review_wc']].head()"
   ]
  },
  {
   "cell_type": "code",
   "execution_count": 59,
   "metadata": {},
   "outputs": [
    {
     "data": {
      "image/png": "[encoded data removed]"
     },
     "metadata": {},
     "output_type": "display_data"
    }
   ],
   "source": [
    "fig_pos_wc = px.histogram(\n",
    "    X['pos_review_wc'],\n",
    "    height=600,\n",
    "    width=1000,\n",
    "    title=\"Number of words in positive reviews\"\n",
    ")\n",
    "fig_pos_wc.update_layout(showlegend=False)\n",
    "fig_pos_wc.update_yaxes(minor_showgrid=True)\n",
    "fig_pos_wc.layout.xaxis.title.text = 'Number of words'\n",
    "fig_pos_wc.layout.yaxis.title.text = 'Frequency'\n",
    "fig_pos_wc.write_html('images/pos_wc.html')\n",
    "fig_pos_wc.write_image('images/pos_wc.png')\n",
    "fig_pos_wc.show('png')\n",
    "#fig_pos_wc.show()"
   ]
  },
  {
   "cell_type": "markdown",
   "metadata": {},
   "source": [
    "The dependance is more smooth than that of negative reviews. Again most of reviews has very short duration, most of them admits quality of service. Long reviews tend to mark some insignificant flaws that can be fixed further."
   ]
  },
  {
   "cell_type": "code",
   "execution_count": 60,
   "metadata": {},
   "outputs": [
    {
     "data": {
      "text/plain": [
       "positive_review\n",
       "no positive                   0.069506\n",
       "location                      0.022862\n",
       "everything                    0.006342\n",
       "nothing                       0.003353\n",
       "great location                0.003338\n",
       "the location                  0.003069\n",
       "good location                 0.002903\n",
       "breakfast                     0.001528\n",
       "friendly staff                0.001409\n",
       "excellent location            0.001231\n",
       "staff                         0.001081\n",
       "location and staff            0.000882\n",
       "location staff                0.000814\n",
       "location location location    0.000662\n",
       "location was good             0.000628\n",
       "location was great            0.000626\n",
       "everything was perfect        0.000620\n",
       "comfy bed                     0.000582\n",
       "good breakfast                0.000574\n",
       "perfect location              0.000548\n",
       "Name: proportion, dtype: float64"
      ]
     },
     "execution_count": 60,
     "metadata": {},
     "output_type": "execute_result"
    }
   ],
   "source": [
    "X['positive_review'].value_counts(True)[:20]"
   ]
  },
  {
   "cell_type": "code",
   "execution_count": 61,
   "metadata": {},
   "outputs": [],
   "source": [
    "pos_review_list = X['positive_review'].apply(lambda x: x.split())"
   ]
  },
  {
   "cell_type": "code",
   "execution_count": 62,
   "metadata": {},
   "outputs": [],
   "source": [
    "pos_words_list = pos_review_list.explode()"
   ]
  },
  {
   "cell_type": "markdown",
   "metadata": {},
   "source": [
    "Same concept as in negative reviews."
   ]
  },
  {
   "cell_type": "code",
   "execution_count": 63,
   "metadata": {},
   "outputs": [
    {
     "data": {
      "text/plain": [
       "positive_review\n",
       "the          385768\n",
       "and          315786\n",
       "was          177057\n",
       "staff        145804\n",
       "very         144568\n",
       "location     144555\n",
       "to           140842\n",
       "a            123577\n",
       "room         105632\n",
       "hotel         93507\n",
       "in            85660\n",
       "good          84479\n",
       "of            79837\n",
       "great         79156\n",
       "is            76764\n",
       "for           68502\n",
       "were          68308\n",
       "friendly      63869\n",
       "breakfast     63297\n",
       "helpful       57200\n",
       "Name: count, dtype: int64"
      ]
     },
     "execution_count": 63,
     "metadata": {},
     "output_type": "execute_result"
    }
   ],
   "source": [
    "pos_words_cnt = pd.value_counts(pos_words_list)\n",
    "pos_words_cnt.head(20)"
   ]
  },
  {
   "cell_type": "code",
   "execution_count": 64,
   "metadata": {},
   "outputs": [
    {
     "data": {
      "text/plain": [
       "positive_review\n",
       "staff          145804\n",
       "location       144555\n",
       "room           105632\n",
       "hotel           93507\n",
       "good            84479\n",
       "great           79156\n",
       "friendly        63869\n",
       "breakfast       63297\n",
       "helpful         57200\n",
       "nice            52026\n",
       "clean           50249\n",
       "excellent       46758\n",
       "i               45769\n",
       "comfortable     44843\n",
       "it              37819\n",
       "bed             37446\n",
       "no              33827\n",
       "from            32746\n",
       "rooms           30345\n",
       "at              27753\n",
       "Name: count, dtype: int64"
      ]
     },
     "execution_count": 64,
     "metadata": {},
     "output_type": "execute_result"
    }
   ],
   "source": [
    "pos_words_cnt.drop(['the', 'and', 'was', 'very', 'to', 'a', 'in', 'of', 'is', 'for', 'were', 'we', 'with'], inplace=True)\n",
    "pos_words_cnt.head(20)"
   ]
  },
  {
   "cell_type": "code",
   "execution_count": 65,
   "metadata": {},
   "outputs": [
    {
     "data": {
      "text/plain": [
       "positive_review\n",
       "staff          145804\n",
       "location       144555\n",
       "room           105632\n",
       "hotel           93507\n",
       "good            84479\n",
       "great           79156\n",
       "friendly        63869\n",
       "breakfast       63297\n",
       "helpful         57200\n",
       "nice            52026\n",
       "clean           50249\n",
       "excellent       46758\n",
       "comfortable     44843\n",
       "bed             37446\n",
       "positive        27288\n",
       "lovely          26269\n",
       "close           23217\n",
       "station         21952\n",
       "perfect         19397\n",
       "service         19392\n",
       "Name: count, dtype: int64"
      ]
     },
     "execution_count": 65,
     "metadata": {},
     "output_type": "execute_result"
    }
   ],
   "source": [
    "pos_words_cnt.drop(['i', 'it', 'no', 'from', 'rooms', 'at', 'on', 'all', 'you', 'are', 'stay', 'our', \\\n",
    "    'but', 'really', 'had', 'this', 'so', 'as', 'everything'], inplace=True)\n",
    "pos_words_cnt.head(20)"
   ]
  },
  {
   "cell_type": "code",
   "execution_count": 66,
   "metadata": {},
   "outputs": [],
   "source": [
    "pos_words_cnt.rename({'comfortable': 'comf'}, inplace=True)"
   ]
  },
  {
   "cell_type": "code",
   "execution_count": 67,
   "metadata": {},
   "outputs": [
    {
     "data": {
      "text/plain": [
       "['staff',\n",
       " 'location',\n",
       " 'room',\n",
       " 'hotel',\n",
       " 'good',\n",
       " 'great',\n",
       " 'friendly',\n",
       " 'breakfast',\n",
       " 'helpful',\n",
       " 'nice',\n",
       " 'clean',\n",
       " 'excellent',\n",
       " 'comf',\n",
       " 'bed',\n",
       " 'positive',\n",
       " 'lovely',\n",
       " 'close',\n",
       " 'station',\n",
       " 'perfect',\n",
       " 'service']"
      ]
     },
     "execution_count": 67,
     "metadata": {},
     "output_type": "execute_result"
    }
   ],
   "source": [
    "positive_tags = list(pos_words_cnt[:20].index)\n",
    "positive_tags"
   ]
  },
  {
   "cell_type": "markdown",
   "metadata": {},
   "source": [
    "Generate some features marking presence of absence of word in positive review."
   ]
  },
  {
   "cell_type": "code",
   "execution_count": 68,
   "metadata": {},
   "outputs": [],
   "source": [
    "for tag in positive_tags:\n",
    "    X['pos_is_' + tag] = X['positive_review'].apply(lambda x: 1 if tag in x else 0)"
   ]
  },
  {
   "cell_type": "markdown",
   "metadata": {},
   "source": [
    "### Days since review"
   ]
  },
  {
   "cell_type": "markdown",
   "metadata": {},
   "source": [
    "Match number of days from the feature."
   ]
  },
  {
   "cell_type": "code",
   "execution_count": 69,
   "metadata": {},
   "outputs": [
    {
     "data": {
      "text/plain": [
       "reviewed_days_ago\n",
       "1      1911\n",
       "322    1738\n",
       "120    1702\n",
       "338    1462\n",
       "534    1451\n",
       "       ... \n",
       "122     154\n",
       "243     154\n",
       "615     146\n",
       "124     127\n",
       "123     111\n",
       "Name: count, Length: 731, dtype: int64"
      ]
     },
     "execution_count": 69,
     "metadata": {},
     "output_type": "execute_result"
    }
   ],
   "source": [
    "X['reviewed_days_ago'] = X['days_since_review'].apply(lambda x: int(x.split()[0]))\n",
    "X['reviewed_days_ago'].value_counts()"
   ]
  },
  {
   "cell_type": "markdown",
   "metadata": {},
   "source": [
    "### Tags"
   ]
  },
  {
   "cell_type": "markdown",
   "metadata": {},
   "source": [
    "Some preprocessing operations"
   ]
  },
  {
   "cell_type": "code",
   "execution_count": 70,
   "metadata": {},
   "outputs": [
    {
     "data": {
      "text/plain": [
       "0    [ Leisure trip ,  Couple ,  Studio Suite ,  St...\n",
       "1    [ Business trip ,  Couple ,  Standard Double R...\n",
       "2    [ Leisure trip ,  Solo traveler ,  Modern Doub...\n",
       "3    [ Leisure trip ,  Solo traveler ,  Standard Ro...\n",
       "4    [ Business trip ,  Couple ,  Standard Double o...\n",
       "Name: tags_list, dtype: object"
      ]
     },
     "execution_count": 70,
     "metadata": {},
     "output_type": "execute_result"
    }
   ],
   "source": [
    "# Delete square brackets and single quote then split the string into list of words\n",
    "X['tags_list'] = X['tags'].apply(lambda x: re.sub('[\\[\\]\\']', '', x).split(', '))\n",
    "X['tags_list'].head()"
   ]
  },
  {
   "cell_type": "code",
   "execution_count": 71,
   "metadata": {},
   "outputs": [],
   "source": [
    "tags_flat = X['tags_list'].explode()"
   ]
  },
  {
   "cell_type": "code",
   "execution_count": 72,
   "metadata": {},
   "outputs": [
    {
     "data": {
      "text/plain": [
       "[' Leisure trip ',\n",
       " ' Submitted from a mobile device ',\n",
       " ' Couple ',\n",
       " ' Stayed 1 night ',\n",
       " ' Stayed 2 nights ',\n",
       " ' Solo traveler ',\n",
       " ' Stayed 3 nights ',\n",
       " ' Business trip ',\n",
       " ' Group ',\n",
       " ' Family with young children ']"
      ]
     },
     "execution_count": 72,
     "metadata": {},
     "output_type": "execute_result"
    }
   ],
   "source": [
    "tag_list = list(tags_flat.value_counts().index)\n",
    "tag_list[:10]"
   ]
  },
  {
   "cell_type": "code",
   "execution_count": 73,
   "metadata": {},
   "outputs": [
    {
     "data": {
      "text/plain": [
       " Stayed 1 night                                 145373\n",
       " Stayed 2 nights                                100263\n",
       " Stayed 3 nights                                 72000\n",
       " Stayed 4 nights                                 35748\n",
       " Stayed 5 nights                                 15611\n",
       " Stayed 6 nights                                  7399\n",
       " Stayed 7 nights                                  5549\n",
       " Stayed 8 nights                                  1910\n",
       " Stayed 9 nights                                   966\n",
       " Stayed 10 nights                                  663\n",
       " Stayed 11 nights                                  306\n",
       " Stayed 12 nights                                  217\n",
       " Stayed 14 nights                                  184\n",
       " Stayed 13 nights                                  174\n",
       " Stayed 15 nights                                   87\n",
       " Stayed 16 nights                                   38\n",
       " Stayed 17 nights                                   27\n",
       " Stayed 18 nights                                   24\n",
       " Stayed 19 nights                                   23\n",
       " Stayed 21 nights                                   19\n",
       " Stayed 20 nights                                   17\n",
       " Stayed 27 nights                                   10\n",
       " Stayed 30 nights                                   10\n",
       " Stayed 22 nights                                    8\n",
       " Stayed 28 nights                                    7\n",
       " Stayed 23 nights                                    6\n",
       " Special Offer Double Room 3 nights minimum          6\n",
       " Stayed 26 nights                                    6\n",
       " Stayed 24 nights                                    5\n",
       " Junior Suite Give me the night                      4\n",
       " Stayed 25 nights                                    4\n",
       " Stayed 29 nights                                    3\n",
       "Name: count, dtype: int64"
      ]
     },
     "execution_count": 73,
     "metadata": {},
     "output_type": "execute_result"
    }
   ],
   "source": [
    "# Filter tags containing 'night'\n",
    "night_flat = [item for item in tags_flat if ' night' in item]\n",
    "pd.value_counts(night_flat)"
   ]
  },
  {
   "cell_type": "code",
   "execution_count": 74,
   "metadata": {},
   "outputs": [
    {
     "data": {
      "text/plain": [
       " Stayed 1 night                                 145377\n",
       " Stayed 2 nights                                100263\n",
       " Stayed 3 nights                                 72000\n",
       " Stayed 4 nights                                 35748\n",
       " Stayed 5 nights                                 15611\n",
       " Stayed 6 nights                                  7399\n",
       " Stayed 7 nights                                  5549\n",
       " Stayed 8 nights                                  1910\n",
       " Stayed 9 nights                                   966\n",
       " Stayed 10 nights                                  663\n",
       " Stayed 11 nights                                  306\n",
       " Stayed 12 nights                                  217\n",
       " Stayed 14 nights                                  184\n",
       " Stayed 13 nights                                  174\n",
       " Stayed 15 nights                                   87\n",
       " Stayed 16 nights                                   38\n",
       " Stayed 17 nights                                   27\n",
       " Stayed 18 nights                                   24\n",
       " Stayed 19 nights                                   23\n",
       " Stayed 21 nights                                   19\n",
       " Stayed 20 nights                                   17\n",
       " Stayed 30 nights                                   10\n",
       " Stayed 27 nights                                   10\n",
       " Stayed 22 nights                                    8\n",
       " Stayed 28 nights                                    7\n",
       " Special Offer Double Room 3 nights minimum          6\n",
       " Stayed 23 nights                                    6\n",
       " Stayed 26 nights                                    6\n",
       " Stayed 24 nights                                    5\n",
       " Stayed 25 nights                                    4\n",
       " Stayed 29 nights                                    3\n",
       "Name: count, dtype: int64"
      ]
     },
     "execution_count": 74,
     "metadata": {},
     "output_type": "execute_result"
    }
   ],
   "source": [
    "# Process 'Junior Suite Give me the night' case\n",
    "night_flat = [' Stayed 1 night ' if item == ' Junior Suite Give me the night ' else item for item in night_flat]\n",
    "pd.value_counts(night_flat)"
   ]
  },
  {
   "cell_type": "markdown",
   "metadata": {},
   "source": [
    "Number of reviews who hasn't tag indicating number of nights stayed:"
   ]
  },
  {
   "cell_type": "code",
   "execution_count": 75,
   "metadata": {},
   "outputs": [
    {
     "data": {
      "text/plain": [
       "136"
      ]
     },
     "execution_count": 75,
     "metadata": {},
     "output_type": "execute_result"
    }
   ],
   "source": [
    "X['tags'].shape[0] - pd.value_counts(night_flat).sum()"
   ]
  },
  {
   "cell_type": "markdown",
   "metadata": {},
   "source": [
    "Percent of reviews who hasn't tag indicating number of nights stayed:"
   ]
  },
  {
   "cell_type": "code",
   "execution_count": 76,
   "metadata": {},
   "outputs": [
    {
     "data": {
      "text/plain": [
       "0.04"
      ]
     },
     "execution_count": 76,
     "metadata": {},
     "output_type": "execute_result"
    }
   ],
   "source": [
    "round((1 - pd.value_counts(night_flat).sum() / X['tags'].shape[0]) * 100, 2)"
   ]
  },
  {
   "cell_type": "markdown",
   "metadata": {},
   "source": [
    "Since we have only 0.04\\% of reviews that doesn't indicate number of nights stayed, we can fill missing values."
   ]
  },
  {
   "cell_type": "code",
   "execution_count": 77,
   "metadata": {},
   "outputs": [],
   "source": [
    "night_list = list(pd.value_counts(night_flat).index)"
   ]
  },
  {
   "cell_type": "code",
   "execution_count": 78,
   "metadata": {},
   "outputs": [],
   "source": [
    "def nights_num(feat):\n",
    "    \"\"\"Extract number of nights stayed or return np.nan otherwise\n",
    "\n",
    "    Args:\n",
    "        feat (pandas.Series): 'nights_stayed' feature\n",
    "\n",
    "    Returns:\n",
    "        stay_string (float): number of nights stayed or np.nan\n",
    "    \"\"\"\n",
    "    \n",
    "    for tag in feat:\n",
    "        stay_string = np.nan\n",
    "        \n",
    "        if tag in night_list:\n",
    "            stay_string = int(''.join(re.findall(r'\\d+', tag)))\n",
    "            break\n",
    "    \n",
    "    return stay_string"
   ]
  },
  {
   "cell_type": "code",
   "execution_count": 79,
   "metadata": {},
   "outputs": [
    {
     "data": {
      "text/plain": [
       "nights_stayed\n",
       "False    386657\n",
       "True        146\n",
       "Name: count, dtype: int64"
      ]
     },
     "execution_count": 79,
     "metadata": {},
     "output_type": "execute_result"
    }
   ],
   "source": [
    "X['nights_stayed'] = X['tags_list'].apply(nights_num)\n",
    "X['nights_stayed'].isna().value_counts()"
   ]
  },
  {
   "cell_type": "code",
   "execution_count": 80,
   "metadata": {},
   "outputs": [
    {
     "data": {
      "image/png": "[encoded data removed]"
     },
     "metadata": {},
     "output_type": "display_data"
    }
   ],
   "source": [
    "fig_nights = px.histogram(\n",
    "    X['nights_stayed'].dropna().astype(int),\n",
    "    height=600,\n",
    "    width=1000,\n",
    "    title=\"Nights stayed histogram\"\n",
    ")\n",
    "fig_nights.update_layout(showlegend=False)\n",
    "fig_nights.update_yaxes(minor_showgrid=True)\n",
    "fig_nights.layout.xaxis.title.text = 'Nights stayed'\n",
    "fig_nights.layout.yaxis.title.text = 'Number of reviews'\n",
    "fig_nights.write_html('images/nights.html')\n",
    "fig_nights.write_image('images/nights.png')\n",
    "fig_nights.show('png')\n",
    "#fig_nights.show()"
   ]
  },
  {
   "cell_type": "markdown",
   "metadata": {},
   "source": [
    "The dependance is obviously far from normal, so missing values can be filled with median values."
   ]
  },
  {
   "cell_type": "code",
   "execution_count": 81,
   "metadata": {},
   "outputs": [
    {
     "data": {
      "text/plain": [
       "0    2\n",
       "1    1\n",
       "2    3\n",
       "3    1\n",
       "4    6\n",
       "Name: nights_stayed, dtype: int64"
      ]
     },
     "execution_count": 81,
     "metadata": {},
     "output_type": "execute_result"
    }
   ],
   "source": [
    "X['nights_stayed'] = X['nights_stayed'].fillna(X['nights_stayed'].dropna().median()).astype(int)\n",
    "X['nights_stayed'].head()"
   ]
  },
  {
   "cell_type": "markdown",
   "metadata": {},
   "source": [
    "Same concept as in negative reviews. Match 20 most popular tags."
   ]
  },
  {
   "cell_type": "code",
   "execution_count": 82,
   "metadata": {},
   "outputs": [
    {
     "data": {
      "text/plain": [
       "[' Leisure trip ',\n",
       " ' Submitted from a mobile device ',\n",
       " ' Couple ',\n",
       " ' Solo traveler ',\n",
       " ' Business trip ',\n",
       " ' Group ',\n",
       " ' Family with young children ',\n",
       " ' Double Room ',\n",
       " ' Standard Double Room ',\n",
       " ' Superior Double Room ',\n",
       " ' Family with older children ',\n",
       " ' Deluxe Double Room ',\n",
       " ' Double or Twin Room ',\n",
       " ' Standard Double or Twin Room ',\n",
       " ' Classic Double Room ',\n",
       " ' Superior Double or Twin Room ',\n",
       " ' 2 rooms ',\n",
       " ' Standard Twin Room ',\n",
       " ' Single Room ',\n",
       " ' Twin Room ']"
      ]
     },
     "metadata": {},
     "output_type": "display_data"
    }
   ],
   "source": [
    "pop_tags_list = [item for item in tag_list if ' night' not in item][:20]\n",
    "display(pop_tags_list)"
   ]
  },
  {
   "cell_type": "markdown",
   "metadata": {},
   "source": [
    "Generate some features marking presence of absence of tag in tag list of review."
   ]
  },
  {
   "cell_type": "code",
   "execution_count": 83,
   "metadata": {},
   "outputs": [],
   "source": [
    "for tag in pop_tags_list:\n",
    "    X['is' + tag.rstrip()] = X['tags_list'].apply(lambda x: 1 if tag in x else 0)"
   ]
  },
  {
   "cell_type": "markdown",
   "metadata": {},
   "source": [
    "## Correlation analysis"
   ]
  },
  {
   "cell_type": "code",
   "execution_count": 84,
   "metadata": {},
   "outputs": [],
   "source": [
    "from sklearn.feature_selection import chi2\n",
    "from sklearn.feature_selection import f_classif\n",
    "from sklearn.feature_selection import SelectKBest"
   ]
  },
  {
   "cell_type": "markdown",
   "metadata": {},
   "source": [
    "Remove categorical features:"
   ]
  },
  {
   "cell_type": "code",
   "execution_count": 85,
   "metadata": {},
   "outputs": [
    {
     "data": {
      "text/plain": [
       "array(['hotel_address', 'review_date', 'hotel_name',\n",
       "       'reviewer_nationality', 'negative_review', 'positive_review',\n",
       "       'tags', 'days_since_review', 'city', 'tags_list'], dtype=object)"
      ]
     },
     "metadata": {},
     "output_type": "display_data"
    }
   ],
   "source": [
    "object_feats = X.select_dtypes(exclude=[np.number]).columns.values\n",
    "display(object_feats)"
   ]
  },
  {
   "cell_type": "code",
   "execution_count": 86,
   "metadata": {},
   "outputs": [],
   "source": [
    "X.drop(object_feats, axis=1, inplace=True)"
   ]
  },
  {
   "cell_type": "markdown",
   "metadata": {},
   "source": [
    "Features with strong Spearman correlation:"
   ]
  },
  {
   "cell_type": "code",
   "execution_count": 87,
   "metadata": {},
   "outputs": [
    {
     "data": {
      "text/plain": [
       "pos_review_wc                      review_total_positive_word_counts    0.99\n",
       "review_total_positive_word_counts  pos_review_wc                        0.99\n",
       "neg_review_wc                      review_total_negative_word_counts    0.97\n",
       "review_total_negative_word_counts  neg_review_wc                        0.97\n",
       "reviewed_days_ago                  review_year                          0.91\n",
       "review_year                        reviewed_days_ago                    0.91\n",
       "is Leisure trip                    is Business trip                     0.90\n",
       "is Business trip                   is Leisure trip                      0.90\n",
       "lng                                city_London                          0.87\n",
       "city_London                        lng                                  0.87\n",
       "additional_number_of_scoring       total_number_of_reviews              0.86\n",
       "total_number_of_reviews            additional_number_of_scoring         0.86\n",
       "dtype: float64"
      ]
     },
     "execution_count": 87,
     "metadata": {},
     "output_type": "execute_result"
    }
   ],
   "source": [
    "X_corr_spearman = round(X.corr(method='spearman'), 2)\n",
    "X_corr_sorted_spearman = X_corr_spearman.abs().unstack().sort_values(kind='quicksort', ascending=False)\n",
    "spearman_corr_high = X_corr_sorted_spearman[(X_corr_sorted_spearman < 1) & (X_corr_sorted_spearman >= 0.7)]\n",
    "spearman_corr_high"
   ]
  },
  {
   "cell_type": "code",
   "execution_count": 88,
   "metadata": {},
   "outputs": [
    {
     "data": {
      "image/png": "[encoded data removed]"
     },
     "metadata": {},
     "output_type": "display_data"
    }
   ],
   "source": [
    "importance_corr_anova = pd.Series(f_classif(X[spearman_corr_high.unstack().columns], y)[0], \\\n",
    "    index = spearman_corr_high.unstack().columns)\n",
    "importance_corr_anova.sort_values(inplace=True, ascending=False)\n",
    "\n",
    "fig_imp_corr_anova = px.bar(\n",
    "    importance_corr_anova,\n",
    "    orientation='v',\n",
    "    height=600,\n",
    "    width=1000,\n",
    "    title='Importance of highly correlated features'\n",
    ")\n",
    "fig_imp_corr_anova.update(layout_showlegend=False)\n",
    "fig_imp_corr_anova.layout.xaxis.title.text = 'Feature name'\n",
    "fig_imp_corr_anova.layout.yaxis.title.text = 'f-statistics value'\n",
    "fig_imp_corr_anova.write_html('images/imp_corr_anova.html')\n",
    "fig_imp_corr_anova.write_image('images/imp_corr_anova.png')\n",
    "fig_imp_corr_anova.show('png')\n",
    "# fig_imp_corr_anova.show()"
   ]
  },
  {
   "cell_type": "markdown",
   "metadata": {},
   "source": [
    "Drop less important highly correlated features:"
   ]
  },
  {
   "cell_type": "code",
   "execution_count": 89,
   "metadata": {},
   "outputs": [],
   "source": [
    "X.drop(['additional_number_of_scoring', 'neg_review_wc', 'pos_review_wc', 'reviewed_days_ago', 'is Business trip'], \\\n",
    "    axis=1, inplace=True)"
   ]
  },
  {
   "cell_type": "markdown",
   "metadata": {},
   "source": [
    "Despite being more important 'city_London' will be removed:"
   ]
  },
  {
   "cell_type": "code",
   "execution_count": 90,
   "metadata": {},
   "outputs": [],
   "source": [
    "X.drop(['city_London'], axis=1, inplace=True)"
   ]
  },
  {
   "cell_type": "markdown",
   "metadata": {},
   "source": [
    "Features with strong Pearson correlation:"
   ]
  },
  {
   "cell_type": "code",
   "execution_count": 91,
   "metadata": {},
   "outputs": [
    {
     "data": {
      "text/plain": [
       "lat             city_Barcelona    0.84\n",
       "city_Barcelona  lat               0.84\n",
       "lng             city_Vienna       0.82\n",
       "city_Vienna     lng               0.82\n",
       "dtype: float64"
      ]
     },
     "execution_count": 91,
     "metadata": {},
     "output_type": "execute_result"
    }
   ],
   "source": [
    "X_corr_pearson = round(X.corr(), 2)\n",
    "X_corr_sorted_pearson = X_corr_pearson.abs().unstack().sort_values(kind='quicksort', ascending=False)\n",
    "pearson_corr_high = X_corr_sorted_pearson[(X_corr_sorted_pearson < 1) & (X_corr_sorted_pearson >= 0.7)]\n",
    "pearson_corr_high"
   ]
  },
  {
   "cell_type": "code",
   "execution_count": 92,
   "metadata": {},
   "outputs": [],
   "source": [
    "X.drop(['city_Barcelona', 'city_Vienna'], axis=1, inplace=True)"
   ]
  },
  {
   "cell_type": "markdown",
   "metadata": {},
   "source": [
    "## Feature selection"
   ]
  },
  {
   "cell_type": "code",
   "execution_count": 93,
   "metadata": {},
   "outputs": [],
   "source": [
    "# Number of features to transfer into the model\n",
    "feat_num = 30"
   ]
  },
  {
   "cell_type": "markdown",
   "metadata": {},
   "source": [
    "Most important features:"
   ]
  },
  {
   "cell_type": "code",
   "execution_count": 94,
   "metadata": {},
   "outputs": [
    {
     "name": "stderr",
     "output_type": "stream",
     "text": [
      "/home/teesuhkruta/anaconda3/lib/python3.11/site-packages/sklearn/feature_selection/_univariate_selection.py:112: UserWarning:\n",
      "\n",
      "Features [14] are constant.\n",
      "\n",
      "/home/teesuhkruta/anaconda3/lib/python3.11/site-packages/sklearn/feature_selection/_univariate_selection.py:113: RuntimeWarning:\n",
      "\n",
      "invalid value encountered in divide\n",
      "\n"
     ]
    },
    {
     "data": {
      "image/png": "[encoded data removed]"
     },
     "metadata": {},
     "output_type": "display_data"
    }
   ],
   "source": [
    "importance = pd.Series(f_classif(X, y)[0], index=X.columns)\n",
    "importance.sort_values(inplace=True, ascending=False)\n",
    "\n",
    "fig_kbest = px.bar(\n",
    "    importance[:feat_num],\n",
    "    orientation='v',\n",
    "    height=600,\n",
    "    width=1000,\n",
    "    title='Feature importance'\n",
    ")\n",
    "fig_kbest.update(layout_showlegend=False)\n",
    "fig_kbest.layout.xaxis.title.text = 'Feature name'\n",
    "fig_kbest.layout.yaxis.title.text = 'f-statistics value'\n",
    "fig_kbest.write_html('images/kbest.html')\n",
    "fig_kbest.write_image('images/kbest.png')\n",
    "fig_kbest.show('png')\n",
    "#fig_kbest.show()"
   ]
  },
  {
   "cell_type": "markdown",
   "metadata": {},
   "source": [
    "Generate dataframe containing most important features:"
   ]
  },
  {
   "cell_type": "code",
   "execution_count": 95,
   "metadata": {},
   "outputs": [
    {
     "name": "stderr",
     "output_type": "stream",
     "text": [
      "/home/teesuhkruta/anaconda3/lib/python3.11/site-packages/sklearn/feature_selection/_univariate_selection.py:112: UserWarning:\n",
      "\n",
      "Features [14] are constant.\n",
      "\n",
      "/home/teesuhkruta/anaconda3/lib/python3.11/site-packages/sklearn/feature_selection/_univariate_selection.py:113: RuntimeWarning:\n",
      "\n",
      "invalid value encountered in divide\n",
      "\n"
     ]
    },
    {
     "data": {
      "text/html": [
       "<div>\n",
       "<style scoped>\n",
       "    .dataframe tbody tr th:only-of-type {\n",
       "        vertical-align: middle;\n",
       "    }\n",
       "\n",
       "    .dataframe tbody tr th {\n",
       "        vertical-align: top;\n",
       "    }\n",
       "\n",
       "    .dataframe thead th {\n",
       "        text-align: right;\n",
       "    }\n",
       "</style>\n",
       "<table border=\"1\" class=\"dataframe\">\n",
       "  <thead>\n",
       "    <tr style=\"text-align: right;\">\n",
       "      <th></th>\n",
       "      <th>average_score</th>\n",
       "      <th>review_total_negative_word_counts</th>\n",
       "      <th>review_total_positive_word_counts</th>\n",
       "      <th>neg_is_room</th>\n",
       "      <th>neg_is_breakfast</th>\n",
       "      <th>neg_is_small</th>\n",
       "      <th>neg_is_staff</th>\n",
       "      <th>neg_is_nothing</th>\n",
       "      <th>neg_is_bed</th>\n",
       "      <th>neg_is_bathroom</th>\n",
       "      <th>...</th>\n",
       "      <th>pos_is_great</th>\n",
       "      <th>pos_is_friendly</th>\n",
       "      <th>pos_is_helpful</th>\n",
       "      <th>pos_is_excellent</th>\n",
       "      <th>pos_is_comf</th>\n",
       "      <th>pos_is_positive</th>\n",
       "      <th>pos_is_lovely</th>\n",
       "      <th>pos_is_perfect</th>\n",
       "      <th>pos_is_service</th>\n",
       "      <th>is Leisure trip</th>\n",
       "    </tr>\n",
       "  </thead>\n",
       "  <tbody>\n",
       "    <tr>\n",
       "      <th>0</th>\n",
       "      <td>8.4</td>\n",
       "      <td>3.0</td>\n",
       "      <td>4.0</td>\n",
       "      <td>0.0</td>\n",
       "      <td>0.0</td>\n",
       "      <td>0.0</td>\n",
       "      <td>0.0</td>\n",
       "      <td>0.0</td>\n",
       "      <td>0.0</td>\n",
       "      <td>0.0</td>\n",
       "      <td>...</td>\n",
       "      <td>0.0</td>\n",
       "      <td>0.0</td>\n",
       "      <td>0.0</td>\n",
       "      <td>0.0</td>\n",
       "      <td>0.0</td>\n",
       "      <td>0.0</td>\n",
       "      <td>0.0</td>\n",
       "      <td>0.0</td>\n",
       "      <td>0.0</td>\n",
       "      <td>1.0</td>\n",
       "    </tr>\n",
       "    <tr>\n",
       "      <th>1</th>\n",
       "      <td>8.3</td>\n",
       "      <td>3.0</td>\n",
       "      <td>2.0</td>\n",
       "      <td>0.0</td>\n",
       "      <td>1.0</td>\n",
       "      <td>0.0</td>\n",
       "      <td>0.0</td>\n",
       "      <td>0.0</td>\n",
       "      <td>0.0</td>\n",
       "      <td>0.0</td>\n",
       "      <td>...</td>\n",
       "      <td>0.0</td>\n",
       "      <td>0.0</td>\n",
       "      <td>0.0</td>\n",
       "      <td>0.0</td>\n",
       "      <td>0.0</td>\n",
       "      <td>0.0</td>\n",
       "      <td>0.0</td>\n",
       "      <td>0.0</td>\n",
       "      <td>0.0</td>\n",
       "      <td>0.0</td>\n",
       "    </tr>\n",
       "    <tr>\n",
       "      <th>2</th>\n",
       "      <td>8.9</td>\n",
       "      <td>6.0</td>\n",
       "      <td>0.0</td>\n",
       "      <td>1.0</td>\n",
       "      <td>0.0</td>\n",
       "      <td>0.0</td>\n",
       "      <td>0.0</td>\n",
       "      <td>0.0</td>\n",
       "      <td>0.0</td>\n",
       "      <td>0.0</td>\n",
       "      <td>...</td>\n",
       "      <td>0.0</td>\n",
       "      <td>0.0</td>\n",
       "      <td>0.0</td>\n",
       "      <td>0.0</td>\n",
       "      <td>0.0</td>\n",
       "      <td>1.0</td>\n",
       "      <td>0.0</td>\n",
       "      <td>0.0</td>\n",
       "      <td>0.0</td>\n",
       "      <td>1.0</td>\n",
       "    </tr>\n",
       "    <tr>\n",
       "      <th>3</th>\n",
       "      <td>7.5</td>\n",
       "      <td>0.0</td>\n",
       "      <td>11.0</td>\n",
       "      <td>0.0</td>\n",
       "      <td>0.0</td>\n",
       "      <td>0.0</td>\n",
       "      <td>0.0</td>\n",
       "      <td>0.0</td>\n",
       "      <td>0.0</td>\n",
       "      <td>0.0</td>\n",
       "      <td>...</td>\n",
       "      <td>0.0</td>\n",
       "      <td>1.0</td>\n",
       "      <td>0.0</td>\n",
       "      <td>1.0</td>\n",
       "      <td>1.0</td>\n",
       "      <td>0.0</td>\n",
       "      <td>0.0</td>\n",
       "      <td>0.0</td>\n",
       "      <td>0.0</td>\n",
       "      <td>1.0</td>\n",
       "    </tr>\n",
       "    <tr>\n",
       "      <th>4</th>\n",
       "      <td>8.5</td>\n",
       "      <td>4.0</td>\n",
       "      <td>20.0</td>\n",
       "      <td>0.0</td>\n",
       "      <td>0.0</td>\n",
       "      <td>0.0</td>\n",
       "      <td>0.0</td>\n",
       "      <td>0.0</td>\n",
       "      <td>0.0</td>\n",
       "      <td>0.0</td>\n",
       "      <td>...</td>\n",
       "      <td>0.0</td>\n",
       "      <td>1.0</td>\n",
       "      <td>1.0</td>\n",
       "      <td>0.0</td>\n",
       "      <td>0.0</td>\n",
       "      <td>0.0</td>\n",
       "      <td>0.0</td>\n",
       "      <td>0.0</td>\n",
       "      <td>0.0</td>\n",
       "      <td>0.0</td>\n",
       "    </tr>\n",
       "  </tbody>\n",
       "</table>\n",
       "<p>5 rows × 30 columns</p>\n",
       "</div>"
      ],
      "text/plain": [
       "   average_score  review_total_negative_word_counts  \\\n",
       "0            8.4                                3.0   \n",
       "1            8.3                                3.0   \n",
       "2            8.9                                6.0   \n",
       "3            7.5                                0.0   \n",
       "4            8.5                                4.0   \n",
       "\n",
       "   review_total_positive_word_counts  neg_is_room  neg_is_breakfast  \\\n",
       "0                                4.0          0.0               0.0   \n",
       "1                                2.0          0.0               1.0   \n",
       "2                                0.0          1.0               0.0   \n",
       "3                               11.0          0.0               0.0   \n",
       "4                               20.0          0.0               0.0   \n",
       "\n",
       "   neg_is_small  neg_is_staff  neg_is_nothing  neg_is_bed  neg_is_bathroom  \\\n",
       "0           0.0           0.0             0.0         0.0              0.0   \n",
       "1           0.0           0.0             0.0         0.0              0.0   \n",
       "2           0.0           0.0             0.0         0.0              0.0   \n",
       "3           0.0           0.0             0.0         0.0              0.0   \n",
       "4           0.0           0.0             0.0         0.0              0.0   \n",
       "\n",
       "   ...  pos_is_great  pos_is_friendly  pos_is_helpful  pos_is_excellent  \\\n",
       "0  ...           0.0              0.0             0.0               0.0   \n",
       "1  ...           0.0              0.0             0.0               0.0   \n",
       "2  ...           0.0              0.0             0.0               0.0   \n",
       "3  ...           0.0              1.0             0.0               1.0   \n",
       "4  ...           0.0              1.0             1.0               0.0   \n",
       "\n",
       "   pos_is_comf  pos_is_positive  pos_is_lovely  pos_is_perfect  \\\n",
       "0          0.0              0.0            0.0             0.0   \n",
       "1          0.0              0.0            0.0             0.0   \n",
       "2          0.0              1.0            0.0             0.0   \n",
       "3          1.0              0.0            0.0             0.0   \n",
       "4          0.0              0.0            0.0             0.0   \n",
       "\n",
       "   pos_is_service  is Leisure trip  \n",
       "0             0.0              1.0  \n",
       "1             0.0              0.0  \n",
       "2             0.0              1.0  \n",
       "3             0.0              1.0  \n",
       "4             0.0              0.0  \n",
       "\n",
       "[5 rows x 30 columns]"
      ]
     },
     "execution_count": 95,
     "metadata": {},
     "output_type": "execute_result"
    }
   ],
   "source": [
    "kbest_classifier = SelectKBest(score_func=f_classif, k=feat_num)\n",
    "X_kbest = kbest_classifier.fit_transform(X, y)\n",
    "mask = kbest_classifier.get_support()\n",
    "kbest_feats = X.columns[mask]\n",
    "kbest_df = pd.DataFrame(X_kbest, columns=kbest_feats)\n",
    "kbest_df.head()"
   ]
  },
  {
   "cell_type": "markdown",
   "metadata": {},
   "source": [
    "## Model creation"
   ]
  },
  {
   "cell_type": "code",
   "execution_count": 96,
   "metadata": {},
   "outputs": [],
   "source": [
    "from sklearn.model_selection import train_test_split"
   ]
  },
  {
   "cell_type": "code",
   "execution_count": 97,
   "metadata": {},
   "outputs": [],
   "source": [
    "# Split the data on test and train samples \n",
    "X_train, X_test, y_train, y_test = train_test_split(kbest_df, y, test_size=0.25, random_state=42)"
   ]
  },
  {
   "cell_type": "code",
   "execution_count": 98,
   "metadata": {},
   "outputs": [],
   "source": [
    "from sklearn.ensemble import RandomForestRegressor\n",
    "from sklearn import metrics"
   ]
  },
  {
   "cell_type": "code",
   "execution_count": 99,
   "metadata": {},
   "outputs": [],
   "source": [
    "# Model creation \n",
    "regr = RandomForestRegressor(n_estimators=100)"
   ]
  },
  {
   "cell_type": "code",
   "execution_count": 100,
   "metadata": {},
   "outputs": [
    {
     "data": {
      "text/html": [
       "<style>#sk-container-id-1 {color: black;}#sk-container-id-1 pre{padding: 0;}#sk-container-id-1 div.sk-toggleable {background-color: white;}#sk-container-id-1 label.sk-toggleable__label {cursor: pointer;display: block;width: 100%;margin-bottom: 0;padding: 0.3em;box-sizing: border-box;text-align: center;}#sk-container-id-1 label.sk-toggleable__label-arrow:before {content: \"▸\";float: left;margin-right: 0.25em;color: #696969;}#sk-container-id-1 label.sk-toggleable__label-arrow:hover:before {color: black;}#sk-container-id-1 div.sk-estimator:hover label.sk-toggleable__label-arrow:before {color: black;}#sk-container-id-1 div.sk-toggleable__content {max-height: 0;max-width: 0;overflow: hidden;text-align: left;background-color: #f0f8ff;}#sk-container-id-1 div.sk-toggleable__content pre {margin: 0.2em;color: black;border-radius: 0.25em;background-color: #f0f8ff;}#sk-container-id-1 input.sk-toggleable__control:checked~div.sk-toggleable__content {max-height: 200px;max-width: 100%;overflow: auto;}#sk-container-id-1 input.sk-toggleable__control:checked~label.sk-toggleable__label-arrow:before {content: \"▾\";}#sk-container-id-1 div.sk-estimator input.sk-toggleable__control:checked~label.sk-toggleable__label {background-color: #d4ebff;}#sk-container-id-1 div.sk-label input.sk-toggleable__control:checked~label.sk-toggleable__label {background-color: #d4ebff;}#sk-container-id-1 input.sk-hidden--visually {border: 0;clip: rect(1px 1px 1px 1px);clip: rect(1px, 1px, 1px, 1px);height: 1px;margin: -1px;overflow: hidden;padding: 0;position: absolute;width: 1px;}#sk-container-id-1 div.sk-estimator {font-family: monospace;background-color: #f0f8ff;border: 1px dotted black;border-radius: 0.25em;box-sizing: border-box;margin-bottom: 0.5em;}#sk-container-id-1 div.sk-estimator:hover {background-color: #d4ebff;}#sk-container-id-1 div.sk-parallel-item::after {content: \"\";width: 100%;border-bottom: 1px solid gray;flex-grow: 1;}#sk-container-id-1 div.sk-label:hover label.sk-toggleable__label {background-color: #d4ebff;}#sk-container-id-1 div.sk-serial::before {content: \"\";position: absolute;border-left: 1px solid gray;box-sizing: border-box;top: 0;bottom: 0;left: 50%;z-index: 0;}#sk-container-id-1 div.sk-serial {display: flex;flex-direction: column;align-items: center;background-color: white;padding-right: 0.2em;padding-left: 0.2em;position: relative;}#sk-container-id-1 div.sk-item {position: relative;z-index: 1;}#sk-container-id-1 div.sk-parallel {display: flex;align-items: stretch;justify-content: center;background-color: white;position: relative;}#sk-container-id-1 div.sk-item::before, #sk-container-id-1 div.sk-parallel-item::before {content: \"\";position: absolute;border-left: 1px solid gray;box-sizing: border-box;top: 0;bottom: 0;left: 50%;z-index: -1;}#sk-container-id-1 div.sk-parallel-item {display: flex;flex-direction: column;z-index: 1;position: relative;background-color: white;}#sk-container-id-1 div.sk-parallel-item:first-child::after {align-self: flex-end;width: 50%;}#sk-container-id-1 div.sk-parallel-item:last-child::after {align-self: flex-start;width: 50%;}#sk-container-id-1 div.sk-parallel-item:only-child::after {width: 0;}#sk-container-id-1 div.sk-dashed-wrapped {border: 1px dashed gray;margin: 0 0.4em 0.5em 0.4em;box-sizing: border-box;padding-bottom: 0.4em;background-color: white;}#sk-container-id-1 div.sk-label label {font-family: monospace;font-weight: bold;display: inline-block;line-height: 1.2em;}#sk-container-id-1 div.sk-label-container {text-align: center;}#sk-container-id-1 div.sk-container {/* jupyter's `normalize.less` sets `[hidden] { display: none; }` but bootstrap.min.css set `[hidden] { display: none !important; }` so we also need the `!important` here to be able to override the default hidden behavior on the sphinx rendered scikit-learn.org. See: https://github.com/scikit-learn/scikit-learn/issues/21755 */display: inline-block !important;position: relative;}#sk-container-id-1 div.sk-text-repr-fallback {display: none;}</style><div id=\"sk-container-id-1\" class=\"sk-top-container\"><div class=\"sk-text-repr-fallback\"><pre>RandomForestRegressor()</pre><b>In a Jupyter environment, please rerun this cell to show the HTML representation or trust the notebook. <br />On GitHub, the HTML representation is unable to render, please try loading this page with nbviewer.org.</b></div><div class=\"sk-container\" hidden><div class=\"sk-item\"><div class=\"sk-estimator sk-toggleable\"><input class=\"sk-toggleable__control sk-hidden--visually\" id=\"sk-estimator-id-1\" type=\"checkbox\" checked><label for=\"sk-estimator-id-1\" class=\"sk-toggleable__label sk-toggleable__label-arrow\">RandomForestRegressor</label><div class=\"sk-toggleable__content\"><pre>RandomForestRegressor()</pre></div></div></div></div></div>"
      ],
      "text/plain": [
       "RandomForestRegressor()"
      ]
     },
     "execution_count": 100,
     "metadata": {},
     "output_type": "execute_result"
    }
   ],
   "source": [
    "# Learn the model on test sample\n",
    "regr.fit(X_train, y_train)  "
   ]
  },
  {
   "cell_type": "code",
   "execution_count": 101,
   "metadata": {},
   "outputs": [
    {
     "name": "stdout",
     "output_type": "stream",
     "text": [
      "MAPE: 13.200 %\n"
     ]
    }
   ],
   "source": [
    "# Hotel rating prediction\n",
    "y_pred = regr.predict(X_test)\n",
    "# MAPE value\n",
    "print(f'MAPE: {metrics.mean_absolute_percentage_error(y_test, y_pred) * 100:.3f} %')"
   ]
  }
 ],
 "metadata": {
  "kernelspec": {
   "display_name": "Python 3",
   "language": "python",
   "name": "python3"
  },
  "language_info": {
   "codemirror_mode": {
    "name": "ipython",
    "version": 3
   },
   "file_extension": ".py",
   "mimetype": "text/x-python",
   "name": "python",
   "nbconvert_exporter": "python",
   "pygments_lexer": "ipython3",
   "version": "3.11.4"
  }
 },
 "nbformat": 4,
 "nbformat_minor": 2
}
