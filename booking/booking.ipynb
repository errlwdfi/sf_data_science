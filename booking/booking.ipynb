{
 "cells": [
  {
   "cell_type": "markdown",
   "metadata": {},
   "source": [
    "# Project 3: Feature Engineering"
   ]
  },
  {
   "cell_type": "code",
   "execution_count": 1,
   "metadata": {},
   "outputs": [],
   "source": [
    "import pandas as pd\n",
    "import numpy as np\n",
    "import re\n",
    "import plotly.express as px\n",
    "import plotly.figure_factory as ff\n",
    "import plotly.graph_objects as go\n",
    "from plotly.subplots import make_subplots"
   ]
  },
  {
   "cell_type": "markdown",
   "metadata": {},
   "source": [
    "## Dataframe preparation"
   ]
  },
  {
   "cell_type": "code",
   "execution_count": 2,
   "metadata": {},
   "outputs": [
    {
     "data": {
      "text/html": [
       "<div>\n",
       "<style scoped>\n",
       "    .dataframe tbody tr th:only-of-type {\n",
       "        vertical-align: middle;\n",
       "    }\n",
       "\n",
       "    .dataframe tbody tr th {\n",
       "        vertical-align: top;\n",
       "    }\n",
       "\n",
       "    .dataframe thead th {\n",
       "        text-align: right;\n",
       "    }\n",
       "</style>\n",
       "<table border=\"1\" class=\"dataframe\">\n",
       "  <thead>\n",
       "    <tr style=\"text-align: right;\">\n",
       "      <th></th>\n",
       "      <th>hotel_address</th>\n",
       "      <th>additional_number_of_scoring</th>\n",
       "      <th>review_date</th>\n",
       "      <th>average_score</th>\n",
       "      <th>hotel_name</th>\n",
       "      <th>reviewer_nationality</th>\n",
       "      <th>negative_review</th>\n",
       "      <th>review_total_negative_word_counts</th>\n",
       "      <th>total_number_of_reviews</th>\n",
       "      <th>positive_review</th>\n",
       "      <th>review_total_positive_word_counts</th>\n",
       "      <th>total_number_of_reviews_reviewer_has_given</th>\n",
       "      <th>reviewer_score</th>\n",
       "      <th>tags</th>\n",
       "      <th>days_since_review</th>\n",
       "      <th>lat</th>\n",
       "      <th>lng</th>\n",
       "    </tr>\n",
       "  </thead>\n",
       "  <tbody>\n",
       "    <tr>\n",
       "      <th>0</th>\n",
       "      <td>Stratton Street Mayfair Westminster Borough Lo...</td>\n",
       "      <td>581</td>\n",
       "      <td>2/19/2016</td>\n",
       "      <td>8.4</td>\n",
       "      <td>The May Fair Hotel</td>\n",
       "      <td>United Kingdom</td>\n",
       "      <td>Leaving</td>\n",
       "      <td>3</td>\n",
       "      <td>1994</td>\n",
       "      <td>Staff were amazing</td>\n",
       "      <td>4</td>\n",
       "      <td>7</td>\n",
       "      <td>10.0</td>\n",
       "      <td>[' Leisure trip ', ' Couple ', ' Studio Suite ...</td>\n",
       "      <td>531 day</td>\n",
       "      <td>51.507894</td>\n",
       "      <td>-0.143671</td>\n",
       "    </tr>\n",
       "    <tr>\n",
       "      <th>1</th>\n",
       "      <td>130 134 Southampton Row Camden London WC1B 5AF...</td>\n",
       "      <td>299</td>\n",
       "      <td>1/12/2017</td>\n",
       "      <td>8.3</td>\n",
       "      <td>Mercure London Bloomsbury Hotel</td>\n",
       "      <td>United Kingdom</td>\n",
       "      <td>poor breakfast</td>\n",
       "      <td>3</td>\n",
       "      <td>1361</td>\n",
       "      <td>location</td>\n",
       "      <td>2</td>\n",
       "      <td>14</td>\n",
       "      <td>6.3</td>\n",
       "      <td>[' Business trip ', ' Couple ', ' Standard Dou...</td>\n",
       "      <td>203 day</td>\n",
       "      <td>51.521009</td>\n",
       "      <td>-0.123097</td>\n",
       "    </tr>\n",
       "    <tr>\n",
       "      <th>2</th>\n",
       "      <td>151 bis Rue de Rennes 6th arr 75006 Paris France</td>\n",
       "      <td>32</td>\n",
       "      <td>10/18/2016</td>\n",
       "      <td>8.9</td>\n",
       "      <td>Legend Saint Germain by Elegancia</td>\n",
       "      <td>China</td>\n",
       "      <td>No kettle in room</td>\n",
       "      <td>6</td>\n",
       "      <td>406</td>\n",
       "      <td>No Positive</td>\n",
       "      <td>0</td>\n",
       "      <td>14</td>\n",
       "      <td>7.5</td>\n",
       "      <td>[' Leisure trip ', ' Solo traveler ', ' Modern...</td>\n",
       "      <td>289 day</td>\n",
       "      <td>48.845377</td>\n",
       "      <td>2.325643</td>\n",
       "    </tr>\n",
       "    <tr>\n",
       "      <th>3</th>\n",
       "      <td>216 Avenue Jean Jaures 19th arr 75019 Paris Fr...</td>\n",
       "      <td>34</td>\n",
       "      <td>9/22/2015</td>\n",
       "      <td>7.5</td>\n",
       "      <td>Mercure Paris 19 Philharmonie La Villette</td>\n",
       "      <td>United Kingdom</td>\n",
       "      <td>No Negative</td>\n",
       "      <td>0</td>\n",
       "      <td>607</td>\n",
       "      <td>Friendly staff quiet comfortable room spotles...</td>\n",
       "      <td>11</td>\n",
       "      <td>8</td>\n",
       "      <td>10.0</td>\n",
       "      <td>[' Leisure trip ', ' Solo traveler ', ' Standa...</td>\n",
       "      <td>681 day</td>\n",
       "      <td>48.888697</td>\n",
       "      <td>2.394540</td>\n",
       "    </tr>\n",
       "    <tr>\n",
       "      <th>4</th>\n",
       "      <td>Molenwerf 1 1014 AG Amsterdam Netherlands</td>\n",
       "      <td>914</td>\n",
       "      <td>3/5/2016</td>\n",
       "      <td>8.5</td>\n",
       "      <td>Golden Tulip Amsterdam West</td>\n",
       "      <td>Poland</td>\n",
       "      <td>Torn sheets</td>\n",
       "      <td>4</td>\n",
       "      <td>7586</td>\n",
       "      <td>The staff was very friendly and helpful Break...</td>\n",
       "      <td>20</td>\n",
       "      <td>10</td>\n",
       "      <td>9.6</td>\n",
       "      <td>[' Business trip ', ' Couple ', ' Standard Dou...</td>\n",
       "      <td>516 day</td>\n",
       "      <td>52.385601</td>\n",
       "      <td>4.847060</td>\n",
       "    </tr>\n",
       "  </tbody>\n",
       "</table>\n",
       "</div>"
      ],
      "text/plain": [
       "                                       hotel_address  \\\n",
       "0  Stratton Street Mayfair Westminster Borough Lo...   \n",
       "1  130 134 Southampton Row Camden London WC1B 5AF...   \n",
       "2   151 bis Rue de Rennes 6th arr 75006 Paris France   \n",
       "3  216 Avenue Jean Jaures 19th arr 75019 Paris Fr...   \n",
       "4          Molenwerf 1 1014 AG Amsterdam Netherlands   \n",
       "\n",
       "   additional_number_of_scoring review_date  average_score  \\\n",
       "0                           581   2/19/2016            8.4   \n",
       "1                           299   1/12/2017            8.3   \n",
       "2                            32  10/18/2016            8.9   \n",
       "3                            34   9/22/2015            7.5   \n",
       "4                           914    3/5/2016            8.5   \n",
       "\n",
       "                                  hotel_name reviewer_nationality  \\\n",
       "0                         The May Fair Hotel      United Kingdom    \n",
       "1            Mercure London Bloomsbury Hotel      United Kingdom    \n",
       "2          Legend Saint Germain by Elegancia               China    \n",
       "3  Mercure Paris 19 Philharmonie La Villette      United Kingdom    \n",
       "4                Golden Tulip Amsterdam West              Poland    \n",
       "\n",
       "       negative_review  review_total_negative_word_counts  \\\n",
       "0             Leaving                                   3   \n",
       "1       poor breakfast                                  3   \n",
       "2   No kettle in room                                   6   \n",
       "3          No Negative                                  0   \n",
       "4         Torn sheets                                   4   \n",
       "\n",
       "   total_number_of_reviews                                    positive_review  \\\n",
       "0                     1994                                 Staff were amazing   \n",
       "1                     1361                                           location   \n",
       "2                      406                                        No Positive   \n",
       "3                      607   Friendly staff quiet comfortable room spotles...   \n",
       "4                     7586   The staff was very friendly and helpful Break...   \n",
       "\n",
       "   review_total_positive_word_counts  \\\n",
       "0                                  4   \n",
       "1                                  2   \n",
       "2                                  0   \n",
       "3                                 11   \n",
       "4                                 20   \n",
       "\n",
       "   total_number_of_reviews_reviewer_has_given  reviewer_score  \\\n",
       "0                                           7            10.0   \n",
       "1                                          14             6.3   \n",
       "2                                          14             7.5   \n",
       "3                                           8            10.0   \n",
       "4                                          10             9.6   \n",
       "\n",
       "                                                tags days_since_review  \\\n",
       "0  [' Leisure trip ', ' Couple ', ' Studio Suite ...           531 day   \n",
       "1  [' Business trip ', ' Couple ', ' Standard Dou...           203 day   \n",
       "2  [' Leisure trip ', ' Solo traveler ', ' Modern...           289 day   \n",
       "3  [' Leisure trip ', ' Solo traveler ', ' Standa...           681 day   \n",
       "4  [' Business trip ', ' Couple ', ' Standard Dou...           516 day   \n",
       "\n",
       "         lat       lng  \n",
       "0  51.507894 -0.143671  \n",
       "1  51.521009 -0.123097  \n",
       "2  48.845377  2.325643  \n",
       "3  48.888697  2.394540  \n",
       "4  52.385601  4.847060  "
      ]
     },
     "execution_count": 2,
     "metadata": {},
     "output_type": "execute_result"
    }
   ],
   "source": [
    "hotels = pd.read_csv('data/hotels.csv')\n",
    "hotels.head()"
   ]
  },
  {
   "cell_type": "code",
   "execution_count": 3,
   "metadata": {},
   "outputs": [],
   "source": [
    "# X - features for training, y - target (hotel rating) \n",
    "X = hotels.drop(['reviewer_score'], axis = 1)\n",
    "y = hotels['reviewer_score']"
   ]
  },
  {
   "cell_type": "code",
   "execution_count": 4,
   "metadata": {},
   "outputs": [
    {
     "name": "stdout",
     "output_type": "stream",
     "text": [
      "<class 'pandas.core.frame.DataFrame'>\n",
      "RangeIndex: 386803 entries, 0 to 386802\n",
      "Data columns (total 16 columns):\n",
      " #   Column                                      Non-Null Count   Dtype  \n",
      "---  ------                                      --------------   -----  \n",
      " 0   hotel_address                               386803 non-null  object \n",
      " 1   additional_number_of_scoring                386803 non-null  int64  \n",
      " 2   review_date                                 386803 non-null  object \n",
      " 3   average_score                               386803 non-null  float64\n",
      " 4   hotel_name                                  386803 non-null  object \n",
      " 5   reviewer_nationality                        386803 non-null  object \n",
      " 6   negative_review                             386803 non-null  object \n",
      " 7   review_total_negative_word_counts           386803 non-null  int64  \n",
      " 8   total_number_of_reviews                     386803 non-null  int64  \n",
      " 9   positive_review                             386803 non-null  object \n",
      " 10  review_total_positive_word_counts           386803 non-null  int64  \n",
      " 11  total_number_of_reviews_reviewer_has_given  386803 non-null  int64  \n",
      " 12  tags                                        386803 non-null  object \n",
      " 13  days_since_review                           386803 non-null  object \n",
      " 14  lat                                         384355 non-null  float64\n",
      " 15  lng                                         384355 non-null  float64\n",
      "dtypes: float64(3), int64(5), object(8)\n",
      "memory usage: 47.2+ MB\n"
     ]
    }
   ],
   "source": [
    "X.info()"
   ]
  },
  {
   "cell_type": "markdown",
   "metadata": {},
   "source": [
    "## Feature engineering"
   ]
  },
  {
   "cell_type": "markdown",
   "metadata": {},
   "source": [
    "### Hotel Address"
   ]
  },
  {
   "cell_type": "markdown",
   "metadata": {},
   "source": [
    "Extract information about city"
   ]
  },
  {
   "cell_type": "code",
   "execution_count": 5,
   "metadata": {},
   "outputs": [
    {
     "data": {
      "text/plain": [
       "city\n",
       "London       50.871891\n",
       "Barcelona    11.667955\n",
       "Paris        11.589879\n",
       "Amsterdam    11.118321\n",
       "Vienna        7.543375\n",
       "Milan         7.208579\n",
       "Name: proportion, dtype: float64"
      ]
     },
     "execution_count": 5,
     "metadata": {},
     "output_type": "execute_result"
    }
   ],
   "source": [
    "X['city'] = X['hotel_address'].apply(lambda x: x.split()[-5] if 'United Kingdom' in x \\\n",
    "    else x.split()[-2])\n",
    "X['city'].value_counts(True) * 100"
   ]
  },
  {
   "cell_type": "markdown",
   "metadata": {},
   "source": [
    "Encoding"
   ]
  },
  {
   "cell_type": "code",
   "execution_count": 6,
   "metadata": {},
   "outputs": [],
   "source": [
    "import category_encoders as ce"
   ]
  },
  {
   "cell_type": "code",
   "execution_count": 7,
   "metadata": {},
   "outputs": [],
   "source": [
    "encoder = ce.OneHotEncoder(cols=['city'], use_cat_names=True)\n",
    "city_bin = encoder.fit_transform(X['city'])\n",
    "X = pd.concat([X, city_bin], axis=1)"
   ]
  },
  {
   "cell_type": "markdown",
   "metadata": {},
   "source": [
    "### Review date"
   ]
  },
  {
   "cell_type": "markdown",
   "metadata": {},
   "source": [
    "Convert type of data to datetime"
   ]
  },
  {
   "cell_type": "code",
   "execution_count": 8,
   "metadata": {},
   "outputs": [
    {
     "data": {
      "text/plain": [
       "0   2016-02-19\n",
       "1   2017-01-12\n",
       "2   2016-10-18\n",
       "3   2015-09-22\n",
       "4   2016-03-05\n",
       "Name: review_date, dtype: datetime64[ns]"
      ]
     },
     "execution_count": 8,
     "metadata": {},
     "output_type": "execute_result"
    }
   ],
   "source": [
    "X['review_date'] = pd.to_datetime(X['review_date'])\n",
    "X['review_date'].head()"
   ]
  },
  {
   "cell_type": "markdown",
   "metadata": {},
   "source": [
    "Extract information about year, month, day of week, day of month"
   ]
  },
  {
   "cell_type": "code",
   "execution_count": 9,
   "metadata": {},
   "outputs": [
    {
     "data": {
      "text/html": [
       "<div>\n",
       "<style scoped>\n",
       "    .dataframe tbody tr th:only-of-type {\n",
       "        vertical-align: middle;\n",
       "    }\n",
       "\n",
       "    .dataframe tbody tr th {\n",
       "        vertical-align: top;\n",
       "    }\n",
       "\n",
       "    .dataframe thead th {\n",
       "        text-align: right;\n",
       "    }\n",
       "</style>\n",
       "<table border=\"1\" class=\"dataframe\">\n",
       "  <thead>\n",
       "    <tr style=\"text-align: right;\">\n",
       "      <th></th>\n",
       "      <th>review_year</th>\n",
       "      <th>review_month</th>\n",
       "      <th>review_day_week</th>\n",
       "      <th>review_day_month</th>\n",
       "    </tr>\n",
       "  </thead>\n",
       "  <tbody>\n",
       "    <tr>\n",
       "      <th>0</th>\n",
       "      <td>2016</td>\n",
       "      <td>2</td>\n",
       "      <td>4</td>\n",
       "      <td>19</td>\n",
       "    </tr>\n",
       "    <tr>\n",
       "      <th>1</th>\n",
       "      <td>2017</td>\n",
       "      <td>1</td>\n",
       "      <td>3</td>\n",
       "      <td>12</td>\n",
       "    </tr>\n",
       "    <tr>\n",
       "      <th>2</th>\n",
       "      <td>2016</td>\n",
       "      <td>10</td>\n",
       "      <td>1</td>\n",
       "      <td>18</td>\n",
       "    </tr>\n",
       "    <tr>\n",
       "      <th>3</th>\n",
       "      <td>2015</td>\n",
       "      <td>9</td>\n",
       "      <td>1</td>\n",
       "      <td>22</td>\n",
       "    </tr>\n",
       "    <tr>\n",
       "      <th>4</th>\n",
       "      <td>2016</td>\n",
       "      <td>3</td>\n",
       "      <td>5</td>\n",
       "      <td>5</td>\n",
       "    </tr>\n",
       "  </tbody>\n",
       "</table>\n",
       "</div>"
      ],
      "text/plain": [
       "   review_year  review_month  review_day_week  review_day_month\n",
       "0         2016             2                4                19\n",
       "1         2017             1                3                12\n",
       "2         2016            10                1                18\n",
       "3         2015             9                1                22\n",
       "4         2016             3                5                 5"
      ]
     },
     "execution_count": 9,
     "metadata": {},
     "output_type": "execute_result"
    }
   ],
   "source": [
    "X['review_year'] = X['review_date'].dt.year\n",
    "X['review_month'] = X['review_date'].dt.month\n",
    "X['review_day_week'] = X['review_date'].dt.day_of_week\n",
    "X['review_day_month'] = X['review_date'].dt.day\n",
    "X[['review_year', 'review_month', 'review_day_week', 'review_day_month']].head()"
   ]
  },
  {
   "cell_type": "markdown",
   "metadata": {},
   "source": [
    "### Reviewer nationality"
   ]
  },
  {
   "cell_type": "code",
   "execution_count": 10,
   "metadata": {},
   "outputs": [
    {
     "data": {
      "text/plain": [
       "225"
      ]
     },
     "execution_count": 10,
     "metadata": {},
     "output_type": "execute_result"
    }
   ],
   "source": [
    "X['reviewer_nationality'].nunique()"
   ]
  },
  {
   "cell_type": "code",
   "execution_count": 11,
   "metadata": {},
   "outputs": [
    {
     "data": {
      "text/plain": [
       "reviewer_nationality\n",
       " United Kingdom               47.577966\n",
       " United States of America      6.861632\n",
       " Australia                     4.198261\n",
       " Ireland                       2.876400\n",
       " United Arab Emirates          1.969219\n",
       "                                ...    \n",
       " Cook Islands                  0.000259\n",
       " Guinea                        0.000259\n",
       " Comoros                       0.000259\n",
       " Anguilla                      0.000259\n",
       " Grenada                       0.000259\n",
       "Name: proportion, Length: 225, dtype: float64"
      ]
     },
     "execution_count": 11,
     "metadata": {},
     "output_type": "execute_result"
    }
   ],
   "source": [
    "X['reviewer_nationality'].value_counts(True) * 100"
   ]
  },
  {
   "cell_type": "markdown",
   "metadata": {},
   "source": [
    "Create new features representing most common nationalities"
   ]
  },
  {
   "cell_type": "code",
   "execution_count": 12,
   "metadata": {},
   "outputs": [],
   "source": [
    "X['reviewer_from_UK'] = X['reviewer_nationality'].apply(lambda x: 1 if x == 'United Kingdom' else 0)"
   ]
  },
  {
   "cell_type": "markdown",
   "metadata": {},
   "source": [
    "### Hotel name"
   ]
  },
  {
   "cell_type": "code",
   "execution_count": 13,
   "metadata": {},
   "outputs": [
    {
     "data": {
      "text/plain": [
       "1492"
      ]
     },
     "execution_count": 13,
     "metadata": {},
     "output_type": "execute_result"
    }
   ],
   "source": [
    "X['hotel_name'].nunique()"
   ]
  },
  {
   "cell_type": "markdown",
   "metadata": {},
   "source": [
    "Hotel names are completely unique, not much information can be extracted here."
   ]
  },
  {
   "cell_type": "markdown",
   "metadata": {},
   "source": [
    "### Negative review"
   ]
  },
  {
   "cell_type": "code",
   "execution_count": 14,
   "metadata": {},
   "outputs": [
    {
     "data": {
      "text/plain": [
       "248828"
      ]
     },
     "execution_count": 14,
     "metadata": {},
     "output_type": "execute_result"
    }
   ],
   "source": [
    "X['negative_review'].nunique()"
   ]
  },
  {
   "cell_type": "markdown",
   "metadata": {},
   "source": [
    "Some preprocessing operations"
   ]
  },
  {
   "cell_type": "code",
   "execution_count": 15,
   "metadata": {},
   "outputs": [],
   "source": [
    "# Delete redundant spaces and convert text to lowercase\n",
    "X['negative_review'] = X['negative_review'].apply(lambda x: x.strip(' ').lower())"
   ]
  },
  {
   "cell_type": "code",
   "execution_count": 16,
   "metadata": {},
   "outputs": [],
   "source": [
    "# Deal with 's and 't wrong interpretation\n",
    "X['negative_review'] = X['negative_review'].apply(lambda x: x.replace(' t ', 't '))\n",
    "X['negative_review'] = X['negative_review'].apply(lambda x: x.replace(' s ', 's '))"
   ]
  },
  {
   "cell_type": "code",
   "execution_count": 17,
   "metadata": {},
   "outputs": [
    {
     "data": {
      "text/html": [
       "<div>\n",
       "<style scoped>\n",
       "    .dataframe tbody tr th:only-of-type {\n",
       "        vertical-align: middle;\n",
       "    }\n",
       "\n",
       "    .dataframe tbody tr th {\n",
       "        vertical-align: top;\n",
       "    }\n",
       "\n",
       "    .dataframe thead th {\n",
       "        text-align: right;\n",
       "    }\n",
       "</style>\n",
       "<table border=\"1\" class=\"dataframe\">\n",
       "  <thead>\n",
       "    <tr style=\"text-align: right;\">\n",
       "      <th></th>\n",
       "      <th>negative_review</th>\n",
       "      <th>neg_review_wc</th>\n",
       "    </tr>\n",
       "  </thead>\n",
       "  <tbody>\n",
       "    <tr>\n",
       "      <th>0</th>\n",
       "      <td>leaving</td>\n",
       "      <td>1</td>\n",
       "    </tr>\n",
       "    <tr>\n",
       "      <th>1</th>\n",
       "      <td>poor breakfast</td>\n",
       "      <td>2</td>\n",
       "    </tr>\n",
       "    <tr>\n",
       "      <th>2</th>\n",
       "      <td>no kettle in room</td>\n",
       "      <td>4</td>\n",
       "    </tr>\n",
       "    <tr>\n",
       "      <th>3</th>\n",
       "      <td>no negative</td>\n",
       "      <td>2</td>\n",
       "    </tr>\n",
       "    <tr>\n",
       "      <th>4</th>\n",
       "      <td>torn sheets</td>\n",
       "      <td>2</td>\n",
       "    </tr>\n",
       "  </tbody>\n",
       "</table>\n",
       "</div>"
      ],
      "text/plain": [
       "     negative_review  neg_review_wc\n",
       "0            leaving              1\n",
       "1     poor breakfast              2\n",
       "2  no kettle in room              4\n",
       "3        no negative              2\n",
       "4        torn sheets              2"
      ]
     },
     "execution_count": 17,
     "metadata": {},
     "output_type": "execute_result"
    }
   ],
   "source": [
    "# Word counter in negative reviews\n",
    "X['neg_review_wc'] = X['negative_review'].apply(lambda x: len(re.findall(r\"[\\w']+\", x)))\n",
    "X[['negative_review', 'neg_review_wc']].head()"
   ]
  },
  {
   "cell_type": "code",
   "execution_count": 18,
   "metadata": {},
   "outputs": [
    {
     "data": {
      "image/png": "[encoded data removed]"
     },
     "metadata": {},
     "output_type": "display_data"
    }
   ],
   "source": [
    "fig_neg_wc = px.histogram(\n",
    "    X['neg_review_wc'],\n",
    "    height=600,\n",
    "    width=1000,\n",
    "    title=\"Number of words in negative reviews\"\n",
    ")\n",
    "fig_neg_wc.update_layout(showlegend=False)\n",
    "fig_neg_wc.update_yaxes(minor_showgrid=True)\n",
    "fig_neg_wc.layout.xaxis.title.text = 'Number of words'\n",
    "fig_neg_wc.layout.yaxis.title.text = 'Frequency'\n",
    "fig_neg_wc.write_html('images/neg_wc.html')\n",
    "fig_neg_wc.write_image('images/neg_wc.png')\n",
    "fig_neg_wc.show('png')\n",
    "#fig_neg_wc.show()"
   ]
  },
  {
   "cell_type": "markdown",
   "metadata": {},
   "source": [
    "Overwhelming number of reviews consists of very short number of words. Such reviews usually contain no negative content at all. Those of reviews which have long duration typically describe some features displeasing the reviewer."
   ]
  },
  {
   "cell_type": "code",
   "execution_count": 19,
   "metadata": {},
   "outputs": [],
   "source": [
    "neg_review_list = X['negative_review'].apply(lambda x: x.split())"
   ]
  },
  {
   "cell_type": "markdown",
   "metadata": {},
   "source": [
    "The main idea is to match 20 most popular words in negative reviews that can affect the hotel rating."
   ]
  },
  {
   "cell_type": "code",
   "execution_count": 20,
   "metadata": {},
   "outputs": [
    {
     "data": {
      "text/plain": [
       "0                 [leaving]\n",
       "1         [poor, breakfast]\n",
       "2    [no, kettle, in, room]\n",
       "3            [no, negative]\n",
       "4            [torn, sheets]\n",
       "Name: negative_review, dtype: object"
      ]
     },
     "execution_count": 20,
     "metadata": {},
     "output_type": "execute_result"
    }
   ],
   "source": [
    "neg_review_list.head()"
   ]
  },
  {
   "cell_type": "code",
   "execution_count": 21,
   "metadata": {},
   "outputs": [],
   "source": [
    "neg_words_list = neg_review_list.explode()"
   ]
  },
  {
   "cell_type": "code",
   "execution_count": 22,
   "metadata": {},
   "outputs": [
    {
     "data": {
      "text/plain": [
       "0      leaving\n",
       "1         poor\n",
       "1    breakfast\n",
       "2           no\n",
       "2       kettle\n",
       "Name: negative_review, dtype: object"
      ]
     },
     "execution_count": 22,
     "metadata": {},
     "output_type": "execute_result"
    }
   ],
   "source": [
    "neg_words_list.head()"
   ]
  },
  {
   "cell_type": "code",
   "execution_count": 23,
   "metadata": {},
   "outputs": [
    {
     "data": {
      "text/plain": [
       "negative_review\n",
       "the         398192\n",
       "was         177297\n",
       "a           172589\n",
       "to          171717\n",
       "and         164233\n",
       "no          148333\n",
       "room        131762\n",
       "in          126317\n",
       "negative     97092\n",
       "not          94356\n",
       "i            91828\n",
       "of           90435\n",
       "for          88102\n",
       "we           74440\n",
       "it           73800\n",
       "is           61684\n",
       "very         60354\n",
       "but          56657\n",
       "hotel        55303\n",
       "on           51545\n",
       "Name: count, dtype: int64"
      ]
     },
     "execution_count": 23,
     "metadata": {},
     "output_type": "execute_result"
    }
   ],
   "source": [
    "neg_words_cnt = pd.value_counts(neg_words_list)\n",
    "neg_words_cnt.head(20)"
   ]
  },
  {
   "cell_type": "code",
   "execution_count": 24,
   "metadata": {},
   "outputs": [],
   "source": [
    "neg_words_cnt.drop(['the', 'was', 'a', 'to', 'and', 'no', 'in', 'negative', 'not', 'i', 'of', 'for', 'it', 'we', 'is', \\\n",
    "    'very', 'but', 't'], inplace=True)"
   ]
  },
  {
   "cell_type": "code",
   "execution_count": 25,
   "metadata": {},
   "outputs": [
    {
     "data": {
      "text/plain": [
       "negative_review\n",
       "room         131762\n",
       "hotel         55303\n",
       "on            51545\n",
       "were          46211\n",
       "at            45899\n",
       "had           45187\n",
       "breakfast     43514\n",
       "that          42439\n",
       "have          41054\n",
       "with          38967\n",
       "small         37369\n",
       "be            33941\n",
       "there         33833\n",
       "as            33012\n",
       "they          31853\n",
       "you           30422\n",
       "from          30079\n",
       "this          29789\n",
       "staff         29605\n",
       "so            29575\n",
       "Name: count, dtype: int64"
      ]
     },
     "execution_count": 25,
     "metadata": {},
     "output_type": "execute_result"
    }
   ],
   "source": [
    "neg_words_cnt.head(20)"
   ]
  },
  {
   "cell_type": "code",
   "execution_count": 26,
   "metadata": {},
   "outputs": [],
   "source": [
    "neg_words_cnt.drop(['hotel', 'on', 'were', 'at', 'had', 'that', 'have', 'with', 'there', 'be', 'as', 'they', \\\n",
    "    'you', 'from', 'this', 'so'], inplace=True)"
   ]
  },
  {
   "cell_type": "code",
   "execution_count": 27,
   "metadata": {},
   "outputs": [
    {
     "data": {
      "text/plain": [
       "negative_review\n",
       "room         131762\n",
       "breakfast     43514\n",
       "small         37369\n",
       "staff         29605\n",
       "my            29134\n",
       "nothing       29011\n",
       "rooms         26424\n",
       "our           25498\n",
       "would         24315\n",
       "could         24015\n",
       "when          23213\n",
       "bed           22270\n",
       "are           21973\n",
       "all           21761\n",
       "too           21585\n",
       "didnt         21438\n",
       "only          21034\n",
       "one           20993\n",
       "bit           20583\n",
       "out           20232\n",
       "Name: count, dtype: int64"
      ]
     },
     "execution_count": 27,
     "metadata": {},
     "output_type": "execute_result"
    }
   ],
   "source": [
    "neg_words_cnt.head(20)"
   ]
  },
  {
   "cell_type": "code",
   "execution_count": 28,
   "metadata": {},
   "outputs": [],
   "source": [
    "neg_words_cnt.drop(['my', 'rooms', 'our', 'would', 'could', 'when', 'are', 'all', 'too', 'one', 'only', 'bit', 'out'], inplace=True)"
   ]
  },
  {
   "cell_type": "code",
   "execution_count": 29,
   "metadata": {},
   "outputs": [
    {
     "data": {
      "text/plain": [
       "negative_review\n",
       "room         131762\n",
       "breakfast     43514\n",
       "small         37369\n",
       "staff         29605\n",
       "nothing       29011\n",
       "bed           22270\n",
       "didnt         21438\n",
       "bathroom      19976\n",
       "which         19549\n",
       "night         17828\n",
       "like          16799\n",
       "little        16779\n",
       "or            16696\n",
       "if            16059\n",
       "shower        15956\n",
       "good          15577\n",
       "an            15566\n",
       "been          15328\n",
       "us            15321\n",
       "more          15236\n",
       "Name: count, dtype: int64"
      ]
     },
     "execution_count": 29,
     "metadata": {},
     "output_type": "execute_result"
    }
   ],
   "source": [
    "neg_words_cnt.head(20)"
   ]
  },
  {
   "cell_type": "code",
   "execution_count": 30,
   "metadata": {},
   "outputs": [],
   "source": [
    "neg_words_cnt.drop(['didnt', 'which', 'night', 'or', 'if', 'an', 'been', 'us', 'more'], inplace=True)"
   ]
  },
  {
   "cell_type": "code",
   "execution_count": 31,
   "metadata": {},
   "outputs": [
    {
     "data": {
      "text/plain": [
       "negative_review\n",
       "room         131762\n",
       "breakfast     43514\n",
       "small         37369\n",
       "staff         29605\n",
       "nothing       29011\n",
       "bed           22270\n",
       "bathroom      19976\n",
       "like          16799\n",
       "little        16779\n",
       "shower        15956\n",
       "good          15577\n",
       "did           15097\n",
       "get           14707\n",
       "up            14690\n",
       "service       14513\n",
       "bar           14414\n",
       "me            13811\n",
       "stay          13158\n",
       "time          13125\n",
       "expensive     12510\n",
       "Name: count, dtype: int64"
      ]
     },
     "execution_count": 31,
     "metadata": {},
     "output_type": "execute_result"
    }
   ],
   "source": [
    "neg_words_cnt.head(20)"
   ]
  },
  {
   "cell_type": "code",
   "execution_count": 32,
   "metadata": {},
   "outputs": [],
   "source": [
    "neg_words_cnt.drop(['did', 'get', 'up', 'me', 'stay', 'time'], inplace=True)"
   ]
  },
  {
   "cell_type": "code",
   "execution_count": 33,
   "metadata": {},
   "outputs": [
    {
     "data": {
      "text/plain": [
       "negative_review\n",
       "room         131762\n",
       "breakfast     43514\n",
       "small         37369\n",
       "staff         29605\n",
       "nothing       29011\n",
       "bed           22270\n",
       "bathroom      19976\n",
       "like          16799\n",
       "little        16779\n",
       "shower        15956\n",
       "good          15577\n",
       "service       14513\n",
       "bar           14414\n",
       "expensive     12510\n",
       "reception     12509\n",
       "really        12378\n",
       "also          12373\n",
       "just          12282\n",
       "some          12275\n",
       "poor          12103\n",
       "Name: count, dtype: int64"
      ]
     },
     "execution_count": 33,
     "metadata": {},
     "output_type": "execute_result"
    }
   ],
   "source": [
    "neg_words_cnt.head(20)"
   ]
  },
  {
   "cell_type": "code",
   "execution_count": 34,
   "metadata": {},
   "outputs": [],
   "source": [
    "neg_words_cnt.drop(['really', 'also', 'just', 'some'], inplace=True)"
   ]
  },
  {
   "cell_type": "code",
   "execution_count": 35,
   "metadata": {},
   "outputs": [
    {
     "data": {
      "text/plain": [
       "negative_review\n",
       "room         131762\n",
       "breakfast     43514\n",
       "small         37369\n",
       "staff         29605\n",
       "nothing       29011\n",
       "bed           22270\n",
       "bathroom      19976\n",
       "like          16799\n",
       "little        16779\n",
       "shower        15956\n",
       "good          15577\n",
       "service       14513\n",
       "bar           14414\n",
       "expensive     12510\n",
       "reception     12509\n",
       "poor          12103\n",
       "even          11580\n",
       "price         11560\n",
       "by            11540\n",
       "check         11495\n",
       "Name: count, dtype: int64"
      ]
     },
     "execution_count": 35,
     "metadata": {},
     "output_type": "execute_result"
    }
   ],
   "source": [
    "neg_words_cnt.head(20)"
   ]
  },
  {
   "cell_type": "code",
   "execution_count": 36,
   "metadata": {},
   "outputs": [],
   "source": [
    "neg_words_cnt.drop(['even', 'by', 'check'], inplace=True)"
   ]
  },
  {
   "cell_type": "code",
   "execution_count": 37,
   "metadata": {},
   "outputs": [
    {
     "data": {
      "text/plain": [
       "negative_review\n",
       "room         131762\n",
       "breakfast     43514\n",
       "small         37369\n",
       "staff         29605\n",
       "nothing       29011\n",
       "bed           22270\n",
       "bathroom      19976\n",
       "like          16799\n",
       "little        16779\n",
       "shower        15956\n",
       "good          15577\n",
       "service       14513\n",
       "bar           14414\n",
       "expensive     12510\n",
       "reception     12509\n",
       "poor          12103\n",
       "price         11560\n",
       "day           11303\n",
       "wasnt         11285\n",
       "floor         11190\n",
       "Name: count, dtype: int64"
      ]
     },
     "execution_count": 37,
     "metadata": {},
     "output_type": "execute_result"
    }
   ],
   "source": [
    "neg_words_cnt.head(20)"
   ]
  },
  {
   "cell_type": "code",
   "execution_count": 38,
   "metadata": {},
   "outputs": [],
   "source": [
    "neg_words_cnt.drop(['can'], inplace=True)"
   ]
  },
  {
   "cell_type": "code",
   "execution_count": 39,
   "metadata": {},
   "outputs": [],
   "source": [
    "negative_tags = list(neg_words_cnt[:20].index)"
   ]
  },
  {
   "cell_type": "markdown",
   "metadata": {},
   "source": [
    "Generate some new features that marks presence or absence of word in review."
   ]
  },
  {
   "cell_type": "code",
   "execution_count": 40,
   "metadata": {},
   "outputs": [],
   "source": [
    "for tag in negative_tags:\n",
    "    X['neg_is_' + tag] = X['negative_review'].apply(lambda x: 1 if tag in x else 0)"
   ]
  },
  {
   "cell_type": "markdown",
   "metadata": {},
   "source": [
    "### Positive review"
   ]
  },
  {
   "cell_type": "code",
   "execution_count": 41,
   "metadata": {},
   "outputs": [
    {
     "data": {
      "text/plain": [
       "311737"
      ]
     },
     "execution_count": 41,
     "metadata": {},
     "output_type": "execute_result"
    }
   ],
   "source": [
    "X['positive_review'].nunique()"
   ]
  },
  {
   "cell_type": "markdown",
   "metadata": {},
   "source": [
    "Preprocessing"
   ]
  },
  {
   "cell_type": "code",
   "execution_count": 42,
   "metadata": {},
   "outputs": [],
   "source": [
    "X['positive_review'] = X['positive_review'].apply(lambda x: x.strip(' ').lower())"
   ]
  },
  {
   "cell_type": "code",
   "execution_count": 43,
   "metadata": {},
   "outputs": [],
   "source": [
    "X['positive_review'] = X['positive_review'].apply(lambda x: x.replace(' t ', 't '))\n",
    "X['positive_review'] = X['positive_review'].apply(lambda x: x.replace(' s ', 's '))"
   ]
  },
  {
   "cell_type": "markdown",
   "metadata": {},
   "source": [
    "Word counter"
   ]
  },
  {
   "cell_type": "code",
   "execution_count": 44,
   "metadata": {},
   "outputs": [
    {
     "data": {
      "text/html": [
       "<div>\n",
       "<style scoped>\n",
       "    .dataframe tbody tr th:only-of-type {\n",
       "        vertical-align: middle;\n",
       "    }\n",
       "\n",
       "    .dataframe tbody tr th {\n",
       "        vertical-align: top;\n",
       "    }\n",
       "\n",
       "    .dataframe thead th {\n",
       "        text-align: right;\n",
       "    }\n",
       "</style>\n",
       "<table border=\"1\" class=\"dataframe\">\n",
       "  <thead>\n",
       "    <tr style=\"text-align: right;\">\n",
       "      <th></th>\n",
       "      <th>positive_review</th>\n",
       "      <th>pos_review_wc</th>\n",
       "    </tr>\n",
       "  </thead>\n",
       "  <tbody>\n",
       "    <tr>\n",
       "      <th>0</th>\n",
       "      <td>staff were amazing</td>\n",
       "      <td>3</td>\n",
       "    </tr>\n",
       "    <tr>\n",
       "      <th>1</th>\n",
       "      <td>location</td>\n",
       "      <td>1</td>\n",
       "    </tr>\n",
       "    <tr>\n",
       "      <th>2</th>\n",
       "      <td>no positive</td>\n",
       "      <td>2</td>\n",
       "    </tr>\n",
       "    <tr>\n",
       "      <th>3</th>\n",
       "      <td>friendly staff quiet comfortable room spotless...</td>\n",
       "      <td>9</td>\n",
       "    </tr>\n",
       "    <tr>\n",
       "      <th>4</th>\n",
       "      <td>the staff was very friendly and helpful breakf...</td>\n",
       "      <td>18</td>\n",
       "    </tr>\n",
       "  </tbody>\n",
       "</table>\n",
       "</div>"
      ],
      "text/plain": [
       "                                     positive_review  pos_review_wc\n",
       "0                                 staff were amazing              3\n",
       "1                                           location              1\n",
       "2                                        no positive              2\n",
       "3  friendly staff quiet comfortable room spotless...              9\n",
       "4  the staff was very friendly and helpful breakf...             18"
      ]
     },
     "execution_count": 44,
     "metadata": {},
     "output_type": "execute_result"
    }
   ],
   "source": [
    "X['pos_review_wc'] = X['positive_review'].apply(lambda x: len(re.findall(r\"[\\w']+\", x)))\n",
    "X[['positive_review', 'pos_review_wc']].head()"
   ]
  },
  {
   "cell_type": "code",
   "execution_count": 45,
   "metadata": {},
   "outputs": [
    {
     "data": {
      "image/png": "[encoded data removed]"
     },
     "metadata": {},
     "output_type": "display_data"
    }
   ],
   "source": [
    "fig_pos_wc = px.histogram(\n",
    "    X['pos_review_wc'],\n",
    "    height=600,\n",
    "    width=1000,\n",
    "    title=\"Number of words in positive reviews\"\n",
    ")\n",
    "fig_pos_wc.update_layout(showlegend=False)\n",
    "fig_pos_wc.update_yaxes(minor_showgrid=True)\n",
    "fig_pos_wc.layout.xaxis.title.text = 'Number of words'\n",
    "fig_pos_wc.layout.yaxis.title.text = 'Frequency'\n",
    "fig_pos_wc.write_html('images/pos_wc.html')\n",
    "fig_pos_wc.write_image('images/pos_wc.png')\n",
    "fig_pos_wc.show('png')\n",
    "#fig_pos_wc.show()"
   ]
  },
  {
   "cell_type": "markdown",
   "metadata": {},
   "source": [
    "The dependance is more smooth than that of negative reviews. Again most of reviews has very short duration, most of them admits quality of service. Long reviews tend to mark some insignificant flaws that can be fixed further."
   ]
  },
  {
   "cell_type": "code",
   "execution_count": 46,
   "metadata": {},
   "outputs": [],
   "source": [
    "pos_review_list = X['positive_review'].apply(lambda x: x.split())"
   ]
  },
  {
   "cell_type": "code",
   "execution_count": 47,
   "metadata": {},
   "outputs": [],
   "source": [
    "pos_words_list = pos_review_list.explode()"
   ]
  },
  {
   "cell_type": "markdown",
   "metadata": {},
   "source": [
    "Same concept as in negative reviews."
   ]
  },
  {
   "cell_type": "code",
   "execution_count": 48,
   "metadata": {},
   "outputs": [
    {
     "data": {
      "text/plain": [
       "positive_review\n",
       "the          385768\n",
       "and          315786\n",
       "was          177057\n",
       "staff        145804\n",
       "very         144568\n",
       "location     144555\n",
       "to           140842\n",
       "a            123577\n",
       "room         105632\n",
       "hotel         93507\n",
       "in            85660\n",
       "good          84479\n",
       "of            79837\n",
       "great         79156\n",
       "is            76764\n",
       "for           68502\n",
       "were          68308\n",
       "friendly      63869\n",
       "breakfast     63297\n",
       "helpful       57200\n",
       "Name: count, dtype: int64"
      ]
     },
     "execution_count": 48,
     "metadata": {},
     "output_type": "execute_result"
    }
   ],
   "source": [
    "pos_words_cnt = pd.value_counts(pos_words_list)\n",
    "pos_words_cnt.head(20)"
   ]
  },
  {
   "cell_type": "code",
   "execution_count": 49,
   "metadata": {},
   "outputs": [],
   "source": [
    "pos_words_cnt.drop(['the', 'and', 'was', 'very', 'to', 'a', 'in', 'of', 'is', 'for', 'were', 'we', 'with'], inplace=True)"
   ]
  },
  {
   "cell_type": "code",
   "execution_count": 50,
   "metadata": {},
   "outputs": [
    {
     "data": {
      "text/plain": [
       "positive_review\n",
       "staff          145804\n",
       "location       144555\n",
       "room           105632\n",
       "hotel           93507\n",
       "good            84479\n",
       "great           79156\n",
       "friendly        63869\n",
       "breakfast       63297\n",
       "helpful         57200\n",
       "nice            52026\n",
       "clean           50249\n",
       "excellent       46758\n",
       "i               45769\n",
       "comfortable     44843\n",
       "it              37819\n",
       "bed             37446\n",
       "no              33827\n",
       "from            32746\n",
       "rooms           30345\n",
       "at              27753\n",
       "Name: count, dtype: int64"
      ]
     },
     "execution_count": 50,
     "metadata": {},
     "output_type": "execute_result"
    }
   ],
   "source": [
    "pos_words_cnt.head(20)"
   ]
  },
  {
   "cell_type": "code",
   "execution_count": 51,
   "metadata": {},
   "outputs": [],
   "source": [
    "pos_words_cnt.drop(['i', 'it', 'no', 'from', 'rooms', 'at', 'on', 'all', 'you', 'are', 'stay', 'our', \\\n",
    "    'but', 'really', 'had', 'this', 'so', 'as', 'everything'], inplace=True)"
   ]
  },
  {
   "cell_type": "code",
   "execution_count": 52,
   "metadata": {},
   "outputs": [
    {
     "data": {
      "text/plain": [
       "positive_review\n",
       "staff          145804\n",
       "location       144555\n",
       "room           105632\n",
       "hotel           93507\n",
       "good            84479\n",
       "great           79156\n",
       "friendly        63869\n",
       "breakfast       63297\n",
       "helpful         57200\n",
       "nice            52026\n",
       "clean           50249\n",
       "excellent       46758\n",
       "comfortable     44843\n",
       "bed             37446\n",
       "positive        27288\n",
       "lovely          26269\n",
       "close           23217\n",
       "station         21952\n",
       "perfect         19397\n",
       "service         19392\n",
       "Name: count, dtype: int64"
      ]
     },
     "execution_count": 52,
     "metadata": {},
     "output_type": "execute_result"
    }
   ],
   "source": [
    "pos_words_cnt.head(20)"
   ]
  },
  {
   "cell_type": "code",
   "execution_count": 53,
   "metadata": {},
   "outputs": [],
   "source": [
    "pos_words_cnt.rename({'comfortable': 'comf'}, inplace=True)"
   ]
  },
  {
   "cell_type": "code",
   "execution_count": 54,
   "metadata": {},
   "outputs": [],
   "source": [
    "positive_tags = list(pos_words_cnt[:20].index)"
   ]
  },
  {
   "cell_type": "markdown",
   "metadata": {},
   "source": [
    "Generate some features marking presence of absence of word in positive review."
   ]
  },
  {
   "cell_type": "code",
   "execution_count": 55,
   "metadata": {},
   "outputs": [],
   "source": [
    "for tag in positive_tags:\n",
    "    X['pos_is_' + tag] = X['positive_review'].apply(lambda x: 1 if tag in x else 0)"
   ]
  },
  {
   "cell_type": "markdown",
   "metadata": {},
   "source": [
    "### Days since review"
   ]
  },
  {
   "cell_type": "markdown",
   "metadata": {},
   "source": [
    "Match number of days from the feature."
   ]
  },
  {
   "cell_type": "code",
   "execution_count": 56,
   "metadata": {},
   "outputs": [
    {
     "data": {
      "text/plain": [
       "reviewed_days_ago\n",
       "1      1911\n",
       "322    1738\n",
       "120    1702\n",
       "338    1462\n",
       "534    1451\n",
       "       ... \n",
       "122     154\n",
       "243     154\n",
       "615     146\n",
       "124     127\n",
       "123     111\n",
       "Name: count, Length: 731, dtype: int64"
      ]
     },
     "execution_count": 56,
     "metadata": {},
     "output_type": "execute_result"
    }
   ],
   "source": [
    "X['reviewed_days_ago'] = X['days_since_review'].apply(lambda x: int(x.split()[0]))\n",
    "X['reviewed_days_ago'].value_counts()"
   ]
  },
  {
   "cell_type": "markdown",
   "metadata": {},
   "source": [
    "### Tags"
   ]
  },
  {
   "cell_type": "markdown",
   "metadata": {},
   "source": [
    "Some preprocessing operations"
   ]
  },
  {
   "cell_type": "code",
   "execution_count": 57,
   "metadata": {},
   "outputs": [
    {
     "data": {
      "text/plain": [
       "0    [ Leisure trip ,  Couple ,  Studio Suite ,  St...\n",
       "1    [ Business trip ,  Couple ,  Standard Double R...\n",
       "2    [ Leisure trip ,  Solo traveler ,  Modern Doub...\n",
       "3    [ Leisure trip ,  Solo traveler ,  Standard Ro...\n",
       "4    [ Business trip ,  Couple ,  Standard Double o...\n",
       "Name: tags_list, dtype: object"
      ]
     },
     "execution_count": 57,
     "metadata": {},
     "output_type": "execute_result"
    }
   ],
   "source": [
    "# Delete square brackets and single quote then split the string into list of words\n",
    "X['tags_list'] = X['tags'].apply(lambda x: re.sub('[\\[\\]\\']', '', x).split(', '))\n",
    "X['tags_list'].head()"
   ]
  },
  {
   "cell_type": "code",
   "execution_count": 58,
   "metadata": {},
   "outputs": [],
   "source": [
    "tags_flat = X['tags_list'].explode()"
   ]
  },
  {
   "cell_type": "code",
   "execution_count": 59,
   "metadata": {},
   "outputs": [
    {
     "data": {
      "text/plain": [
       "[' Leisure trip ',\n",
       " ' Submitted from a mobile device ',\n",
       " ' Couple ',\n",
       " ' Stayed 1 night ',\n",
       " ' Stayed 2 nights ',\n",
       " ' Solo traveler ',\n",
       " ' Stayed 3 nights ',\n",
       " ' Business trip ',\n",
       " ' Group ',\n",
       " ' Family with young children ',\n",
       " ' Stayed 4 nights ',\n",
       " ' Double Room ',\n",
       " ' Standard Double Room ',\n",
       " ' Superior Double Room ',\n",
       " ' Family with older children ',\n",
       " ' Deluxe Double Room ',\n",
       " ' Double or Twin Room ',\n",
       " ' Stayed 5 nights ',\n",
       " ' Standard Double or Twin Room ',\n",
       " ' Classic Double Room ',\n",
       " ' Superior Double or Twin Room ',\n",
       " ' 2 rooms ',\n",
       " ' Stayed 6 nights ',\n",
       " ' Standard Twin Room ',\n",
       " ' Single Room ',\n",
       " ' Twin Room ',\n",
       " ' Stayed 7 nights ',\n",
       " ' Executive Double Room ',\n",
       " ' Classic Double or Twin Room ',\n",
       " ' Superior Twin Room ',\n",
       " ' Club Double Room ',\n",
       " ' Deluxe Double or Twin Room ',\n",
       " ' Queen Room ',\n",
       " ' Deluxe King Room ',\n",
       " ' Superior Queen Room ',\n",
       " ' Standard Single Room ',\n",
       " ' Junior Suite ',\n",
       " ' Triple Room ',\n",
       " ' Classic Room ',\n",
       " ' Superior Room ',\n",
       " ' Superior King Room ',\n",
       " ' Standard Room ',\n",
       " ' Deluxe Room ',\n",
       " ' Double Guest Room ',\n",
       " ' Standard Queen Room ',\n",
       " ' Deluxe Single Room ',\n",
       " ' Small Double Room ',\n",
       " ' Queen Guest Room ',\n",
       " ' Deluxe Twin Room ',\n",
       " ' King Room ',\n",
       " ' Basic Double Room ',\n",
       " ' Comfort Double Room ',\n",
       " ' Executive King Room ',\n",
       " ' Stayed 8 nights ',\n",
       " ' Small Queen Room ',\n",
       " ' Comfort Double or Twin Room ',\n",
       " ' Double or Twin Room 1 2 Adults ',\n",
       " ' Standard Double Room without Window ',\n",
       " ' Classic Twin Room ',\n",
       " ' Family Room ',\n",
       " ' Twin Guest Room ',\n",
       " ' Travelers with friends ',\n",
       " ' Suite ',\n",
       " ' Superior King or Twin Room ',\n",
       " ' Deluxe King or Twin Room ',\n",
       " ' Deluxe Double ',\n",
       " ' King Guest Room ',\n",
       " ' Cosy Double Room ',\n",
       " ' Executive Double or Twin Room ',\n",
       " ' Standard Double Twin Room ',\n",
       " ' With a pet ',\n",
       " ' Club Twin Room ',\n",
       " ' Standard Triple Room ',\n",
       " ' Double Hilton Guestroom ',\n",
       " ' Double Room Non Smoking ',\n",
       " ' Classic King Room ',\n",
       " ' Stayed 9 nights ',\n",
       " ' Executive Room ',\n",
       " ' Standard ',\n",
       " ' Economy Double Room ',\n",
       " ' Quadruple Room ',\n",
       " ' Large Double Room ',\n",
       " ' Superior Single Room ',\n",
       " ' Executive Twin Room ',\n",
       " ' Luxury Double Room ',\n",
       " ' Superior Double Room with Internal View ',\n",
       " ' Double Room with Two Double Beds ',\n",
       " ' Classic Single Room ',\n",
       " ' Dorsett Double Room ',\n",
       " ' Premier Double Room ',\n",
       " ' Studio ',\n",
       " ' Superior Double or Twin Room 1 2 Adults ',\n",
       " ' Twin Hilton Guest Room ',\n",
       " ' Family Room 2 Adults 2 Children ',\n",
       " ' Compact Double Room ',\n",
       " ' Standard Room with 1 Double Bed ',\n",
       " ' City King or Twin Room ',\n",
       " ' Studio King Family ',\n",
       " ' Stayed 10 nights ',\n",
       " ' Classic Queen Room ',\n",
       " ' Deluxe Queen Room ',\n",
       " ' City King Room ',\n",
       " ' Queen or Two Double Beds Room ',\n",
       " ' Standard Double ',\n",
       " ' Superior Triple Room ',\n",
       " ' Deluxe Triple Room ',\n",
       " ' Comfort Room ',\n",
       " ' Studio Suite ',\n",
       " ' Premium Double or Twin Room ',\n",
       " ' Queen Room Non Smoking ',\n",
       " ' Superior Twin Room with Internal View ',\n",
       " ' Twin Room Non Smoking ',\n",
       " ' King Hilton Guest Room ',\n",
       " ' One Bedroom Suite ',\n",
       " ' Double Room 1 Adult ',\n",
       " ' Double Room with View ',\n",
       " ' Art King Room ',\n",
       " ' Executive King Room with Lounge Access ',\n",
       " ' Standard King Room ',\n",
       " ' Premium Double Room ',\n",
       " ' Deluxe Room Barlow Wing ',\n",
       " ' Double Room with Courtyard View ',\n",
       " ' Deluxe King Room with River View ',\n",
       " ' Studio Double Family ',\n",
       " ' Double or Twin Room Non Smoking ',\n",
       " ' Double Room 1 2 Adults ',\n",
       " ' Queen Room Mobility Access ',\n",
       " ' City Twin Room ',\n",
       " ' 3 rooms ',\n",
       " ' Double Room with Sofa Bed ',\n",
       " ' Cosy Single Room ',\n",
       " ' Standard Double Room No Window ',\n",
       " ' Business Double or Twin Room ',\n",
       " ' Room Selected at Check In ',\n",
       " ' Superior Shard King ',\n",
       " ' Stayed 11 nights ',\n",
       " ' Comfort Triple Room ',\n",
       " ' Deluxe King Room Balcony with Eiffel Tower View ',\n",
       " ' Superior Double Room Disability Access ',\n",
       " ' Double or Twin Room with Spa Access ',\n",
       " ' Double Deluxe Room ',\n",
       " ' Deluxe King Room with City View ',\n",
       " ' Superior Room with 2 Single Beds ',\n",
       " ' Double Room with Spa Bath ',\n",
       " ' Double Room with Terrace ',\n",
       " ' Deluxe with Two Double Beds ',\n",
       " ' Deluxe King Room with Stadium View ',\n",
       " ' Club Single Room ',\n",
       " ' Standard Double Room with Bridge View ',\n",
       " ' Double or Twin Ground Floor ',\n",
       " ' Standard Room with 1 Single Bed ',\n",
       " ' One Bedroom Apartment ',\n",
       " ' Queen Room with Mobility Access ',\n",
       " ' Deluxe One Bedroom Apartment ',\n",
       " ' Deluxe Double Room with Two Double Beds ',\n",
       " ' Double Room with Single Bed ',\n",
       " ' Double Room with City View ',\n",
       " ' Basic Single Room ',\n",
       " ' Duplex Double Room ',\n",
       " ' Luxury Room ',\n",
       " ' Small Single Room ',\n",
       " ' Standard Room with Queen Bed ',\n",
       " ' Comfort Twin Double Room ',\n",
       " ' Executive Family Room ',\n",
       " ' Large Twin Room ',\n",
       " ' Standard Room with Spa access ',\n",
       " ' Deluxe Double or Twin Room with Canal View ',\n",
       " ' Deluxe Double Room 1 2 Adults ',\n",
       " ' Superior Double Twin Room ',\n",
       " ' Double Room with Sofa Bed Non Smoking ',\n",
       " ' Luxury Suite ',\n",
       " ' Standard Room with 2 Single Beds ',\n",
       " ' Superior Double Room with City View ',\n",
       " ' Queen Hilton Guest Room ',\n",
       " ' Stayed 12 nights ',\n",
       " ' Superior Double or Twin Room with View ',\n",
       " ' Wonderful Double or Twin Room ',\n",
       " ' Executive Double Room River View ',\n",
       " ' Special Offer Double Room ',\n",
       " ' Standard Room 1 2 adults ',\n",
       " ' Double Room with Balcony ',\n",
       " ' Superior ',\n",
       " ' Superior Room with Queen size bed and Sofa Bed ',\n",
       " ' Classic Triple Room ',\n",
       " ' Standard Quadruple Room ',\n",
       " ' Double Studio ',\n",
       " ' Superior Deluxe Room ',\n",
       " ' Classic Double or Twin Room with Spa Access ',\n",
       " ' Deluxe Double and Single Room ',\n",
       " ' Queen Guest Room with Sofa Bed ',\n",
       " ' Superior Double Room with Terrace ',\n",
       " ' Business Double Room ',\n",
       " ' Deluxe King Room with Balcony ',\n",
       " ' Double Room with Street View ',\n",
       " ' Superior Room with Queensize Bed and double couch 2 adults 2 children ',\n",
       " ' Double or Twin Room with City View ',\n",
       " ' Double Hilton Deluxe Room ',\n",
       " ' Double or Twin Room with Courtyard View ',\n",
       " ' Double or Twin Room with Terrace ',\n",
       " ' Stayed 14 nights ',\n",
       " ' Superior Double or Twin Room with Terrace ',\n",
       " ' Deluxe Double Room with View ',\n",
       " ' Standard Family Room ',\n",
       " ' Superior Double ',\n",
       " ' Quality Double or Twin Room ',\n",
       " ' Privilege Double Room ',\n",
       " ' Double or Twin Room with View ',\n",
       " ' Stayed 13 nights ',\n",
       " ' Double or Twin Room with Extra Bed ',\n",
       " ' King Double Room ',\n",
       " ' King Double or Twin Room ',\n",
       " ' Camper Room ',\n",
       " ' Superior Room with Queen Bed Sofa ',\n",
       " ' Studio Triple ',\n",
       " ' Large Room ',\n",
       " ' Deluxe King with Balcony ',\n",
       " ' Superior King Room Barlow Wing ',\n",
       " ' Triple Room 2 Adults 1 Child ',\n",
       " ' Standard Double or Twin Room with Balcony ',\n",
       " ' Double Room with Eiffel Tower View ',\n",
       " ' Standard Suite ',\n",
       " ' Wonderful Room ',\n",
       " ' Prestige Double Room ',\n",
       " ' Junior Double Room ',\n",
       " ' Double Room with Public Transport Ticket ',\n",
       " ' Chelsea Double Suite ',\n",
       " ' Studio King ',\n",
       " ' Studio Double Room ',\n",
       " ' Special Offer Queen Room ',\n",
       " ' Executive Single Room ',\n",
       " ' Classic Room with Courtyard View ',\n",
       " ' Cabin Single Room ',\n",
       " ' Family Suite ',\n",
       " ' Double or Twin Room with Balcony ',\n",
       " ' Double Room with Extra Bed ',\n",
       " ' Executive Suite ',\n",
       " ' Superior Double Room with Spa Access ',\n",
       " ' Urban Double or Twin Room ',\n",
       " ' Double Suite ',\n",
       " ' Deluxe Guest Room ',\n",
       " ' Junior Suite 2 Adults ',\n",
       " ' Superior Double Room with Balcony ',\n",
       " ' Superior Suite with 1 Double Bed and 1 Single Bed ',\n",
       " ' Dalston King ',\n",
       " ' Family Room 3 Adults ',\n",
       " ' Executive Queen Room with Lounge Access ',\n",
       " ' Economy Twin Room ',\n",
       " ' Premier King Room with City View ',\n",
       " ' Club Room ',\n",
       " ' Superior Room with Spa access ',\n",
       " ' Queen Double Room ',\n",
       " ' Double Room Annex ',\n",
       " ' Single Room with Shower ',\n",
       " ' Two Bedroom Apartment ',\n",
       " ' Double Room 2 Adults ',\n",
       " ' Superior King Room with Sofa Bed ',\n",
       " ' Standard Twin Room with Bridge View ',\n",
       " ' Family Room 4 Adults ',\n",
       " ' Superior Queen Room with Sofa ',\n",
       " ' Superior Room with 1 Queen Bed ',\n",
       " ' Deluxe Studio ',\n",
       " ' Double Room Disability Access ',\n",
       " ' Large Comfort Double or Twin Room ',\n",
       " ' Double or Twin Room with Sea View ',\n",
       " ' Family Room with sofa bed ',\n",
       " ' Comfort Twin Room ',\n",
       " ' Superior Double Room with Two Double Beds ',\n",
       " ' Grand Deluxe Double or Twin Room ',\n",
       " ' Two Connecting Double Rooms ',\n",
       " ' Executive Studio ',\n",
       " ' Deluxe Suite ',\n",
       " ' Superior King Room Eiffel Tower View ',\n",
       " ' Classic Double or Twin Room with City View ',\n",
       " ' Signature Luxury King with Balcony ',\n",
       " ' Deluxe Double or Twin Room with City View ',\n",
       " ' Queen Hilton Superior Room ',\n",
       " ' Family Junior Suite 3 Adults 1 Child ',\n",
       " ' Queen Room with Sofa Bed ',\n",
       " ' Superior Family Room ',\n",
       " ' Deluxe Family Room ',\n",
       " ' Superior Studio with City View ',\n",
       " ' Standard Double Room with View Terrace ',\n",
       " ' Executive Studio Suite ',\n",
       " ' Deluxe Junior Suite ',\n",
       " ' City Room ',\n",
       " ' Twin Room Disability Access ',\n",
       " ' Deluxe Double Studio ',\n",
       " ' Executive Club Double Room ',\n",
       " ' Two Connecting Rooms ',\n",
       " ' Premier Single Room ',\n",
       " ' Souterraine Double or Twin Room ',\n",
       " ' Superior Twin Room Barlow Wing ',\n",
       " ' Classic King Twin Room ',\n",
       " ' Club King Room ',\n",
       " ' Deluxe Double or Twin Room 1 2 Adults ',\n",
       " ' Superior Room with Queen Bed ',\n",
       " ' Standard Room with Double Bed and Sofa Bed ',\n",
       " ' Room with Ramblas View ',\n",
       " ' Standard Queen Room with Sofa Bed ',\n",
       " ' Executive Studio City View Family ',\n",
       " ' Nhow Double or Twin Room ',\n",
       " ' River View Deluxe ',\n",
       " ' Economy Single Room ',\n",
       " ' Double Room with River View ',\n",
       " ' King Deluxe Guest Room ',\n",
       " ' Superior Double Room with 1 Double Bed and 1 Sofa Bed 2 places ',\n",
       " ' Executive Triple Room ',\n",
       " ' King Room Non Smoking ',\n",
       " ' Special Offer Superior Double Room ',\n",
       " ' Junior Suite with Spa Access ',\n",
       " ' Deluxe One Bedroom Suite ',\n",
       " ' Superior Queen Suite with Sofa Bed ',\n",
       " ' Deluxe Double Room with River View ',\n",
       " ' Twin Deluxe Room ',\n",
       " ' Comfort Double or Twin Room 1 2 Adults ',\n",
       " ' Compact Double Room with Private Bathroom ',\n",
       " ' Family Room 2 Adults 1 Child ',\n",
       " ' Apartment ',\n",
       " ' One Room Suite with Kitchenette ',\n",
       " ' Standard Double Room with Park View ',\n",
       " ' Classic Double or Twin Room 1 2 Adults ',\n",
       " ' Privilege Room with a double bed upper floors ',\n",
       " ' Standard Double Room with Two Single Beds ',\n",
       " ' Deluxe Room with Two Double Beds ',\n",
       " ' Classic Double or Single Room ',\n",
       " ' Single Room Annex ',\n",
       " ' Premier Twin Room ',\n",
       " ' Souterrain Double Room ',\n",
       " ' Double Room Free Wi Fi ',\n",
       " ' Superior Plus Double Room ',\n",
       " ' Deluxe Double Room with Terrace ',\n",
       " ' Superior Room with 1 kingsize bed ',\n",
       " ' Discovery Double Room ',\n",
       " ' Deluxe Double Room with State Opera View ',\n",
       " ' Comfort Double or Twin Room Non Smoking ',\n",
       " ' Deluxe Double Room with City View ',\n",
       " ' Queen Bed Leisure ',\n",
       " ' Standard Room for 1 or 2 people with Kitchenette ',\n",
       " ' Junior Suite 1 2 Adults ',\n",
       " ' Deluxe Queen Room with River View ',\n",
       " ' Duplex Room ',\n",
       " ' Deluxe Double or Twin Room 2 adults 1 child ',\n",
       " ' King Executive Room with Lounge Access ',\n",
       " ' Queen Room Upper Floors ',\n",
       " ' Double Room Curieuse ',\n",
       " ' Comfort Single Room ',\n",
       " ' Stayed 15 nights ',\n",
       " ' Single Room with Double Bed ',\n",
       " ' Executive Double Room with Whirlpool ',\n",
       " ' Special Offer Double or Twin Room ',\n",
       " ' Double Room Cosy ',\n",
       " ' Queen Guestroom ',\n",
       " ' Twin Superior Room ',\n",
       " ' Superior Double Room with free unlimited WIFI ',\n",
       " ' Mini Room ',\n",
       " ' Standard Guest Room ',\n",
       " ' Superior Room with Queensize Bed and Single Sofa Bed ',\n",
       " ' Twin Room with Spa Bath ',\n",
       " ' Superior Double Bedroom ',\n",
       " ' Superior Double or Twin Room with Free Wifi ',\n",
       " ' Cozy Double or Twin Room ',\n",
       " ' Club Double or Twin Room ',\n",
       " ' Small Double or Twin Room ',\n",
       " ' Executive Twin Room with Lounge Access ',\n",
       " ' Maisonette ',\n",
       " ' Classic Guest room 1 King or 2 Twin Single Bed s ',\n",
       " ' Executive Room with City View ',\n",
       " ' Deluxe Double Room with Spa Bath ',\n",
       " ' Standard Room with Queensize bed and Single Sofa Bed ',\n",
       " ' King Deluxe Room ',\n",
       " ' Triple Family Guestroom ',\n",
       " ' Executive Studio City View ',\n",
       " ' Marina Double Suite ',\n",
       " ' Accessible Queen Guest Room ',\n",
       " ' Double Queen Waterfront ',\n",
       " ' Special Room ',\n",
       " ' Executive Club Room ',\n",
       " ' Duplex Suite ',\n",
       " ' Single Guest Room ',\n",
       " ' Superior M Double Room ',\n",
       " ' Junior Double ',\n",
       " ' Fabulous Double or Twin Room ',\n",
       " ' Executive Queen Room ',\n",
       " ' Deluxe Double Room with Eiffel Tower view ',\n",
       " ' Wonderful Exchange King ',\n",
       " ' Family Room 4 guest ',\n",
       " ' King Room with Balcony ',\n",
       " ' Superior Double Room with View ',\n",
       " ' Deluxe Single Room with View ',\n",
       " ' Triple Hilton Family Room ',\n",
       " ' Corner Suite ',\n",
       " ' Deluxe Studio Suite ',\n",
       " ' Andaz Double Room ',\n",
       " ' Apartment 1 2 Adults ',\n",
       " ' Quality Single Room ',\n",
       " ' Duplex Junior Suite with Spa access ',\n",
       " ' Executive Double Room with Air Conditioning ',\n",
       " ' Art Room with Iconic View ',\n",
       " ' Luxury Four Poster ',\n",
       " ' Twin Room with Public Transport Ticket ',\n",
       " ' Eiffel Tower View King Room ',\n",
       " ' Superior Double or Twin Room XL ',\n",
       " ' King Guestroom ',\n",
       " ' Superior Double or Twin Room with Spa Access ',\n",
       " ' Garden King Room ',\n",
       " ' Superior Double Double ',\n",
       " ' Standard Room with 1 Double Bed and 1 Sofa Bed ',\n",
       " ' Executive King Room Non Smoking ',\n",
       " ' Superior Double or Twin Room with City View ',\n",
       " ' Classic Room with Queen Bed ',\n",
       " ' Classic Double Room with Garden View ',\n",
       " ' Superior Room with City View ',\n",
       " ' Superior Double Room with Queen size bed ',\n",
       " ' Family Suite 2 Adults 2 Children ',\n",
       " ' Double Room with Garden View ',\n",
       " ' Double Family Guestroom ',\n",
       " ' Souterrain Comfort Room ',\n",
       " ' Superior Room with Spa Fitness Access ',\n",
       " ' Two Bedroom Suite ',\n",
       " ' Junior Triple Room ',\n",
       " ' Standard Apartment ',\n",
       " ' Superior Double Room with Balcony and City View ',\n",
       " ' Business Class Room ',\n",
       " ' Junior Suite 3 Adults ',\n",
       " ' Penthouse Suite with Terrace and City View ',\n",
       " ' Executive Queen Room with Sofa ',\n",
       " ' Business Single Room ',\n",
       " ' Standard Double Room with View ',\n",
       " ' Superior Queen Room with Single Sofa Bed ',\n",
       " ' Superior Room with 1 Queen Bed 1 Sofa Bed ',\n",
       " ' Deluxe Room with Courtyard View ',\n",
       " ' Secret Double Room ',\n",
       " ' Standard Double or Twin Room with Extra bed 2 Adults 1 Child ',\n",
       " ' Standard Studio ',\n",
       " ' Superior Room with Double Bed and Sofa Bed ',\n",
       " ' King Hilton Guestroom ',\n",
       " ' Studio Room ',\n",
       " ' Superior Room with View of Big Ben ',\n",
       " ' Executive Queen Room with Balcony ',\n",
       " ' Executive Double ',\n",
       " ' Deluxe Double or Twin Room with Terrace ',\n",
       " ' Royal Mews View Classic Double ',\n",
       " ' Deluxe Double Room Canal View ',\n",
       " ' X Ordinary Room ',\n",
       " ' Design Double or Twin Room ',\n",
       " ' Superior Family Room 2 Adults 1 Child ',\n",
       " ' Standard Room with One Double Bed and Single Sofa Bed ',\n",
       " ' Double Room Attic ',\n",
       " ' Standard Double Room with Queen Bed ',\n",
       " ' Superior Room with 1 Double Bed ',\n",
       " ' Family Room with Spa access ',\n",
       " ' Classic Triple Room 3 Adults ',\n",
       " ' Double Room Intemporelle ',\n",
       " ' Luxury Family Room ',\n",
       " ' Privilege King Room ',\n",
       " ' Double Hilton Deluxe ',\n",
       " ' Tradition Double Room ',\n",
       " ' Deluxe Double Room with Private Access to Pool and Spa ',\n",
       " ' Queen Guest Room with River View ',\n",
       " ' Premier Room with Balcony ',\n",
       " ' penta Standard Room ',\n",
       " ' Superior Plus Twin Room ',\n",
       " ' Classic Double Room Loge Classique ',\n",
       " ' Double Room with French Bed ',\n",
       " ' Budget Single Room ',\n",
       " ' Double Room with Private Bathroom ',\n",
       " ' Deluxe King Room with Water View ',\n",
       " ' Twin Room 1 2 Adults ',\n",
       " ' Classique Double Room ',\n",
       " ' Premier King Room Barlow Wing ',\n",
       " ' Standard Double or Twin Room Annex Building ',\n",
       " ' Twin Hilton Deluxe Room ',\n",
       " ' Queen Deluxe Room ',\n",
       " ' Superior Queen Room with 2 Single Sofa Beds ',\n",
       " ' Deluxe Double Twin Room ',\n",
       " ' Superior Deluxe Double or Twin Room ',\n",
       " ' King Superior Room ',\n",
       " ' Quintuple Room ',\n",
       " ' Deluxe Double Room 1 2 adults ',\n",
       " ' Classic Double Room with Breakfast ',\n",
       " ' Chelsea Twin Suite ',\n",
       " ' Deluxe ',\n",
       " ' Superior Studio ',\n",
       " ' One Bed Feature Room ',\n",
       " ' Superior Twin or Double Room ',\n",
       " ' Family Superior Room ',\n",
       " ' Queen or Twin Room ',\n",
       " ' Double Room with Free Airport Shuttle Service from 5 00am to 00 30am ',\n",
       " ' Small Double Room Annex building ',\n",
       " ' Privilege Room ',\n",
       " ' Suite with Hot Tub ',\n",
       " ' Luxury King Room ',\n",
       " ' Double or Twin Room with Extra Bed with Balcony ',\n",
       " ' Superior Twin Room with View ',\n",
       " ' Superior Quadruple Room ',\n",
       " ' Cozy Exchange King ',\n",
       " ' Standard Double or Twin Room 1 2 Adults ',\n",
       " ' Privilege Room with Double Bed ',\n",
       " ' Single Hilton Guestroom ',\n",
       " ' Double Room Medium ',\n",
       " ' Superior Double or Twin Room with Balcony ',\n",
       " ' Twin Room with Free Airport Shuttle Service from 5 00am to 00 30am ',\n",
       " ' Single Room with Private Bathroom ',\n",
       " ' Superior Queen Room with Double Sofa ',\n",
       " ' Double or Twin Room 2 Adults ',\n",
       " ' Treat your Partner Package Double Room ',\n",
       " ' Family Room with King Bed ',\n",
       " ' Queen Room with Eiffel Tower View ',\n",
       " ' Superior King ',\n",
       " ' Superior Queen Suite with Sofa ',\n",
       " ' Special Offer Executive Double Twin Room with Access to Nagomi Health ',\n",
       " ' Grand Deluxe King or Twin Room ',\n",
       " ' Montcalm Club Double Room ',\n",
       " ' Double Family Guest Room ',\n",
       " ' Superior Room with canal view ',\n",
       " ' Basic Double ',\n",
       " ' Luxury Double or Twin Room ',\n",
       " ' Condal Double or Twin Room ',\n",
       " ' Superior Room with Two Double Beds and Balcony ',\n",
       " ' Executive King Room Non Smoking with Executive Lounge Access ',\n",
       " ' Executive King Room with Air Conditioning ',\n",
       " ' Standard Double or Twin Room with Balcony 1 Adult ',\n",
       " ' Deluxe Double Room Annex ',\n",
       " ' Standard Studio Suite ',\n",
       " ' Deluxe Eiffel Tower King Room ',\n",
       " ' Superior Double Room with Park View ',\n",
       " ' Economy Double or Twin Room ',\n",
       " ' Double or Twin Room 1 or 2 adults ',\n",
       " ' Aldwych Double Twin Room ',\n",
       " ' Art Twin Room ',\n",
       " ' Special Offer Double Twin Room Stay and Park ',\n",
       " ' Superior Double Room with Private Patio ',\n",
       " ' Triple Studio ',\n",
       " ' Deluxe Double or Twin Room with Spa Access ',\n",
       " ' Superior Twin Room with Two Double Beds ',\n",
       " ' Deluxe Double Room with Garden View ',\n",
       " ' Standard Room with Spa Access ',\n",
       " ' Comfort Quadruple Room ',\n",
       " ' Superior Family Room 2 Adults 2 Children ',\n",
       " ' Classic Family Room ',\n",
       " ' Double or Twin Room with Terrace and Spa Access ',\n",
       " ' Classic Twin Room with Garden View ',\n",
       " ' Large King Room ',\n",
       " ' Executive Junior Suite ',\n",
       " ' Single Studio ',\n",
       " ' Luxury Room 1 Queensize Bed Twin bedded Room On Request ',\n",
       " ' Double Room XL ',\n",
       " ' Superior Room with Queensize Bed and Single Sofa Bed 2 Adults 1 Child ',\n",
       " ' King City View Room ',\n",
       " ' Standard Room with queen size bed and double sofa bed ',\n",
       " ' King Guest Room Wheelchair Accessible ',\n",
       " ' Deluxe King Room with Terrace ',\n",
       " ' Grand Superior King or Twin Room ',\n",
       " ' Executive Double or Twin Room with Spa Access ',\n",
       " ' Standard Double or Twin Room Tea Time Wine Tasting Included ',\n",
       " ' Deluxe Double Room with Four Poster Bed ',\n",
       " ' Executive Double Room with Lounge Access ',\n",
       " ' Double or Twin Room with Extra Bed 3 Adults with Free Airport Shuttle Service from 5 00am to 00 30am ',\n",
       " ' Executive Room 2 adults 2 children ',\n",
       " ' Comfort Double or Twin Room with Extra Bed ',\n",
       " ' Junior King Suite ',\n",
       " ' Royal Room with Ramblas view ',\n",
       " ' Club Room with Club Lounge Access Free Wifi ',\n",
       " ' King Room with River View ',\n",
       " ' Hilton Deluxe King Room ',\n",
       " ' Delightful Queen Room ',\n",
       " ' Executive Double Room with Two Double Beds with Lounge Access ',\n",
       " ' Superior Twin Room with Extra Bed ',\n",
       " ' Luxury Junior Suite ',\n",
       " ' Standard Queen or Twin Room Lower Ground Floor ',\n",
       " ' Super Deluxe Double Room ',\n",
       " ' Superior Double Room with Garden View ',\n",
       " ' Twin Room 1 2 people ',\n",
       " ' Twin Hilton Guestroom ',\n",
       " ' Family Quadruple Room ',\n",
       " ' Classic Double Room with free pool and hammam access ',\n",
       " ' Small Twin Room ',\n",
       " ' Executive Premium Room with a Queen Bed ',\n",
       " ' Twin Room with Extra Bed ',\n",
       " ' Royal Mews View King Room ',\n",
       " ' Large Penthouse Suite with Terrace and City View ',\n",
       " ' Deluxe Twin Room Balcony with Eiffel Tower View ',\n",
       " ' Twin Deluxe Guest Room ',\n",
       " ' Superior Room Swimming Pool Hammam Access upon reservation ',\n",
       " ' Deluxe Contemporary Room ',\n",
       " ' Queen Room with Sofa Bed Non Smoking ',\n",
       " ' Standard Double Room with Tea Time Included ',\n",
       " ' Superior Double or Twin Room with Landmark View ',\n",
       " ' Superior Room with Queen Bed and Sofa ',\n",
       " ' Superior Suite with 1 Double Bed and 2 Single Beds ',\n",
       " ' Deluxe Queen Room with View ',\n",
       " ' Panorama Double Room ',\n",
       " ' Classic Studio ',\n",
       " ' One Bedroom Studio Suite ',\n",
       " ' Executive Deluxe Studio Suite ',\n",
       " ' Double or Twin Room with Extra Bed 3 Adults ',\n",
       " ' Suite Room ',\n",
       " ' Kings Junior Suite ',\n",
       " ' Superior Queen Room with Courtyard Garden or City View ',\n",
       " ' Queen Hilton Deluxe ',\n",
       " ' Two Adjacent Rooms 6 persons ',\n",
       " ' Queen Room with Two Queen Beds 4 Adults ',\n",
       " ' Superior Double Room with Free Access to Steam Bath ',\n",
       " ' Deluxe Double with Winter Garden View ',\n",
       " ' Champagne Shopping package Double Room ',\n",
       " ' Small Single Room with Balcony ',\n",
       " ' Romantic Special Offer ',\n",
       " ' Royal Suite with Canal View ',\n",
       " ' Deluxe Club Double Room ',\n",
       " ' King Hilton Plaza Room ',\n",
       " ' Executive Double Room with Spa Access ',\n",
       " ' Superior Deluxe Double Room with Canal View ',\n",
       " ' Superior Plus Room ',\n",
       " ' Superior Double Room Loge Sup rieure ',\n",
       " ' Luxury Double Room Mezzanine ',\n",
       " ' Junior Suite with Terrace ',\n",
       " ' Park King ',\n",
       " ' Family Room Two Connecting Rooms ',\n",
       " ' Superior Deluxe Room with Spa Bath ',\n",
       " ' Deluxe Twin Room with City View ',\n",
       " ' Double Room Single Use ',\n",
       " ' Superior Studio Apartment ',\n",
       " ' Double Room Insolite ',\n",
       " ' Deluxe Double or Twin Room with Mountain View ',\n",
       " ' Montcalm Club Room ',\n",
       " ' Superior Triple Room 3 Adults ',\n",
       " ' Single Room Lower Ground Floor ',\n",
       " ' Privilege Double Room 2 Adults 1 child ',\n",
       " ' King Hilton Waterfront ',\n",
       " ' Large Triple Room ',\n",
       " ' Classic Double Room with Shower ',\n",
       " ' Superior Room with 1 Queensize Bed and Double Sofa bed ',\n",
       " ' Premier Deluxe Double Room ',\n",
       " ' Interior Double or Twin Room ',\n",
       " ' Hypoallergenic Double or Twin Room ',\n",
       " ' Iconic King Room With City View ',\n",
       " ' Double Room 1 Adult with Free Airport Shuttle Service from 5 00am to 00 30am ',\n",
       " ' Deluxe King Room with Club Lounge Access ',\n",
       " ' Double Room Baronne ',\n",
       " ' Deluxe Double Room with Bath ',\n",
       " ' Family Studio ',\n",
       " ' Loft ',\n",
       " ' Superior Double or Twin Room with Terrace Spa acces ',\n",
       " ' Club SuperKing Room ',\n",
       " ' Executive King or Twin Room with Lounge Access ',\n",
       " ' Stayed 16 nights ',\n",
       " ' Double Room City ',\n",
       " ' King Grand Premier Room ',\n",
       " ' Accessible Twin Room ',\n",
       " ' Standard King Room Non Smoking ',\n",
       " ' Interior Facing Double Room With Natural Light ',\n",
       " ' Standard Room Sopi ',\n",
       " ' River Double Suite ',\n",
       " ' Standard Room with 1 Kingsize Bed ',\n",
       " ' Superior Guest room 1 King or 2 Twin Single Bed s ',\n",
       " ' King Grand Deluxe Room ',\n",
       " ' Double or Twin Room Allergy Free ',\n",
       " ' Penthouse Suite ',\n",
       " ' Premium Triple Room ',\n",
       " ' Premier Double or Twin Room ',\n",
       " ' Club Eiffel Tower King Room ',\n",
       " ' Queen Superior Room ',\n",
       " ' Master Bedroom Double ',\n",
       " ' Double Room with Small Double Bed ',\n",
       " ' Superior Queen Room with Sofa Bed ',\n",
       " ' Spare Room Double ',\n",
       " ' Comfort Double or Twin Room with Balcony ',\n",
       " ' Tiny Single Room ',\n",
       " ' Special Offer Deluxe Room ',\n",
       " ' Comfort Double Room with Extra Bed ',\n",
       " ' Business Apartment with Public Transport Ticket ',\n",
       " ' Emperor Suite ',\n",
       " ' Standard Double or Twin Room with Extra Bed 3 Adults ',\n",
       " ' Premium Double or Twin Room XL ',\n",
       " ' Standard Double Room with Sofa Bed 3 Adults ',\n",
       " ' Classic Suite ',\n",
       " ' Classic Room with 2 double beds 2 Adults ',\n",
       " ' Premium Deluxe Double Room ',\n",
       " ' Triple Room with Spa Bath ',\n",
       " ' Suite 3 Adults ',\n",
       " ' Boudoir Double Room ',\n",
       " ' Classic Cosy Room ',\n",
       " ' Large Single Room ',\n",
       " ' Superior Quadruple Room With Balcony ',\n",
       " ' Chambers Junior Suite with Club Lounge Access ',\n",
       " ' Superior Two Bedroom Apartment ',\n",
       " ' Double or Twin Room with Bathroom ',\n",
       " ' Privilege Room with 1 Double Bed ',\n",
       " ' Double or Twin Room with Bath ',\n",
       " ' Weekend Offer Standard Studio ',\n",
       " ' Standard Double Room Disability Access ',\n",
       " ' Privilege Super King or Twin Room ',\n",
       " ' Eiffel Tower View Twin Room ',\n",
       " ' Luxury Twin Room ',\n",
       " ' Superior Twin Room with City View ',\n",
       " ' Double Superior Room ',\n",
       " ' Privilege Room with 1 Kingsize Bed ',\n",
       " ' Studio Twin ',\n",
       " ' Family Room with Balcony ',\n",
       " ' Executive Double or Twin Room with No view ',\n",
       " ' Duplex Suite with Spa Access ',\n",
       " ' Classic Double Room La Parisienne ',\n",
       " ' Level Room with Executive Lounge Access ',\n",
       " ' Premier Shard King Room ',\n",
       " ' Eiffel Tower Junior Suite ',\n",
       " ' Superior King Room with River View ',\n",
       " ' Superior Double or Twin Room with Balcony 1 Adult ',\n",
       " ' Superior Double Room with View Non Smoking ',\n",
       " ' Twin Guestroom ',\n",
       " ' Junior Suite with River View and Balcony ',\n",
       " ' Exclusive Double or Twin Room ',\n",
       " ' Attach Suite ',\n",
       " ' King Room with Courtyard View ',\n",
       " ' Two Adjoining Superior Suite ',\n",
       " ' Deluxe Double Room with Gallery View ',\n",
       " ' Superior Premium Queen Room ',\n",
       " ' Superior Double Room with Terrace and Private Pool ',\n",
       " ' Superior Junior Suite ',\n",
       " ' Suite with Spa Access 2 Adults ',\n",
       " ' King or Twin Room with River View ',\n",
       " ' Quality Double or Twin Room with Extra Bed ',\n",
       " ' Comfort Double Room Courtyard Side ',\n",
       " ' Privilege Double Room with Eiffel Tower View ',\n",
       " ' Deluxe Double Room with City View and Balcony ',\n",
       " ' Twin Hilton Deluxe ',\n",
       " ' Exclusive Suite ',\n",
       " ' Luxury Room with Spa Access ',\n",
       " ' Deluxe Double Room with Spa Access ',\n",
       " ' Superior Suite 2 Adults 2 Children ',\n",
       " ' Special Offer Princess Relax ',\n",
       " ' Executive Club Twin Room ',\n",
       " ' Deluxe Garden Room ',\n",
       " ' King Suite with Lounge Access ',\n",
       " ' Luxury Suite Patio ',\n",
       " ' Standard Room with Queen Bed and Sofa ',\n",
       " ' Double Room Disability Access Non Smoking ',\n",
       " ' Luxury 1 Bed Suite ',\n",
       " ' Budget Double Room Second Floor ',\n",
       " ' Executive Double or Twin Room with Harbour View ',\n",
       " ' Superior Twin Double Room ',\n",
       " ' Double or Twin Room 1 Adult ',\n",
       " ' Deluxe Queen Room with Balcony ',\n",
       " ' Canal View Superior Deluxe Room with Spa Bath ',\n",
       " ' Observatory King ',\n",
       " ' Superior Queen Room with Pool Access ',\n",
       " ' Twin Room with Cathedral View ',\n",
       " ' Classic Room with 1 Queen bed ',\n",
       " ' Executive Room with queen size bed and double sofa bed 2 adults 2 children ',\n",
       " ' Single Hilton Guest Room ',\n",
       " ' Park Deluxe King ',\n",
       " ' Privilege Double or Twin Room ',\n",
       " ' Small Double Room Canal View ',\n",
       " ' Queen Room Disability Access Non Smoking ',\n",
       " ' Privilege Room with King bed ',\n",
       " ' Single Room with Shared Bathroom ',\n",
       " ' Paseo de Gracia Double or Twin Room ',\n",
       " ' Intuition Room ',\n",
       " ' Twin Executive Room with Lounge Access ',\n",
       " ' One Bedroom Suite with Kitchenette ',\n",
       " ' Suite with Balcony ',\n",
       " ' Executive Double or Twin Room La Ravissante ',\n",
       " ' Studio 2 Adults ',\n",
       " ' Family Room with King Bed and Sofa Bed ',\n",
       " ' Grand Suite ',\n",
       " ' Junior Suite with Extra Bed ',\n",
       " ' Executive Double Room Eiffel Studio D Artiste with view of Paris ',\n",
       " ' Double Executive Room with Lounge Access ',\n",
       " ' 4 rooms ',\n",
       " ' King Suite ',\n",
       " ' Superior Double Room La S duisante ',\n",
       " ' Deluxe Double Room without Window ',\n",
       " ' Camper Suite ',\n",
       " ' Superior Double or Twin Room with Pool Spa Access ',\n",
       " ' Twin Room with City View 1 2 Adults ',\n",
       " ' Standard room with 1 queen bed and sofa ',\n",
       " ' Deluxe Double Room with Balcony ',\n",
       " ' One Bedroom Suite with City View ',\n",
       " ' Junior Deluxe Double Room ',\n",
       " ' Executive King Room with Executive Lounge Access ',\n",
       " ' Apartment for 3 to 4 People with Kitchenette ',\n",
       " ' Cosy Room ',\n",
       " ' Deluxe Double or Twin Room with Sea View ',\n",
       " ' Twin Room with Private Bathroom ',\n",
       " ' Queensgate Double Room ',\n",
       " ' Grand Deluxe Double Room ',\n",
       " ' Loft Suite ',\n",
       " ' Comfort Double Room with Terrace ',\n",
       " ' Superior Double Room with Saint Germain des Pr s Church View ',\n",
       " ' King Corner Room ',\n",
       " ' Stayed 17 nights ',\n",
       " ' Double Room Lady Soul ',\n",
       " ' Standard Room with 1 Double Bed and 1 Double Sofa bed ',\n",
       " ' Superior Double Room with Sofa Bed ',\n",
       " ' Standard Quad Room ',\n",
       " ' Comfort Double or Twin Room for Single Use ',\n",
       " ' Executive King Room with City View ',\n",
       " ' King Accessible Superior Room ',\n",
       " ' Superior Room with 1 Double bed and Sofa 3 adults ',\n",
       " ' Deluxe Double plus Single Bed ',\n",
       " ' Grand Deluxe Room ',\n",
       " ' Executive Room with Two Double Beds ',\n",
       " ' Spectacular Room ',\n",
       " ' King Deluxe Room with Canal View ',\n",
       " ' Premium King Room ',\n",
       " ' Garden Room ',\n",
       " ' Grande Suite ',\n",
       " ' Junior Suite with Executive Lounge Access ',\n",
       " ' Superior Double Twin Room with Free Parking ',\n",
       " ' Double Room GWR Tower ',\n",
       " ' Single Cabin Room ',\n",
       " ' Duplex ',\n",
       " ' Triple Room 3 Adults ',\n",
       " ' Deluxe Duplex Room ',\n",
       " ' Junior Suite with Lounge Access ',\n",
       " ' Apartment 4 Adults ',\n",
       " ' Twin Room with Courtyard View ',\n",
       " ' Classic Double or Twin Room with extra bed ',\n",
       " ' penta Plus Room ',\n",
       " ' Deluxe L Double Room ',\n",
       " ' Double Room Marquise ',\n",
       " ' Family Apartment ',\n",
       " ' Superior Double Room with Terrace and City View ',\n",
       " ' Saint Honor Double Suite ',\n",
       " ' Duplex Twin Room ',\n",
       " ' Classic Double Room with View ',\n",
       " ' Spring Package Deluxe Double or Twin Room ',\n",
       " ' Luxury Double Room Small ',\n",
       " ' Superior Room with 1 Queensize Bed Canal view ',\n",
       " ' Double Double Room ',\n",
       " ' Premium Double or Twin Room with View ',\n",
       " ' Superior Double or Twin Room with Extra Bed ',\n",
       " ' Budget Double Room ',\n",
       " ' Superior Double or Twin Room with Canal View ',\n",
       " ' Superior Room with a shower or a bath ',\n",
       " ' Suite with City View ',\n",
       " ' Family Two Bedroom Suite ',\n",
       " ' Executive Double Room with Double Bed and Sofa Bed ',\n",
       " ' Superior Capucines Room ',\n",
       " ' Luxury Suite with whirlpool ',\n",
       " ' Superior Queen Suite with Sofa Bed 2 Adults ',\n",
       " ' One Bedroom King Suite with Sofa Bed ',\n",
       " ' Double Room Crash Pad Under 30s ',\n",
       " ' Executive Queen Room with Two Queen Beds with lounge Access ',\n",
       " ' Garden View King ',\n",
       " ' Deluxe Double Room with Courtyard View ',\n",
       " ' Standard Compact Double Room ',\n",
       " ' Twin Room with Extra Bed 3 Adults ',\n",
       " ' Stayed 18 nights ',\n",
       " ' Superior Triple Room XL ',\n",
       " ' Residence Suite ',\n",
       " ' Superior Duplex Room ',\n",
       " ' Executive Room with 1 Queen bed ',\n",
       " ' Double Room L ',\n",
       " ' Superior Suite Junior ',\n",
       " ' Comfort King or Twin Room ',\n",
       " ' Stayed 19 nights ',\n",
       " ' Traditional Double Room ',\n",
       " ' Small Double Room without Window ',\n",
       " ' Deluxe Barcelona city View ',\n",
       " ' Superior Suite ',\n",
       " ' Triple Room with Spa Access ',\n",
       " ' Premier Double or Twin Room with Extra Bed ',\n",
       " ' Executive King Room with Panoramic View ',\n",
       " ' Executive Room with Canal View ',\n",
       " ' Apartment 3 Adults ',\n",
       " ' Standard Double Room with Sea View ',\n",
       " ' Special Offer Only For Cruise Passengers ',\n",
       " ' Sextuple Room ',\n",
       " ' Standard Double or Twin with view ',\n",
       " ' Premium Double Room with Garden View ',\n",
       " ' Business Double Room with WiFi and Breakfast ',\n",
       " ' Panorama Suite ',\n",
       " ' Standard Guestroom ',\n",
       " ' Comfort Double or Twin Room with Rambla View ',\n",
       " ' Economy Single Room basement no window ',\n",
       " ' Deluxe Family Room with 1 Double and 2 Single Beds 4 Adults ',\n",
       " ' Family Queen Room ',\n",
       " ' Deluxe Room with view ',\n",
       " ' Premier Twin Room with City View ',\n",
       " ' Junior Suite with Balcony ',\n",
       " ' Corner Double Room ',\n",
       " ' Double Room with Four Poster Bed ',\n",
       " ' Executive Deluxe Room ',\n",
       " ' Suite with Terrace ',\n",
       " ' Double Twin Superior Room ',\n",
       " ' Classic Room with One Queen Bed ',\n",
       " ' One Bedroom Apartment with City View ',\n",
       " ' Junior Suite Double 1 2 Adults ',\n",
       " ' Canal View King ',\n",
       " ' Wonderful Sky Room ',\n",
       " ' Deluxe Family Room with View ',\n",
       " ' Interconnecting Double Rooms ',\n",
       " ' Deluxe Double Room with Canal View ',\n",
       " ' Elegance Double or Twin Room ',\n",
       " ' Double Room Crash Pad ',\n",
       " ' Superior Metropolitan Park Double Room ',\n",
       " ' Queensgate Twin Room ',\n",
       " ' Top Deluxe Room ',\n",
       " ' Garden Twin Room ',\n",
       " ' Delightful King Twin Room ',\n",
       " ' Quadruple Room with Shower ',\n",
       " ' Luxury Twin Room Solarium ',\n",
       " ' Superior Double Room with Free Pool Access ',\n",
       " ' Family Room 2 Adults 2 Children with Access to Nagomi Health ',\n",
       " ' Business Room ',\n",
       " ' Panoramic Room ',\n",
       " ' Executive Double Room with Access to Executive Lounge ',\n",
       " ' Privilege Double or Twin Room with Spa Access ',\n",
       " ' Standard Room with Double Bed ',\n",
       " ' Double or Twin Room with Park View ',\n",
       " ' Superior Room with 1 Double Bed and 1 Sofa Bed 3 Adults ',\n",
       " ' Prestige Suite ',\n",
       " ' Superior Premium Room with Queen Bed Sofa ',\n",
       " ' Imperial Club Double Room with access to the Club Lounge ',\n",
       " ' Small Double Room with Terrace ',\n",
       " ' Exclusive Double Room ',\n",
       " ' Standard Duplex Room 1 2 Adults ',\n",
       " ' 1 King Bed Guest Room ',\n",
       " ' Premium Double or Twin Room with Terrace and Spa Access ',\n",
       " ' Budget Single Room Non Smoking ',\n",
       " ' Junior Suite with City View ',\n",
       " ' Two Adjacent Classic Rooms ',\n",
       " ' Room with View ',\n",
       " ' Double Room for Single Use ',\n",
       " ' Deluxe Two Bedroom Apartment ',\n",
       " ' Executive Suite with View ',\n",
       " ' Junior Deluxe Twin Room ',\n",
       " ' Twin Suite ',\n",
       " ' Luxury Triple Room ',\n",
       " ' Amiral Single Room ',\n",
       " ' King Room with View ',\n",
       " ' 2 Adjacent Non Communicating Rooms ',\n",
       " ' Classic Junior Suite ',\n",
       " ' Superior King with Balcony ',\n",
       " ' Superior Queen Room 2 adults ',\n",
       " ' Double Room with Extra Bed 2 Adults 1 Child ',\n",
       " ' Deluxe Imperial Room ',\n",
       " ' Deluxe King ',\n",
       " ' King Room with Sofa Bed and Balcony ',\n",
       " ' Stayed 21 nights ',\n",
       " ' Superior Room Queen Bed ',\n",
       " ' Executive Room with River View ',\n",
       " ' Double Room with Shower ',\n",
       " ' Comfort Room with Extra Bed ',\n",
       " ' Superior One Bedroom Apartment ',\n",
       " ' Classic Designer ',\n",
       " ' Business Double Room with Courtyard View and Public Transport Ticket ',\n",
       " ' Deluxe Double Room or Twin Room ',\n",
       " ' Two Bedroom Suite with Two Bathrooms ',\n",
       " ' Superior Room with 2 Double Beds ',\n",
       " ' Hyatt Queen Room ',\n",
       " ' King Premier Room ',\n",
       " ' King Cathedral View Room ',\n",
       " ' One Bedroom Queen Suite ',\n",
       " ' Superior Room with 1 Double Bed and 1 Sofa Bed 1 place ',\n",
       " ' Hyatt King Room ',\n",
       " ' Romantic Double Room ',\n",
       " ' Triple Room Disability Access ',\n",
       " ' Family Room with View ',\n",
       " ' Classic Apartment ',\n",
       " ' Superior Suite 3 Adults 1 Child ',\n",
       " ' Premium Superior Double Room ',\n",
       " ' Classic Double Room with Free Access to Hamman ',\n",
       " ' Classic Double Room Les Pop ',\n",
       " ' Deluxe Triple Room with View ',\n",
       " ' Deluxe Queen Guestroom ',\n",
       " ' Souterrain Triple Room ',\n",
       " ' King Junior Suite ',\n",
       " ' Executive Double Room with City View ',\n",
       " ' Queen Suite with Lounge Access ',\n",
       " ' Superior Twin Room with Park View ',\n",
       " ' Executive Family Room 2 Adults and 2 Children ',\n",
       " ' King Size Double Room ',\n",
       " ' Superior room with Queen bed and sofa ',\n",
       " ' Premium Twin Room ',\n",
       " ' Cosy Twin Room ',\n",
       " ' Superior Double or Twin Room with Courtyard view ',\n",
       " ' Luxury King Room with River View ',\n",
       " ' Classic Quadruple Room ',\n",
       " ' King Room Mobility Accessible ',\n",
       " ' Junior Suite with Spa Access Free Wifi ',\n",
       " ' Superior Room with Balcony with Spa Access ',\n",
       " ' Studio Apartment ',\n",
       " ' Classique Square ',\n",
       " ' Family Executive Room 2 Adults 2 Children ',\n",
       " ' Junior Suite with access to the Club Lounge ',\n",
       " ' Superior Deluxe Double Room ',\n",
       " ' Club Double or Twin Room with Executive Lounge Access ',\n",
       " ' City Garden Room ',\n",
       " ' Executive King or Twin Room ',\n",
       " ' Room with Dock View Upper Deck ',\n",
       " ' Superior Double Room with Terrace and Cathedral View ',\n",
       " ' Marina Suite with Canal View ',\n",
       " ' Superior Executive Room ',\n",
       " ' Deluxe Room with City View ',\n",
       " ' Superior Double Room with Spa Access Free Wifi ',\n",
       " ' King Studio ',\n",
       " ' Deluxe Room with Terrace ',\n",
       " ' Double or Twin Room 2 Adult 1 Children ',\n",
       " ' King Room Second Floor ',\n",
       " ...]"
      ]
     },
     "execution_count": 59,
     "metadata": {},
     "output_type": "execute_result"
    }
   ],
   "source": [
    "tag_list = list(tags_flat.value_counts().index)\n",
    "tag_list"
   ]
  },
  {
   "cell_type": "code",
   "execution_count": 60,
   "metadata": {},
   "outputs": [
    {
     "data": {
      "text/plain": [
       " Stayed 1 night                                 145373\n",
       " Stayed 2 nights                                100263\n",
       " Stayed 3 nights                                 72000\n",
       " Stayed 4 nights                                 35748\n",
       " Stayed 5 nights                                 15611\n",
       " Stayed 6 nights                                  7399\n",
       " Stayed 7 nights                                  5549\n",
       " Stayed 8 nights                                  1910\n",
       " Stayed 9 nights                                   966\n",
       " Stayed 10 nights                                  663\n",
       " Stayed 11 nights                                  306\n",
       " Stayed 12 nights                                  217\n",
       " Stayed 14 nights                                  184\n",
       " Stayed 13 nights                                  174\n",
       " Stayed 15 nights                                   87\n",
       " Stayed 16 nights                                   38\n",
       " Stayed 17 nights                                   27\n",
       " Stayed 18 nights                                   24\n",
       " Stayed 19 nights                                   23\n",
       " Stayed 21 nights                                   19\n",
       " Stayed 20 nights                                   17\n",
       " Stayed 27 nights                                   10\n",
       " Stayed 30 nights                                   10\n",
       " Stayed 22 nights                                    8\n",
       " Stayed 28 nights                                    7\n",
       " Stayed 23 nights                                    6\n",
       " Special Offer Double Room 3 nights minimum          6\n",
       " Stayed 26 nights                                    6\n",
       " Stayed 24 nights                                    5\n",
       " Junior Suite Give me the night                      4\n",
       " Stayed 25 nights                                    4\n",
       " Stayed 29 nights                                    3\n",
       "Name: count, dtype: int64"
      ]
     },
     "execution_count": 60,
     "metadata": {},
     "output_type": "execute_result"
    }
   ],
   "source": [
    "# Filter tags containing 'night'\n",
    "night_flat = [item for item in tags_flat if ' night' in item]\n",
    "pd.value_counts(night_flat)"
   ]
  },
  {
   "cell_type": "code",
   "execution_count": 61,
   "metadata": {},
   "outputs": [
    {
     "data": {
      "text/plain": [
       " Stayed 1 night                                 145373\n",
       " Stayed 2 nights                                100263\n",
       " Stayed 3 nights                                 72000\n",
       " Stayed 4 nights                                 35748\n",
       " Stayed 5 nights                                 15611\n",
       " Stayed 6 nights                                  7399\n",
       " Stayed 7 nights                                  5549\n",
       " Stayed 8 nights                                  1910\n",
       " Stayed 9 nights                                   966\n",
       " Stayed 10 nights                                  663\n",
       " Stayed 11 nights                                  306\n",
       " Stayed 12 nights                                  217\n",
       " Stayed 14 nights                                  184\n",
       " Stayed 13 nights                                  174\n",
       " Stayed 15 nights                                   87\n",
       " Stayed 16 nights                                   38\n",
       " Stayed 17 nights                                   27\n",
       " Stayed 18 nights                                   24\n",
       " Stayed 19 nights                                   23\n",
       " Stayed 21 nights                                   19\n",
       " Stayed 20 nights                                   17\n",
       " Stayed 30 nights                                   10\n",
       " Stayed 27 nights                                   10\n",
       " Stayed 22 nights                                    8\n",
       " Stayed 28 nights                                    7\n",
       " Special Offer Double Room 3 nights minimum          6\n",
       " Stayed 23 nights                                    6\n",
       " Stayed 26 nights                                    6\n",
       " Stayed 24 nights                                    5\n",
       " Stayed 25 nights                                    4\n",
       " Stayed 29 nights                                    3\n",
       "Name: count, dtype: int64"
      ]
     },
     "execution_count": 61,
     "metadata": {},
     "output_type": "execute_result"
    }
   ],
   "source": [
    "# Filter 'night tags' containing digits\n",
    "night_flat = list(filter(lambda x: bool(re.search(r'\\d', x)), night_flat))\n",
    "pd.value_counts(night_flat)"
   ]
  },
  {
   "cell_type": "markdown",
   "metadata": {},
   "source": [
    "Number of reviews who hasn't tag indicating number of nights stayed:"
   ]
  },
  {
   "cell_type": "code",
   "execution_count": 62,
   "metadata": {},
   "outputs": [
    {
     "data": {
      "text/plain": [
       "140"
      ]
     },
     "execution_count": 62,
     "metadata": {},
     "output_type": "execute_result"
    }
   ],
   "source": [
    "X['tags'].shape[0] - pd.value_counts(night_flat).sum()"
   ]
  },
  {
   "cell_type": "markdown",
   "metadata": {},
   "source": [
    "Percent of reviews who hasn't tag indicating number of nights stayed:"
   ]
  },
  {
   "cell_type": "code",
   "execution_count": 63,
   "metadata": {},
   "outputs": [
    {
     "data": {
      "text/plain": [
       "0.04"
      ]
     },
     "execution_count": 63,
     "metadata": {},
     "output_type": "execute_result"
    }
   ],
   "source": [
    "round((1 - pd.value_counts(night_flat).sum() / X['tags'].shape[0]) * 100, 2)"
   ]
  },
  {
   "cell_type": "markdown",
   "metadata": {},
   "source": [
    "Since we have only 0.04\\% of reviews that doesn't indicate number of nights stayed, we can fill missing values."
   ]
  },
  {
   "cell_type": "code",
   "execution_count": 64,
   "metadata": {},
   "outputs": [],
   "source": [
    "night_list = list(pd.value_counts(night_flat).index)"
   ]
  },
  {
   "cell_type": "code",
   "execution_count": 65,
   "metadata": {},
   "outputs": [],
   "source": [
    "def nights_num(feat):\n",
    "    \"\"\"Extract number of nights stayed or return np.nan otherwise\n",
    "\n",
    "    Args:\n",
    "        feat (pandas.Series): 'nights_stayed' feature\n",
    "\n",
    "    Returns:\n",
    "        stay_string (float): number of nights stayed or np.nan\n",
    "    \"\"\"\n",
    "    \n",
    "    for tag in feat:\n",
    "        stay_string = np.nan\n",
    "        \n",
    "        if tag in night_list:\n",
    "            stay_string = int(''.join(re.findall(r'\\d+', tag)))\n",
    "            break\n",
    "    \n",
    "    return stay_string"
   ]
  },
  {
   "cell_type": "code",
   "execution_count": 66,
   "metadata": {},
   "outputs": [
    {
     "data": {
      "text/plain": [
       "nights_stayed\n",
       "False    386657\n",
       "True        146\n",
       "Name: count, dtype: int64"
      ]
     },
     "execution_count": 66,
     "metadata": {},
     "output_type": "execute_result"
    }
   ],
   "source": [
    "X['nights_stayed'] = X['tags_list'].apply(nights_num)\n",
    "X['nights_stayed'].isna().value_counts()"
   ]
  },
  {
   "cell_type": "code",
   "execution_count": 67,
   "metadata": {},
   "outputs": [
    {
     "data": {
      "image/png": "[encoded data removed]"
     },
     "metadata": {},
     "output_type": "display_data"
    }
   ],
   "source": [
    "fig_nights = px.histogram(\n",
    "    X['nights_stayed'].dropna().astype(int),\n",
    "    height=600,\n",
    "    width=1000,\n",
    "    title=\"Nights stayed histogram\"\n",
    ")\n",
    "fig_nights.update_layout(showlegend=False)\n",
    "fig_nights.update_yaxes(minor_showgrid=True)\n",
    "fig_nights.layout.xaxis.title.text = 'Nights stayed'\n",
    "fig_nights.layout.yaxis.title.text = 'Number of reviews'\n",
    "fig_nights.write_html('images/nights.html')\n",
    "fig_nights.write_image('images/nights.png')\n",
    "fig_nights.show('png')\n",
    "#fig_nights.show()"
   ]
  },
  {
   "cell_type": "markdown",
   "metadata": {},
   "source": [
    "The dependance is obviously far from normal, so missing values can be filled with median values."
   ]
  },
  {
   "cell_type": "code",
   "execution_count": 68,
   "metadata": {},
   "outputs": [
    {
     "data": {
      "text/plain": [
       "0    2\n",
       "1    1\n",
       "2    3\n",
       "3    1\n",
       "4    6\n",
       "Name: nights_stayed, dtype: int64"
      ]
     },
     "execution_count": 68,
     "metadata": {},
     "output_type": "execute_result"
    }
   ],
   "source": [
    "X['nights_stayed'] = X['nights_stayed'].fillna(X['nights_stayed'].dropna().median()).astype(int)\n",
    "X['nights_stayed'].head()"
   ]
  },
  {
   "cell_type": "markdown",
   "metadata": {},
   "source": [
    "Same concept as in negative reviews. Match 20 most popular tags."
   ]
  },
  {
   "cell_type": "code",
   "execution_count": 69,
   "metadata": {},
   "outputs": [
    {
     "data": {
      "text/plain": [
       "[' Leisure trip ',\n",
       " ' Submitted from a mobile device ',\n",
       " ' Couple ',\n",
       " ' Solo traveler ',\n",
       " ' Business trip ',\n",
       " ' Group ',\n",
       " ' Family with young children ',\n",
       " ' Double Room ',\n",
       " ' Standard Double Room ',\n",
       " ' Superior Double Room ',\n",
       " ' Family with older children ',\n",
       " ' Deluxe Double Room ',\n",
       " ' Double or Twin Room ',\n",
       " ' Standard Double or Twin Room ',\n",
       " ' Classic Double Room ',\n",
       " ' Superior Double or Twin Room ',\n",
       " ' 2 rooms ',\n",
       " ' Standard Twin Room ',\n",
       " ' Single Room ',\n",
       " ' Twin Room ']"
      ]
     },
     "metadata": {},
     "output_type": "display_data"
    }
   ],
   "source": [
    "pop_tags_list = [item for item in tag_list if ' night' not in item][:20]\n",
    "display(pop_tags_list)"
   ]
  },
  {
   "cell_type": "markdown",
   "metadata": {},
   "source": [
    "Generate some features marking presence of absence of tag in tag list of review."
   ]
  },
  {
   "cell_type": "code",
   "execution_count": 70,
   "metadata": {},
   "outputs": [],
   "source": [
    "for tag in pop_tags_list:\n",
    "    X['is' + tag.rstrip()] = X['tags_list'].apply(lambda x: 1 if tag in x else 0)"
   ]
  },
  {
   "cell_type": "markdown",
   "metadata": {},
   "source": [
    "### Coordinates"
   ]
  },
  {
   "cell_type": "code",
   "execution_count": 71,
   "metadata": {},
   "outputs": [],
   "source": [
    "from geopy.geocoders import Nominatim"
   ]
  },
  {
   "cell_type": "markdown",
   "metadata": {},
   "source": [
    "Array of addresses that lack coordinates"
   ]
  },
  {
   "cell_type": "code",
   "execution_count": 72,
   "metadata": {},
   "outputs": [
    {
     "data": {
      "text/plain": [
       "array(['Savoyenstra e 2 16 Ottakring 1160 Vienna Austria',\n",
       "       '23 Rue Damr mont 18th arr 75018 Paris France',\n",
       "       'Josefst dter Stra e 10 12 08 Josefstadt 1080 Vienna Austria',\n",
       "       'W hringer Stra e 33 35 09 Alsergrund 1090 Vienna Austria',\n",
       "       '4 rue de la P pini re 8th arr 75008 Paris France',\n",
       "       'Sieveringer Stra e 4 19 D bling 1190 Vienna Austria',\n",
       "       'Taborstra e 8 A 02 Leopoldstadt 1020 Vienna Austria',\n",
       "       'Bail n 4 6 Eixample 08010 Barcelona Spain',\n",
       "       'Gr nentorgasse 30 09 Alsergrund 1090 Vienna Austria',\n",
       "       'Landstra er G rtel 5 03 Landstra e 1030 Vienna Austria',\n",
       "       'Paragonstra e 1 11 Simmering 1110 Vienna Austria',\n",
       "       'W hringer Stra e 12 09 Alsergrund 1090 Vienna Austria',\n",
       "       '20 Rue De La Ga t 14th arr 75014 Paris France',\n",
       "       'Hasenauerstra e 12 19 D bling 1190 Vienna Austria',\n",
       "       'Sep lveda 180 Eixample 08011 Barcelona Spain',\n",
       "       'Pau Clar s 122 Eixample 08009 Barcelona Spain',\n",
       "       'Josefst dter Stra e 22 08 Josefstadt 1080 Vienna Austria'],\n",
       "      dtype=object)"
      ]
     },
     "execution_count": 72,
     "metadata": {},
     "output_type": "execute_result"
    }
   ],
   "source": [
    "coordinates_na = X[X['lng'].isna() | X['lat'].isna()]['hotel_address'].unique()\n",
    "coordinates_na"
   ]
  },
  {
   "cell_type": "markdown",
   "metadata": {},
   "source": [
    "Correct some mistakes"
   ]
  },
  {
   "cell_type": "code",
   "execution_count": 73,
   "metadata": {},
   "outputs": [],
   "source": [
    "X['hotel_address'].replace({\n",
    "    'Savoyenstra e 2 16 Ottakring 1160 Vienna Austria': 'Savoyenstraße 2, 16. Ottakring, 1160 Vienna, Austria',\n",
    "    '23 Rue Damr mont 18th arr 75018 Paris France': '23, Rue Damrémont, 18e arrondissement, 75018 Paris, France',\n",
    "    'Josefst dter Stra e 10 12 08 Josefstadt 1080 Vienna Austria': 'Josefstädter Straße 10-12. Josefstadt, 1080 Vienna, Austria',\n",
    "    'W hringer Stra e 33 35 09 Alsergrund 1090 Vienna Austria': 'Währinger Straße 33-35. Alsergrund, 1090 Vienna, Austria',\n",
    "    '4 rue de la P pini re 8th arr 75008 Paris France': '4, rue de la Pépinière, 8e arrondissement, 75008 Paris, France',\n",
    "    'Sieveringer Stra e 4 19 D bling 1190 Vienna Austria': 'Sieveringer Straße 4, 19. Döbling, 1190 Vienna, Austria',\n",
    "    'Taborstra e 8 A 02 Leopoldstadt 1020 Vienna Austria': 'Taborstraße 8A. Leopoldstadt, 1020 Vienna, Austria',\n",
    "    'Bail n 4 6 Eixample 08010 Barcelona Spain': 'Bailén, 4-6, Eixample, 08010 Barcelona, Spain',\n",
    "    'Gr nentorgasse 30 09 Alsergrund 1090 Vienna Austria': 'Grünentorgasse, 30. Alsergrund, 1090 Vienna, Austria',\n",
    "    'Landstra er G rtel 5 03 Landstra e 1030 Vienna Austria': 'Landstraßer Gürtel 5. Landstraße, 1030 Vienna, Austria',\n",
    "    'Paragonstra e 1 11 Simmering 1110 Vienna Austria': 'Paragonstraße 1, 11. Simmering, 1110 Vienna, Austria',\n",
    "    'W hringer Stra e 12 09 Alsergrund 1090 Vienna Austria': 'Währinger Straße 12. Alsergrund, 1090 Vienna, Austria',\n",
    "    '20 Rue De La Ga t 14th arr 75014 Paris France': '20, Rue De La Gaîté, 14e arrondissement, 75014 Paris, France',\n",
    "    'Hasenauerstra e 12 19 D bling 1190 Vienna Austria': 'Hasenauerstraße 12, 19. Döbling, 1190 Vienna, Austria',\n",
    "    'Sep lveda 180 Eixample 08011 Barcelona Spain': 'Sepúlveda 180, Eixample, 08011 Barcelona, Spain',\n",
    "    'Pau Clar s 122 Eixample 08009 Barcelona Spain': 'Pau Clarís 122, Eixample, 08009 Barcelona, Spain',\n",
    "    'Josefst dter Stra e 22 08 Josefstadt 1080 Vienna Austria': 'Josefstädter Straße 22. Josefstadt, 1080 Vienna, Austria'\n",
    "}, inplace=True)"
   ]
  },
  {
   "cell_type": "code",
   "execution_count": 74,
   "metadata": {},
   "outputs": [],
   "source": [
    "coordinates_na = list(X[X['lng'].isna() | X['lat'].isna()]['hotel_address'].unique())"
   ]
  },
  {
   "cell_type": "markdown",
   "metadata": {},
   "source": [
    "Generate dictionary with keys as addresses and values as coordinates:"
   ]
  },
  {
   "cell_type": "code",
   "execution_count": 75,
   "metadata": {},
   "outputs": [],
   "source": [
    "geolocator = Nominatim(user_agent=\"hotel_locator\")\n",
    "\n",
    "locations_dict = dict()\n",
    "\n",
    "for item in coordinates_na:\n",
    "    location = geolocator.geocode(item)\n",
    "    locations_dict[item] = [location.latitude, location.longitude]"
   ]
  },
  {
   "cell_type": "markdown",
   "metadata": {},
   "source": [
    "Fill missing coordinates:"
   ]
  },
  {
   "cell_type": "code",
   "execution_count": 76,
   "metadata": {},
   "outputs": [],
   "source": [
    "for idx in X['hotel_address'].index:\n",
    "    if X['hotel_address'].iloc[idx] in coordinates_na:\n",
    "        X['lat'].iloc[idx] = locations_dict[X['hotel_address'].iloc[idx]][0]\n",
    "        X['lng'].iloc[idx] = locations_dict[X['hotel_address'].iloc[idx]][1]"
   ]
  },
  {
   "cell_type": "markdown",
   "metadata": {},
   "source": [
    "## Correlation"
   ]
  },
  {
   "cell_type": "markdown",
   "metadata": {},
   "source": [
    "Remove categorical features:"
   ]
  },
  {
   "cell_type": "code",
   "execution_count": 77,
   "metadata": {},
   "outputs": [
    {
     "data": {
      "text/plain": [
       "array(['hotel_address', 'review_date', 'hotel_name',\n",
       "       'reviewer_nationality', 'negative_review', 'positive_review',\n",
       "       'tags', 'days_since_review', 'city', 'tags_list'], dtype=object)"
      ]
     },
     "metadata": {},
     "output_type": "display_data"
    }
   ],
   "source": [
    "object_feats = X.select_dtypes(exclude=[np.number]).columns.values\n",
    "display(object_feats)"
   ]
  },
  {
   "cell_type": "code",
   "execution_count": 78,
   "metadata": {},
   "outputs": [],
   "source": [
    "X.drop(object_feats, axis=1, inplace=True)"
   ]
  },
  {
   "cell_type": "code",
   "execution_count": 79,
   "metadata": {},
   "outputs": [],
   "source": [
    "X_corr = round(X.corr(), 2)"
   ]
  },
  {
   "cell_type": "markdown",
   "metadata": {},
   "source": [
    "Features with strong correlation:"
   ]
  },
  {
   "cell_type": "code",
   "execution_count": 80,
   "metadata": {},
   "outputs": [
    {
     "data": {
      "text/plain": [
       "review_year                   reviewed_days_ago               0.92\n",
       "reviewed_days_ago             review_year                     0.92\n",
       "is Leisure trip               is Business trip                0.90\n",
       "is Business trip              is Leisure trip                 0.90\n",
       "lat                           city_Barcelona                  0.84\n",
       "city_Barcelona                lat                             0.84\n",
       "additional_number_of_scoring  total_number_of_reviews         0.82\n",
       "city_Vienna                   lng                             0.82\n",
       "total_number_of_reviews       additional_number_of_scoring    0.82\n",
       "lng                           city_Vienna                     0.82\n",
       "dtype: float64"
      ]
     },
     "execution_count": 80,
     "metadata": {},
     "output_type": "execute_result"
    }
   ],
   "source": [
    "X_corr_sorted = X_corr.abs().unstack().sort_values(kind='quicksort', ascending=False)\n",
    "X_corr_sorted[(X_corr_sorted < 1) & (X_corr_sorted >= 0.7)]"
   ]
  },
  {
   "cell_type": "code",
   "execution_count": 81,
   "metadata": {},
   "outputs": [],
   "source": [
    "X.drop(['review_year', 'is Business trip', 'total_number_of_reviews', 'city_Barcelona', \\\n",
    "               'city_Vienna'], axis=1, inplace=True)"
   ]
  },
  {
   "cell_type": "markdown",
   "metadata": {},
   "source": [
    "## Feature selection"
   ]
  },
  {
   "cell_type": "code",
   "execution_count": 82,
   "metadata": {},
   "outputs": [],
   "source": [
    "from sklearn.feature_selection import chi2\n",
    "from sklearn.feature_selection import f_classif\n",
    "from sklearn.feature_selection import SelectKBest"
   ]
  },
  {
   "cell_type": "code",
   "execution_count": 83,
   "metadata": {},
   "outputs": [],
   "source": [
    "# Number of features to transfer into the model\n",
    "feat_num = 30"
   ]
  },
  {
   "cell_type": "markdown",
   "metadata": {},
   "source": [
    "Most important features:"
   ]
  },
  {
   "cell_type": "code",
   "execution_count": 84,
   "metadata": {},
   "outputs": [
    {
     "name": "stderr",
     "output_type": "stream",
     "text": [
      "/home/teesuhkruta/anaconda3/lib/python3.11/site-packages/sklearn/feature_selection/_univariate_selection.py:112: UserWarning:\n",
      "\n",
      "Features [14] are constant.\n",
      "\n",
      "/home/teesuhkruta/anaconda3/lib/python3.11/site-packages/sklearn/feature_selection/_univariate_selection.py:113: RuntimeWarning:\n",
      "\n",
      "invalid value encountered in divide\n",
      "\n"
     ]
    },
    {
     "data": {
      "image/png": "[encoded data removed]"
     },
     "metadata": {},
     "output_type": "display_data"
    }
   ],
   "source": [
    "importance = pd.Series(f_classif(X, y)[0], index=X.columns)\n",
    "importance.sort_values(inplace=True, ascending=False)\n",
    "\n",
    "fig_kbest = px.bar(\n",
    "    importance[:feat_num],\n",
    "    orientation='v',\n",
    "    height=600,\n",
    "    width=1000,\n",
    "    title='Feature importance'\n",
    ")\n",
    "fig_kbest.update_yaxes(minor_showgrid=True)\n",
    "fig_kbest.update(layout_showlegend=False)\n",
    "fig_kbest.layout.xaxis.title.text = 'Feature name'\n",
    "fig_kbest.layout.yaxis.title.text = 'f-statistics value'\n",
    "fig_kbest.write_html('images/kbest.html')\n",
    "fig_kbest.write_image('images/kbest.png')\n",
    "fig_kbest.show('png')\n",
    "#fig_kbest.show()"
   ]
  },
  {
   "cell_type": "markdown",
   "metadata": {},
   "source": [
    "Generate dataframe containing most important features:"
   ]
  },
  {
   "cell_type": "code",
   "execution_count": 85,
   "metadata": {},
   "outputs": [
    {
     "name": "stderr",
     "output_type": "stream",
     "text": [
      "/home/teesuhkruta/anaconda3/lib/python3.11/site-packages/sklearn/feature_selection/_univariate_selection.py:112: UserWarning:\n",
      "\n",
      "Features [14] are constant.\n",
      "\n",
      "/home/teesuhkruta/anaconda3/lib/python3.11/site-packages/sklearn/feature_selection/_univariate_selection.py:113: RuntimeWarning:\n",
      "\n",
      "invalid value encountered in divide\n",
      "\n"
     ]
    },
    {
     "data": {
      "text/html": [
       "<div>\n",
       "<style scoped>\n",
       "    .dataframe tbody tr th:only-of-type {\n",
       "        vertical-align: middle;\n",
       "    }\n",
       "\n",
       "    .dataframe tbody tr th {\n",
       "        vertical-align: top;\n",
       "    }\n",
       "\n",
       "    .dataframe thead th {\n",
       "        text-align: right;\n",
       "    }\n",
       "</style>\n",
       "<table border=\"1\" class=\"dataframe\">\n",
       "  <thead>\n",
       "    <tr style=\"text-align: right;\">\n",
       "      <th></th>\n",
       "      <th>average_score</th>\n",
       "      <th>review_total_negative_word_counts</th>\n",
       "      <th>review_total_positive_word_counts</th>\n",
       "      <th>neg_review_wc</th>\n",
       "      <th>neg_is_room</th>\n",
       "      <th>neg_is_breakfast</th>\n",
       "      <th>neg_is_small</th>\n",
       "      <th>neg_is_staff</th>\n",
       "      <th>neg_is_nothing</th>\n",
       "      <th>neg_is_bed</th>\n",
       "      <th>...</th>\n",
       "      <th>pos_is_hotel</th>\n",
       "      <th>pos_is_great</th>\n",
       "      <th>pos_is_friendly</th>\n",
       "      <th>pos_is_helpful</th>\n",
       "      <th>pos_is_excellent</th>\n",
       "      <th>pos_is_comf</th>\n",
       "      <th>pos_is_positive</th>\n",
       "      <th>pos_is_lovely</th>\n",
       "      <th>pos_is_perfect</th>\n",
       "      <th>is Leisure trip</th>\n",
       "    </tr>\n",
       "  </thead>\n",
       "  <tbody>\n",
       "    <tr>\n",
       "      <th>0</th>\n",
       "      <td>8.4</td>\n",
       "      <td>3.0</td>\n",
       "      <td>4.0</td>\n",
       "      <td>1.0</td>\n",
       "      <td>0.0</td>\n",
       "      <td>0.0</td>\n",
       "      <td>0.0</td>\n",
       "      <td>0.0</td>\n",
       "      <td>0.0</td>\n",
       "      <td>0.0</td>\n",
       "      <td>...</td>\n",
       "      <td>0.0</td>\n",
       "      <td>0.0</td>\n",
       "      <td>0.0</td>\n",
       "      <td>0.0</td>\n",
       "      <td>0.0</td>\n",
       "      <td>0.0</td>\n",
       "      <td>0.0</td>\n",
       "      <td>0.0</td>\n",
       "      <td>0.0</td>\n",
       "      <td>1.0</td>\n",
       "    </tr>\n",
       "    <tr>\n",
       "      <th>1</th>\n",
       "      <td>8.3</td>\n",
       "      <td>3.0</td>\n",
       "      <td>2.0</td>\n",
       "      <td>2.0</td>\n",
       "      <td>0.0</td>\n",
       "      <td>1.0</td>\n",
       "      <td>0.0</td>\n",
       "      <td>0.0</td>\n",
       "      <td>0.0</td>\n",
       "      <td>0.0</td>\n",
       "      <td>...</td>\n",
       "      <td>0.0</td>\n",
       "      <td>0.0</td>\n",
       "      <td>0.0</td>\n",
       "      <td>0.0</td>\n",
       "      <td>0.0</td>\n",
       "      <td>0.0</td>\n",
       "      <td>0.0</td>\n",
       "      <td>0.0</td>\n",
       "      <td>0.0</td>\n",
       "      <td>0.0</td>\n",
       "    </tr>\n",
       "    <tr>\n",
       "      <th>2</th>\n",
       "      <td>8.9</td>\n",
       "      <td>6.0</td>\n",
       "      <td>0.0</td>\n",
       "      <td>4.0</td>\n",
       "      <td>1.0</td>\n",
       "      <td>0.0</td>\n",
       "      <td>0.0</td>\n",
       "      <td>0.0</td>\n",
       "      <td>0.0</td>\n",
       "      <td>0.0</td>\n",
       "      <td>...</td>\n",
       "      <td>0.0</td>\n",
       "      <td>0.0</td>\n",
       "      <td>0.0</td>\n",
       "      <td>0.0</td>\n",
       "      <td>0.0</td>\n",
       "      <td>0.0</td>\n",
       "      <td>1.0</td>\n",
       "      <td>0.0</td>\n",
       "      <td>0.0</td>\n",
       "      <td>1.0</td>\n",
       "    </tr>\n",
       "    <tr>\n",
       "      <th>3</th>\n",
       "      <td>7.5</td>\n",
       "      <td>0.0</td>\n",
       "      <td>11.0</td>\n",
       "      <td>2.0</td>\n",
       "      <td>0.0</td>\n",
       "      <td>0.0</td>\n",
       "      <td>0.0</td>\n",
       "      <td>0.0</td>\n",
       "      <td>0.0</td>\n",
       "      <td>0.0</td>\n",
       "      <td>...</td>\n",
       "      <td>0.0</td>\n",
       "      <td>0.0</td>\n",
       "      <td>1.0</td>\n",
       "      <td>0.0</td>\n",
       "      <td>1.0</td>\n",
       "      <td>1.0</td>\n",
       "      <td>0.0</td>\n",
       "      <td>0.0</td>\n",
       "      <td>0.0</td>\n",
       "      <td>1.0</td>\n",
       "    </tr>\n",
       "    <tr>\n",
       "      <th>4</th>\n",
       "      <td>8.5</td>\n",
       "      <td>4.0</td>\n",
       "      <td>20.0</td>\n",
       "      <td>2.0</td>\n",
       "      <td>0.0</td>\n",
       "      <td>0.0</td>\n",
       "      <td>0.0</td>\n",
       "      <td>0.0</td>\n",
       "      <td>0.0</td>\n",
       "      <td>0.0</td>\n",
       "      <td>...</td>\n",
       "      <td>0.0</td>\n",
       "      <td>0.0</td>\n",
       "      <td>1.0</td>\n",
       "      <td>1.0</td>\n",
       "      <td>0.0</td>\n",
       "      <td>0.0</td>\n",
       "      <td>0.0</td>\n",
       "      <td>0.0</td>\n",
       "      <td>0.0</td>\n",
       "      <td>0.0</td>\n",
       "    </tr>\n",
       "  </tbody>\n",
       "</table>\n",
       "<p>5 rows × 30 columns</p>\n",
       "</div>"
      ],
      "text/plain": [
       "   average_score  review_total_negative_word_counts  \\\n",
       "0            8.4                                3.0   \n",
       "1            8.3                                3.0   \n",
       "2            8.9                                6.0   \n",
       "3            7.5                                0.0   \n",
       "4            8.5                                4.0   \n",
       "\n",
       "   review_total_positive_word_counts  neg_review_wc  neg_is_room  \\\n",
       "0                                4.0            1.0          0.0   \n",
       "1                                2.0            2.0          0.0   \n",
       "2                                0.0            4.0          1.0   \n",
       "3                               11.0            2.0          0.0   \n",
       "4                               20.0            2.0          0.0   \n",
       "\n",
       "   neg_is_breakfast  neg_is_small  neg_is_staff  neg_is_nothing  neg_is_bed  \\\n",
       "0               0.0           0.0           0.0             0.0         0.0   \n",
       "1               1.0           0.0           0.0             0.0         0.0   \n",
       "2               0.0           0.0           0.0             0.0         0.0   \n",
       "3               0.0           0.0           0.0             0.0         0.0   \n",
       "4               0.0           0.0           0.0             0.0         0.0   \n",
       "\n",
       "   ...  pos_is_hotel  pos_is_great  pos_is_friendly  pos_is_helpful  \\\n",
       "0  ...           0.0           0.0              0.0             0.0   \n",
       "1  ...           0.0           0.0              0.0             0.0   \n",
       "2  ...           0.0           0.0              0.0             0.0   \n",
       "3  ...           0.0           0.0              1.0             0.0   \n",
       "4  ...           0.0           0.0              1.0             1.0   \n",
       "\n",
       "   pos_is_excellent  pos_is_comf  pos_is_positive  pos_is_lovely  \\\n",
       "0               0.0          0.0              0.0            0.0   \n",
       "1               0.0          0.0              0.0            0.0   \n",
       "2               0.0          0.0              1.0            0.0   \n",
       "3               1.0          1.0              0.0            0.0   \n",
       "4               0.0          0.0              0.0            0.0   \n",
       "\n",
       "   pos_is_perfect  is Leisure trip  \n",
       "0             0.0              1.0  \n",
       "1             0.0              0.0  \n",
       "2             0.0              1.0  \n",
       "3             0.0              1.0  \n",
       "4             0.0              0.0  \n",
       "\n",
       "[5 rows x 30 columns]"
      ]
     },
     "execution_count": 85,
     "metadata": {},
     "output_type": "execute_result"
    }
   ],
   "source": [
    "kbest_classifier = SelectKBest(score_func=f_classif, k=feat_num)\n",
    "X_kbest = kbest_classifier.fit_transform(X, y)\n",
    "mask = kbest_classifier.get_support()\n",
    "kbest_feats = X.columns[mask]\n",
    "kbest_df = pd.DataFrame(X_kbest, columns=kbest_feats)\n",
    "kbest_df.head()"
   ]
  },
  {
   "cell_type": "code",
   "execution_count": 86,
   "metadata": {},
   "outputs": [],
   "source": [
    "from sklearn.model_selection import train_test_split"
   ]
  },
  {
   "cell_type": "code",
   "execution_count": 87,
   "metadata": {},
   "outputs": [],
   "source": [
    "# Split the data on test and train samples \n",
    "X_train, X_test, y_train, y_test = train_test_split(kbest_df, y, test_size=0.25, random_state=42)"
   ]
  },
  {
   "cell_type": "code",
   "execution_count": 88,
   "metadata": {},
   "outputs": [],
   "source": [
    "from sklearn.ensemble import RandomForestRegressor\n",
    "from sklearn import metrics"
   ]
  },
  {
   "cell_type": "code",
   "execution_count": 89,
   "metadata": {},
   "outputs": [],
   "source": [
    "# Model creation \n",
    "regr = RandomForestRegressor(n_estimators=100)"
   ]
  },
  {
   "cell_type": "code",
   "execution_count": 90,
   "metadata": {},
   "outputs": [
    {
     "data": {
      "text/html": [
       "<style>#sk-container-id-1 {color: black;}#sk-container-id-1 pre{padding: 0;}#sk-container-id-1 div.sk-toggleable {background-color: white;}#sk-container-id-1 label.sk-toggleable__label {cursor: pointer;display: block;width: 100%;margin-bottom: 0;padding: 0.3em;box-sizing: border-box;text-align: center;}#sk-container-id-1 label.sk-toggleable__label-arrow:before {content: \"▸\";float: left;margin-right: 0.25em;color: #696969;}#sk-container-id-1 label.sk-toggleable__label-arrow:hover:before {color: black;}#sk-container-id-1 div.sk-estimator:hover label.sk-toggleable__label-arrow:before {color: black;}#sk-container-id-1 div.sk-toggleable__content {max-height: 0;max-width: 0;overflow: hidden;text-align: left;background-color: #f0f8ff;}#sk-container-id-1 div.sk-toggleable__content pre {margin: 0.2em;color: black;border-radius: 0.25em;background-color: #f0f8ff;}#sk-container-id-1 input.sk-toggleable__control:checked~div.sk-toggleable__content {max-height: 200px;max-width: 100%;overflow: auto;}#sk-container-id-1 input.sk-toggleable__control:checked~label.sk-toggleable__label-arrow:before {content: \"▾\";}#sk-container-id-1 div.sk-estimator input.sk-toggleable__control:checked~label.sk-toggleable__label {background-color: #d4ebff;}#sk-container-id-1 div.sk-label input.sk-toggleable__control:checked~label.sk-toggleable__label {background-color: #d4ebff;}#sk-container-id-1 input.sk-hidden--visually {border: 0;clip: rect(1px 1px 1px 1px);clip: rect(1px, 1px, 1px, 1px);height: 1px;margin: -1px;overflow: hidden;padding: 0;position: absolute;width: 1px;}#sk-container-id-1 div.sk-estimator {font-family: monospace;background-color: #f0f8ff;border: 1px dotted black;border-radius: 0.25em;box-sizing: border-box;margin-bottom: 0.5em;}#sk-container-id-1 div.sk-estimator:hover {background-color: #d4ebff;}#sk-container-id-1 div.sk-parallel-item::after {content: \"\";width: 100%;border-bottom: 1px solid gray;flex-grow: 1;}#sk-container-id-1 div.sk-label:hover label.sk-toggleable__label {background-color: #d4ebff;}#sk-container-id-1 div.sk-serial::before {content: \"\";position: absolute;border-left: 1px solid gray;box-sizing: border-box;top: 0;bottom: 0;left: 50%;z-index: 0;}#sk-container-id-1 div.sk-serial {display: flex;flex-direction: column;align-items: center;background-color: white;padding-right: 0.2em;padding-left: 0.2em;position: relative;}#sk-container-id-1 div.sk-item {position: relative;z-index: 1;}#sk-container-id-1 div.sk-parallel {display: flex;align-items: stretch;justify-content: center;background-color: white;position: relative;}#sk-container-id-1 div.sk-item::before, #sk-container-id-1 div.sk-parallel-item::before {content: \"\";position: absolute;border-left: 1px solid gray;box-sizing: border-box;top: 0;bottom: 0;left: 50%;z-index: -1;}#sk-container-id-1 div.sk-parallel-item {display: flex;flex-direction: column;z-index: 1;position: relative;background-color: white;}#sk-container-id-1 div.sk-parallel-item:first-child::after {align-self: flex-end;width: 50%;}#sk-container-id-1 div.sk-parallel-item:last-child::after {align-self: flex-start;width: 50%;}#sk-container-id-1 div.sk-parallel-item:only-child::after {width: 0;}#sk-container-id-1 div.sk-dashed-wrapped {border: 1px dashed gray;margin: 0 0.4em 0.5em 0.4em;box-sizing: border-box;padding-bottom: 0.4em;background-color: white;}#sk-container-id-1 div.sk-label label {font-family: monospace;font-weight: bold;display: inline-block;line-height: 1.2em;}#sk-container-id-1 div.sk-label-container {text-align: center;}#sk-container-id-1 div.sk-container {/* jupyter's `normalize.less` sets `[hidden] { display: none; }` but bootstrap.min.css set `[hidden] { display: none !important; }` so we also need the `!important` here to be able to override the default hidden behavior on the sphinx rendered scikit-learn.org. See: https://github.com/scikit-learn/scikit-learn/issues/21755 */display: inline-block !important;position: relative;}#sk-container-id-1 div.sk-text-repr-fallback {display: none;}</style><div id=\"sk-container-id-1\" class=\"sk-top-container\"><div class=\"sk-text-repr-fallback\"><pre>RandomForestRegressor()</pre><b>In a Jupyter environment, please rerun this cell to show the HTML representation or trust the notebook. <br />On GitHub, the HTML representation is unable to render, please try loading this page with nbviewer.org.</b></div><div class=\"sk-container\" hidden><div class=\"sk-item\"><div class=\"sk-estimator sk-toggleable\"><input class=\"sk-toggleable__control sk-hidden--visually\" id=\"sk-estimator-id-1\" type=\"checkbox\" checked><label for=\"sk-estimator-id-1\" class=\"sk-toggleable__label sk-toggleable__label-arrow\">RandomForestRegressor</label><div class=\"sk-toggleable__content\"><pre>RandomForestRegressor()</pre></div></div></div></div></div>"
      ],
      "text/plain": [
       "RandomForestRegressor()"
      ]
     },
     "execution_count": 90,
     "metadata": {},
     "output_type": "execute_result"
    }
   ],
   "source": [
    "# Learn the model on test sample\n",
    "regr.fit(X_train, y_train)  "
   ]
  },
  {
   "cell_type": "code",
   "execution_count": 91,
   "metadata": {},
   "outputs": [
    {
     "name": "stdout",
     "output_type": "stream",
     "text": [
      "MAPE: 13.236 %\n"
     ]
    }
   ],
   "source": [
    "# Hotel rating prediction\n",
    "y_pred = regr.predict(X_test)\n",
    "# MAPE value\n",
    "print(f'MAPE: {metrics.mean_absolute_percentage_error(y_test, y_pred) * 100:.3f} %')"
   ]
  }
 ],
 "metadata": {
  "kernelspec": {
   "display_name": "Python 3",
   "language": "python",
   "name": "python3"
  },
  "language_info": {
   "codemirror_mode": {
    "name": "ipython",
    "version": 3
   },
   "file_extension": ".py",
   "mimetype": "text/x-python",
   "name": "python",
   "nbconvert_exporter": "python",
   "pygments_lexer": "ipython3",
   "version": "3.11.4"
  }
 },
 "nbformat": 4,
 "nbformat_minor": 2
}
