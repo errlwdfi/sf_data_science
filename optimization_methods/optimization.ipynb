{
  "cells": [
    {
      "cell_type": "markdown",
      "metadata": {
        "id": "NyHIGVhfa_Wf"
      },
      "source": [
        "# Stohastic gradient and coordinate descent"
      ]
    },
    {
      "cell_type": "markdown",
      "metadata": {
        "id": "txCccYvha_Wv"
      },
      "source": [
        "## Data upload and preparation"
      ]
    },
    {
      "cell_type": "markdown",
      "metadata": {
        "id": "NbyOzeZ6a_Wx"
      },
      "source": [
        "Read `Advertising.csv`"
      ]
    },
    {
      "cell_type": "code",
      "execution_count": 21,
      "metadata": {},
      "outputs": [],
      "source": [
        "import pandas as pd\n",
        "import numpy as np"
      ]
    },
    {
      "cell_type": "code",
      "execution_count": 22,
      "metadata": {
        "id": "E1L4_xeDa_Wz"
      },
      "outputs": [
        {
          "data": {
            "text/html": [
              "<div>\n",
              "<style scoped>\n",
              "    .dataframe tbody tr th:only-of-type {\n",
              "        vertical-align: middle;\n",
              "    }\n",
              "\n",
              "    .dataframe tbody tr th {\n",
              "        vertical-align: top;\n",
              "    }\n",
              "\n",
              "    .dataframe thead th {\n",
              "        text-align: right;\n",
              "    }\n",
              "</style>\n",
              "<table border=\"1\" class=\"dataframe\">\n",
              "  <thead>\n",
              "    <tr style=\"text-align: right;\">\n",
              "      <th></th>\n",
              "      <th>TV</th>\n",
              "      <th>radio</th>\n",
              "      <th>newspaper</th>\n",
              "      <th>sales</th>\n",
              "    </tr>\n",
              "  </thead>\n",
              "  <tbody>\n",
              "    <tr>\n",
              "      <th>1</th>\n",
              "      <td>230.1</td>\n",
              "      <td>37.8</td>\n",
              "      <td>69.2</td>\n",
              "      <td>22.1</td>\n",
              "    </tr>\n",
              "    <tr>\n",
              "      <th>2</th>\n",
              "      <td>44.5</td>\n",
              "      <td>39.3</td>\n",
              "      <td>45.1</td>\n",
              "      <td>10.4</td>\n",
              "    </tr>\n",
              "    <tr>\n",
              "      <th>3</th>\n",
              "      <td>17.2</td>\n",
              "      <td>45.9</td>\n",
              "      <td>69.3</td>\n",
              "      <td>9.3</td>\n",
              "    </tr>\n",
              "    <tr>\n",
              "      <th>4</th>\n",
              "      <td>151.5</td>\n",
              "      <td>41.3</td>\n",
              "      <td>58.5</td>\n",
              "      <td>18.5</td>\n",
              "    </tr>\n",
              "    <tr>\n",
              "      <th>5</th>\n",
              "      <td>180.8</td>\n",
              "      <td>10.8</td>\n",
              "      <td>58.4</td>\n",
              "      <td>12.9</td>\n",
              "    </tr>\n",
              "  </tbody>\n",
              "</table>\n",
              "</div>"
            ],
            "text/plain": [
              "      TV  radio  newspaper  sales\n",
              "1  230.1   37.8       69.2   22.1\n",
              "2   44.5   39.3       45.1   10.4\n",
              "3   17.2   45.9       69.3    9.3\n",
              "4  151.5   41.3       58.5   18.5\n",
              "5  180.8   10.8       58.4   12.9"
            ]
          },
          "execution_count": 22,
          "metadata": {},
          "output_type": "execute_result"
        }
      ],
      "source": [
        "ads_df = pd.read_csv('data/Advertising.csv', index_col=0)\n",
        "ads_df.head()"
      ]
    },
    {
      "cell_type": "markdown",
      "metadata": {
        "id": "bf4aVFndDUKf"
      },
      "source": [
        "Check if we have NaN in our data, delete them if they are present:"
      ]
    },
    {
      "cell_type": "code",
      "execution_count": 23,
      "metadata": {
        "id": "tiVeFnR5DUKg"
      },
      "outputs": [
        {
          "data": {
            "text/plain": [
              "TV           0\n",
              "radio        0\n",
              "newspaper    0\n",
              "sales        0\n",
              "dtype: int64"
            ]
          },
          "execution_count": 23,
          "metadata": {},
          "output_type": "execute_result"
        }
      ],
      "source": [
        "ads_df.isna().sum()"
      ]
    },
    {
      "cell_type": "markdown",
      "metadata": {
        "id": "rTkiqPr_DUKh"
      },
      "source": [
        "Transform the data into NumPy arrays: X - predictors, y - target"
      ]
    },
    {
      "cell_type": "code",
      "execution_count": 24,
      "metadata": {},
      "outputs": [],
      "source": [
        "X = np.array(ads_df.drop(['sales'], axis=1))\n",
        "y = np.array(ads_df['sales'])"
      ]
    },
    {
      "cell_type": "markdown",
      "metadata": {
        "id": "KCvjSoHEDUKo"
      },
      "source": [
        "## Coordinate descent"
      ]
    },
    {
      "cell_type": "markdown",
      "metadata": {
        "id": "yjNm8dATDUKq"
      },
      "source": [
        "In order to have intercept in the equation of regression, append column of 1 to X array:"
      ]
    },
    {
      "cell_type": "code",
      "execution_count": 25,
      "metadata": {
        "id": "LMgq0fmKDUKr"
      },
      "outputs": [
        {
          "name": "stdout",
          "output_type": "stream",
          "text": [
            "(200, 4) (200, 1)\n"
          ]
        }
      ],
      "source": [
        "X = np.hstack([np.ones(X.shape[0]).reshape(-1, 1), X])\n",
        "y = y.reshape(-1, 1)\n",
        "print(X.shape, y.shape)"
      ]
    },
    {
      "cell_type": "markdown",
      "metadata": {
        "id": "R008OQwcDUKt"
      },
      "source": [
        "Data normalization:"
      ]
    },
    {
      "cell_type": "code",
      "execution_count": 26,
      "metadata": {
        "id": "2Sk7Wx-SDUKt"
      },
      "outputs": [],
      "source": [
        "X = X / np.sqrt(np.sum(np.square(X), axis=0))"
      ]
    },
    {
      "cell_type": "markdown",
      "metadata": {
        "id": "F_pHHbAdDUKu"
      },
      "source": [
        "Coordinate descent implementation:"
      ]
    },
    {
      "cell_type": "markdown",
      "metadata": {},
      "source": [
        "**Given:**\n",
        "\n",
        "* $X=(x_{ij})$ - observation matrix with dimension $dim(X)=(m, n)$\n",
        "* $N=1000$ - number of iterations\n",
        "\n",
        "**Note:** number of iterations indicated for example.\n",
        "\n",
        "**Algorithm:**\n",
        "* Create zero parameter vector $w_0=(0, 0,..., 0)^T$\n",
        "* For all $t=1, 2, ..., N$ iterations:\n",
        "    * For all $k = 1, 2,..., n$:\n",
        "        * Fixate values of all features except for $k$ and evaluate prediction of linear regression model. In order to do this, exclude $k$-feature from data and $w_j$ weight from parameters:\n",
        "\n",
        "        $$h_i = \\sum_{j=1}^{k-1} x_{ij}w_{j} + \\sum_{j=k+1}^{n} x_{ij}w_j $$\n",
        "\n",
        "        **Notation:**\n",
        "        \n",
        "        *Note that $k$-feature doesn't participate in the sum. Compare this expression with linear regression equation in case of normalized data (when all features participate):*\n",
        "\n",
        "        $$h_i = \\sum_{j=1}^{n} x_{ij}w_{j}$$ \n",
        "        \n",
        "        * Calculate new value of weight $w_k$:\n",
        "\n",
        "        $$w_k = \\sum_{i=1}^{m} x_{ik} (y_i - h_i) = x_k^T(y-h) $$\n",
        "\n",
        "    * Calculate value of loss function and record loss function modification (all features participate in evaluation of loss function):\n",
        "\n",
        "        $$\\hat{y_i} = \\sum_{j=1}^{n}x_{ij}w_j$$\n",
        "        $$Loss_t = \\frac{1}{n} \\sum_{i=1}^{m}(y_i-\\hat{y_i})^2$$\n",
        "        \n",
        "        in vector form:\n",
        "        \n",
        "        $$\\hat{y} = Xw$$\n",
        "        $$Loss_t = \\frac{1}{n}(y-\\hat{y})^T(y-\\hat{y})$$"
      ]
    },
    {
      "cell_type": "markdown",
      "metadata": {},
      "source": [
        "**Algorithm (pseudocode):**\n",
        "```python\n",
        "\n",
        "num_iters = #number of iterations\n",
        "m = # number of strings in X\n",
        "n = # number of columns in X\n",
        "w = # vector of n zeros\n",
        "\n",
        "for i in range(num_iters):\n",
        "    for k in range(n):\n",
        "        # Evaluate prediction w/o k factor\n",
        "        h = (X[:,0:k] @ w[0:k]) + (X[:,k+1:] @ w[k+1:])\n",
        "        # Refresh w_k\n",
        "        w[k] =  (X[:,k].T @ (y - h))\n",
        "        # Evaluate loss function\n",
        "        cost = sum((X @ w) - y) ** 2)/(len(y))\n",
        "\n",
        "```"
      ]
    },
    {
      "cell_type": "markdown",
      "metadata": {
        "id": "y3IdiHm9DUKv"
      },
      "source": [
        "Implement coordinate descent and display weights of linear regression:"
      ]
    },
    {
      "cell_type": "code",
      "execution_count": 27,
      "metadata": {},
      "outputs": [],
      "source": [
        "num_iters = 1000\n",
        "w = np.zeros(X.shape[1]).reshape(-1, 1)\n",
        "\n",
        "for iter in range(num_iters):\n",
        "    for k in range(X.shape[1]):\n",
        "        h = (X[:, 0:k] @ w[0:k]) + (X[:, k+1:] @ w[k+1:])\n",
        "        w[k] = (X[:, k].T @ (y - h))\n",
        "\n",
        "        cost = sum(((X @ w) - y)**2) / (y.shape[0])"
      ]
    },
    {
      "cell_type": "code",
      "execution_count": 28,
      "metadata": {},
      "outputs": [
        {
          "name": "stdout",
          "output_type": "stream",
          "text": [
            "Weights: [[ 41.56217205]\n",
            " [110.13144155]\n",
            " [ 73.52860638]\n",
            " [ -0.55006384]]\n",
            "MSE: [2.78412631]\n"
          ]
        }
      ],
      "source": [
        "print(f'Weights: {w}')\n",
        "print(f'MSE: {cost}')"
      ]
    },
    {
      "cell_type": "markdown",
      "metadata": {
        "id": "a3jG-7UADUKx"
      },
      "source": [
        "Compare results with the results of sklearn version of linear regression:"
      ]
    },
    {
      "cell_type": "code",
      "execution_count": 29,
      "metadata": {
        "id": "SBl-1Yb5DUKy"
      },
      "outputs": [
        {
          "name": "stdout",
          "output_type": "stream",
          "text": [
            "Coefficients: [[ 41.56217205 110.13144155  73.52860638  -0.55006384]]\n",
            "MSE: 2.784126314510936\n"
          ]
        }
      ],
      "source": [
        "from sklearn.linear_model import LinearRegression\n",
        "from sklearn.metrics import mean_squared_error\n",
        " \n",
        "model = LinearRegression(fit_intercept=False)\n",
        "model.fit(X, y)\n",
        "y_pred = model.predict(X)\n",
        " \n",
        "print(f'Coefficients: {model.coef_}')\n",
        "print(f'MSE: {mean_squared_error(y, y_pred)}')"
      ]
    },
    {
      "cell_type": "markdown",
      "metadata": {
        "id": "hIl0AGLyDUKy"
      },
      "source": [
        "*The results of both methods are equivalent to each other.*"
      ]
    },
    {
      "cell_type": "markdown",
      "metadata": {
        "id": "VCGwFnPdDUKz"
      },
      "source": [
        "## Stohastic gradient descent"
      ]
    },
    {
      "cell_type": "markdown",
      "metadata": {
        "id": "5u7Q2YJla_Xk"
      },
      "source": [
        "X standartization:"
      ]
    },
    {
      "cell_type": "code",
      "execution_count": 30,
      "metadata": {
        "id": "9cEpV_5La_Xo"
      },
      "outputs": [],
      "source": [
        "X = np.array(ads_df.drop(['sales'], axis=1))\n",
        "y = np.array(ads_df['sales'])\n",
        "\n",
        "X_st = (X - X.mean(axis=0)) / X.std(axis=0)"
      ]
    },
    {
      "cell_type": "markdown",
      "metadata": {
        "id": "8WkNYILHDUK1"
      },
      "source": [
        "Append column of 1:"
      ]
    },
    {
      "cell_type": "code",
      "execution_count": 31,
      "metadata": {
        "id": "EVl5tEGtDUK1"
      },
      "outputs": [],
      "source": [
        "X_st = np.hstack([np.ones(X_st.shape[0]).reshape(-1, 1), X_st])"
      ]
    },
    {
      "cell_type": "markdown",
      "metadata": {
        "id": "m53tZA5fDUK1"
      },
      "source": [
        "`mse_error` function, that calculates MSE:"
      ]
    },
    {
      "cell_type": "code",
      "execution_count": 32,
      "metadata": {
        "id": "0cvtC08Aa_YK"
      },
      "outputs": [],
      "source": [
        "def mse_error(y_true, y_pred):\n",
        "    \"\"\"MSE calculation.\n",
        "\n",
        "    Args:\n",
        "        y_true (numpy.ndarray): vector of true target values.\n",
        "        y_pred (numpy.ndarray): vector of predicted target values.\n",
        "        \n",
        "    Returns:\n",
        "        (float): mean squared error.\n",
        "    \"\"\"\n",
        "    \n",
        "    return np.sum((y_true - y_pred)**2) / y_true.shape[0]"
      ]
    },
    {
      "cell_type": "markdown",
      "metadata": {
        "id": "lpOLhdvBDUK2"
      },
      "source": [
        "Make a naïve prediction: predict sales with mean value. Calculate MSE afterwise:"
      ]
    },
    {
      "cell_type": "code",
      "execution_count": 33,
      "metadata": {
        "id": "kLV_XljVa_YZ"
      },
      "outputs": [
        {
          "name": "stdout",
          "output_type": "stream",
          "text": [
            "Naïve prediction:  27.086\n"
          ]
        }
      ],
      "source": [
        "mse_naif = mse_error(y, np.mean(y))\n",
        "print(f'Naïve prediction: {mse_naif: .3f}')"
      ]
    },
    {
      "cell_type": "markdown",
      "metadata": {
        "id": "BbybL2ola_ZM"
      },
      "source": [
        "Create `lin_pred` function, that makes a prediction out of matrix of predictors *X* and vector of weights *w*:"
      ]
    },
    {
      "cell_type": "code",
      "execution_count": 34,
      "metadata": {
        "id": "1Cyz-Luaa_ZO"
      },
      "outputs": [],
      "source": [
        "def lin_pred(X, w):\n",
        "    \"\"\"Make a prediction.\n",
        "\n",
        "    Args:\n",
        "        X (numpy.ndarray): observation matrix.\n",
        "        w (numpy.ndarray): vector of weights.\n",
        "        \n",
        "    Returns:\n",
        "        (numpy.ndarray): vector of predicted values.\n",
        "    \"\"\"\n",
        "    \n",
        "    return X @ w"
      ]
    },
    {
      "cell_type": "markdown",
      "metadata": {
        "id": "BU4adBrya_Zm"
      },
      "source": [
        "Create `stoch_grad_step` function to implement step of stohastic gradient descent. The function receives as arguments:\n",
        "* *X* matrix\n",
        "* *y* and *w* vectors\n",
        "* *train_ind* - index of train sample's record (string of matrix *X*) by which vector of weights is modified\n",
        "* *$\\eta$* (eta) - step of gradient descent\n",
        "\n",
        "The result is modified vector of weights."
      ]
    },
    {
      "cell_type": "markdown",
      "metadata": {
        "id": "dyLY-P02DUK5"
      },
      "source": [
        "Stohastic gradient descent expression:"
      ]
    },
    {
      "cell_type": "markdown",
      "metadata": {
        "id": "ORsAyIKNDUK5"
      },
      "source": [
        "$$\\Large w_j \\leftarrow w_j - 2\\eta x_{ij}((w_0 + w_1x_{i1} + w_2x_{i2} +  w_3x_{i3}) - y_i)$$"
      ]
    },
    {
      "cell_type": "markdown",
      "metadata": {},
      "source": [
        "where $i$ is `train_ind` index of train sample, $j$ - index of vector of weights $w$."
      ]
    },
    {
      "cell_type": "markdown",
      "metadata": {
        "id": "CQl2FrpuDUK6"
      },
      "source": [
        "In order to write the function:\n",
        "\n",
        "* calculate direction of step: multiply an object of train sample by 2 and by current relative error.\n",
        "\n",
        "* return difference between vector of weights and direction of alteration multiplied by gradient step."
      ]
    },
    {
      "cell_type": "code",
      "execution_count": 35,
      "metadata": {
        "id": "YUhVQGsja_Zn"
      },
      "outputs": [],
      "source": [
        "def stoch_grad_step(X, y, w, train_ind, eta):\n",
        "    \"\"\"Step of stohastic gradient descent, that transforms vector of weights.\n",
        "\n",
        "    Args:\n",
        "        X (numpy.ndarray): observation matrix.\n",
        "        y (numpy.ndarray): target vector.\n",
        "        w (numpy.ndarray): vector of weights.\n",
        "        train_ind (int): number of observation.\n",
        "        eta (float): gradient descent step.\n",
        "        \n",
        "    Returns:\n",
        "        (numpy.ndarray): new vector of weights.\n",
        "    \"\"\"\n",
        "    \n",
        "    w_new = w - 2 * eta * ((X[train_ind, :] @ w) - y[train_ind]) * X[train_ind, :]\n",
        "    \n",
        "    return w_new"
      ]
    },
    {
      "cell_type": "markdown",
      "metadata": {
        "id": "pXwIFd0Ma_Zx"
      },
      "source": [
        "Create `stohastic_gradient_descent` function implementing stohastic gradient descent algorithm.\n",
        "\n",
        "The function receives further arguments:\n",
        "- *X* feature matrix\n",
        "- Target vector *y*\n",
        "- Initial point (model weights)\n",
        "- Learning rate\n",
        "- Maximum number of iterations\n",
        "- Minimum euclidean distance between vectors of weights of adjacent iterations\n",
        "\n",
        "Each iteration the algorithm records current MSE to a list. The function returns vector of weights and array of MSE."
      ]
    },
    {
      "cell_type": "markdown",
      "metadata": {
        "id": "ZVeoNF1JDUK7"
      },
      "source": [
        "The algorithm itself consists of further steps:\n",
        "\n",
        "* Initialize the distance between vectors of weights of adjacent iterations by a large number (e.g. by infinity).\n",
        "* Create an empty list for MSE recording.\n",
        "* Create iteration counter.\n",
        "* Create a cycle while the distance between vectors of weights is larger than that when the run should be ceased (when distances become too small i.e. the algorithm get stuck) and current number of iterations is less than maximum number allowed. Generate random index, record current MSE to the vector of errors, record to a variable current step of stohastic descent. Then calculate current distance between vectors of weights and add 1 to iteration counter.\n",
        "* Return vector of weights and vector of MSE."
      ]
    },
    {
      "cell_type": "code",
      "execution_count": 36,
      "metadata": {
        "id": "CD_xcFNfa_Zy"
      },
      "outputs": [],
      "source": [
        "def stohastic_gradient_descent(X, y, w_init, eta=0.01, max_iter=1e+5, eps=1e-5):\n",
        "    \"\"\"Stohastic gradient descent implementation.\n",
        "\n",
        "    Args:\n",
        "        X (numpy.ndarray): observation matrix.\n",
        "        y (numpy.ndarray): target vector.\n",
        "        w_init (numpy.ndarray): initial vector of weights.\n",
        "        eta (float, optional): learning rate. Defaults to 0.01.\n",
        "        max_iter (int, optional): maximum number of iterations. Defaults to 1e+5.\n",
        "        eps (float, optional): minimal norm of gradient step, when the algorithm stops. Defaults to 1e-5.\n",
        "\n",
        "    Returns:\n",
        "        (numpy.ndarray, numpy.ndarray): vector of weights, array of MSE.\n",
        "    \"\"\"\n",
        "    \n",
        "    mse = []    # list of MSE\n",
        "    iter = 0    # current iteration\n",
        "    w_dist = np.inf # norm of current gradient step\n",
        "    w = w_init  # current vector of weights\n",
        "    \n",
        "    while (w_dist > eps) & (iter <= max_iter):\n",
        "        idx = np.random.randint(X.shape[0])\n",
        "        mse.append(mse_error(y, lin_pred(X, w)))\n",
        "        w_new = stoch_grad_step(X, y, w, idx, eta)\n",
        "        w_dist = np.linalg.norm(w_new - w)\n",
        "        iter += 1\n",
        "        w = w_new\n",
        "        \n",
        "    print(f'Number of iterations: {iter}')\n",
        "    \n",
        "    return w, np.array(mse)"
      ]
    },
    {
      "cell_type": "markdown",
      "metadata": {
        "id": "0OqHO1Rta_Z7"
      },
      "source": [
        "Run $10^5$ iterations of stohastic gradient descent. Specify *zero* initial vector of weights. Experiment with the learning rate."
      ]
    },
    {
      "cell_type": "code",
      "execution_count": 37,
      "metadata": {},
      "outputs": [
        {
          "name": "stdout",
          "output_type": "stream",
          "text": [
            "Number of iterations: 19914\n"
          ]
        }
      ],
      "source": [
        "w_sgd, mse_sgd = stohastic_gradient_descent(X_st, y, np.zeros(X_st.shape[1]), eta=1e-4, eps=1e-7)"
      ]
    },
    {
      "cell_type": "markdown",
      "metadata": {
        "id": "N6fHHT6vDUK8"
      },
      "source": [
        "Dependance MSE vs number of iteration:"
      ]
    },
    {
      "cell_type": "code",
      "execution_count": 38,
      "metadata": {
        "id": "zsSfHDzLDUK9"
      },
      "outputs": [
        {
          "data": {
            "image/png": "[encoded data removed]"
          },
          "metadata": {},
          "output_type": "display_data"
        }
      ],
      "source": [
        "import plotly.express as px\n",
        "\n",
        "mse_df = pd.DataFrame({'Iteration': range(1, len(mse_sgd) + 1), \n",
        "                         'MSE': mse_sgd})\n",
        "\n",
        "fig_mse = px.line(mse_df, x='Iteration', y='MSE')\n",
        "fig_mse.update_layout(\n",
        "        autosize=False,\n",
        "        width=1000,\n",
        "        height=600,\n",
        "        title_text='MSE vs iteration plot'\n",
        "    )\n",
        "\n",
        "fig_mse.update_xaxes(title_text='Number of iteration')\n",
        "fig_mse.update_yaxes(title_text='MSE')\n",
        "fig_mse.update(layout_showlegend=False)\n",
        "fig_mse.write_html('images/mse.html')\n",
        "fig_mse.write_image('images/mse.png')\n",
        "fig_mse.show('png')"
      ]
    },
    {
      "cell_type": "markdown",
      "metadata": {
        "id": "O-MVOcJ6a_aY"
      },
      "source": [
        "Vector of weights to which algorithm has converged:"
      ]
    },
    {
      "cell_type": "code",
      "execution_count": 39,
      "metadata": {
        "id": "MPjVkXe4DUK9"
      },
      "outputs": [
        {
          "name": "stdout",
          "output_type": "stream",
          "text": [
            "Weights: [13.74606396  3.88597283  2.68620685  0.07366675]\n"
          ]
        }
      ],
      "source": [
        "print(f'Weights: {w_sgd}')"
      ]
    },
    {
      "cell_type": "markdown",
      "metadata": {
        "id": "qabzMc3Qa_a5"
      },
      "source": [
        "MSE on last iteration:"
      ]
    },
    {
      "cell_type": "code",
      "execution_count": 40,
      "metadata": {
        "id": "7tPWleMIa_a7"
      },
      "outputs": [
        {
          "name": "stdout",
          "output_type": "stream",
          "text": [
            "MSE, last iteration:  2.875\n"
          ]
        }
      ],
      "source": [
        "print(f'MSE, last iteration: {mse_sgd[-1]: .3f}')"
      ]
    },
    {
      "cell_type": "markdown",
      "metadata": {},
      "source": [
        "*Stohastic gradient descent needs more iterations to converge, but there exists the probability that it converges to global minimum when the loss function isn't convex.*"
      ]
    }
  ],
  "metadata": {
    "colab": {
      "collapsed_sections": [],
      "name": "Практика_Оптимизация.ipynb",
      "provenance": [],
      "toc_visible": true
    },
    "kernelspec": {
      "display_name": "Python 3.10.8 ('base')",
      "language": "python",
      "name": "python3"
    },
    "language_info": {
      "codemirror_mode": {
        "name": "ipython",
        "version": 3
      },
      "file_extension": ".py",
      "mimetype": "text/x-python",
      "name": "python",
      "nbconvert_exporter": "python",
      "pygments_lexer": "ipython3",
      "version": "3.11.4"
    },
    "vscode": {
      "interpreter": {
        "hash": "86c56a74836ad344b00594bf6f38fa6a676a207ceefe20d101fbc465800ccb8d"
      }
    }
  },
  "nbformat": 4,
  "nbformat_minor": 0
}
