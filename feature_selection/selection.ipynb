{
 "cells": [
  {
   "cell_type": "markdown",
   "metadata": {},
   "source": [
    "# Feature selection"
   ]
  },
  {
   "cell_type": "code",
   "execution_count": 1,
   "metadata": {},
   "outputs": [],
   "source": [
    "import pandas as pd\n",
    "import numpy as np\n",
    "from sklearn.model_selection import train_test_split\n",
    "from sklearn.linear_model import LinearRegression\n",
    "from sklearn.metrics import mean_absolute_error\n",
    "from sklearn.feature_selection import RFE, SelectKBest, f_regression"
   ]
  },
  {
   "cell_type": "markdown",
   "metadata": {},
   "source": [
    "Data reading:"
   ]
  },
  {
   "cell_type": "code",
   "execution_count": 2,
   "metadata": {},
   "outputs": [
    {
     "data": {
      "text/html": [
       "<div>\n",
       "<style scoped>\n",
       "    .dataframe tbody tr th:only-of-type {\n",
       "        vertical-align: middle;\n",
       "    }\n",
       "\n",
       "    .dataframe tbody tr th {\n",
       "        vertical-align: top;\n",
       "    }\n",
       "\n",
       "    .dataframe thead th {\n",
       "        text-align: right;\n",
       "    }\n",
       "</style>\n",
       "<table border=\"1\" class=\"dataframe\">\n",
       "  <thead>\n",
       "    <tr style=\"text-align: right;\">\n",
       "      <th></th>\n",
       "      <th>price</th>\n",
       "      <th>year</th>\n",
       "      <th>condition</th>\n",
       "      <th>cylinders</th>\n",
       "      <th>odometer</th>\n",
       "      <th>title_status</th>\n",
       "      <th>transmission</th>\n",
       "      <th>drive</th>\n",
       "      <th>size</th>\n",
       "      <th>lat</th>\n",
       "      <th>long</th>\n",
       "      <th>weather</th>\n",
       "    </tr>\n",
       "  </thead>\n",
       "  <tbody>\n",
       "    <tr>\n",
       "      <th>0</th>\n",
       "      <td>43900</td>\n",
       "      <td>2016</td>\n",
       "      <td>4</td>\n",
       "      <td>6</td>\n",
       "      <td>43500</td>\n",
       "      <td>clean</td>\n",
       "      <td>automatic</td>\n",
       "      <td>4wd</td>\n",
       "      <td>full-size</td>\n",
       "      <td>36.471500</td>\n",
       "      <td>-82.483400</td>\n",
       "      <td>59.0</td>\n",
       "    </tr>\n",
       "    <tr>\n",
       "      <th>1</th>\n",
       "      <td>15490</td>\n",
       "      <td>2009</td>\n",
       "      <td>2</td>\n",
       "      <td>8</td>\n",
       "      <td>98131</td>\n",
       "      <td>clean</td>\n",
       "      <td>automatic</td>\n",
       "      <td>4wd</td>\n",
       "      <td>full-size</td>\n",
       "      <td>40.468826</td>\n",
       "      <td>-74.281734</td>\n",
       "      <td>52.0</td>\n",
       "    </tr>\n",
       "    <tr>\n",
       "      <th>2</th>\n",
       "      <td>2495</td>\n",
       "      <td>2002</td>\n",
       "      <td>2</td>\n",
       "      <td>8</td>\n",
       "      <td>201803</td>\n",
       "      <td>clean</td>\n",
       "      <td>automatic</td>\n",
       "      <td>4wd</td>\n",
       "      <td>full-size</td>\n",
       "      <td>42.477134</td>\n",
       "      <td>-82.949564</td>\n",
       "      <td>45.0</td>\n",
       "    </tr>\n",
       "    <tr>\n",
       "      <th>3</th>\n",
       "      <td>1300</td>\n",
       "      <td>2000</td>\n",
       "      <td>1</td>\n",
       "      <td>8</td>\n",
       "      <td>170305</td>\n",
       "      <td>rebuilt</td>\n",
       "      <td>automatic</td>\n",
       "      <td>4wd</td>\n",
       "      <td>full-size</td>\n",
       "      <td>40.764373</td>\n",
       "      <td>-82.349503</td>\n",
       "      <td>49.0</td>\n",
       "    </tr>\n",
       "    <tr>\n",
       "      <th>4</th>\n",
       "      <td>13865</td>\n",
       "      <td>2010</td>\n",
       "      <td>3</td>\n",
       "      <td>8</td>\n",
       "      <td>166062</td>\n",
       "      <td>clean</td>\n",
       "      <td>automatic</td>\n",
       "      <td>4wd</td>\n",
       "      <td>NaN</td>\n",
       "      <td>49.210949</td>\n",
       "      <td>-123.114720</td>\n",
       "      <td>NaN</td>\n",
       "    </tr>\n",
       "  </tbody>\n",
       "</table>\n",
       "</div>"
      ],
      "text/plain": [
       "   price  year  condition  cylinders  odometer title_status transmission  \\\n",
       "0  43900  2016          4          6     43500        clean    automatic   \n",
       "1  15490  2009          2          8     98131        clean    automatic   \n",
       "2   2495  2002          2          8    201803        clean    automatic   \n",
       "3   1300  2000          1          8    170305      rebuilt    automatic   \n",
       "4  13865  2010          3          8    166062        clean    automatic   \n",
       "\n",
       "  drive       size        lat        long  weather  \n",
       "0   4wd  full-size  36.471500  -82.483400     59.0  \n",
       "1   4wd  full-size  40.468826  -74.281734     52.0  \n",
       "2   4wd  full-size  42.477134  -82.949564     45.0  \n",
       "3   4wd  full-size  40.764373  -82.349503     49.0  \n",
       "4   4wd        NaN  49.210949 -123.114720      NaN  "
      ]
     },
     "execution_count": 2,
     "metadata": {},
     "output_type": "execute_result"
    }
   ],
   "source": [
    "data = pd.read_excel('data/data_ford_price.xlsx') \n",
    "data.head()"
   ]
  },
  {
   "cell_type": "markdown",
   "metadata": {},
   "source": [
    "Remove text features and drop records containing NaN. Note that `cylinders` considered as numeric feature here. In fact it is nominal categorical feature. One-hot encoding should performed."
   ]
  },
  {
   "cell_type": "code",
   "execution_count": 3,
   "metadata": {},
   "outputs": [],
   "source": [
    "data = data[['price','year', 'cylinders', 'odometer', 'lat', 'long', 'weather']]\n",
    "data.dropna(inplace = True)"
   ]
  },
  {
   "cell_type": "markdown",
   "metadata": {},
   "source": [
    "Create X, y, then split them into train and test samples:"
   ]
  },
  {
   "cell_type": "code",
   "execution_count": 4,
   "metadata": {},
   "outputs": [],
   "source": [
    "y = data['price']\n",
    "x = data.drop(columns='price')\n",
    "\n",
    "X_train, X_test, y_train, y_test = train_test_split(x, y, test_size=0.3, random_state=40)"
   ]
  },
  {
   "cell_type": "markdown",
   "metadata": {},
   "source": [
    "OLS model with no feature selection:"
   ]
  },
  {
   "cell_type": "code",
   "execution_count": 5,
   "metadata": {},
   "outputs": [
    {
     "name": "stdout",
     "output_type": "stream",
     "text": [
      "Test MAE, no selection:  4682.957\n"
     ]
    }
   ],
   "source": [
    "estimator_no_select = LinearRegression()\n",
    "estimator_no_select.fit(X_train, y_train)\n",
    "y_pred_test_no_select = estimator_no_select.predict(X_test)\n",
    "print(f'Test MAE, no selection: {mean_absolute_error(y_test, y_pred_test_no_select): .3f}')"
   ]
  },
  {
   "cell_type": "markdown",
   "metadata": {},
   "source": [
    "RFE:"
   ]
  },
  {
   "cell_type": "code",
   "execution_count": 6,
   "metadata": {},
   "outputs": [
    {
     "data": {
      "text/plain": [
       "array(['year', 'cylinders', 'lat'], dtype=object)"
      ]
     },
     "execution_count": 6,
     "metadata": {},
     "output_type": "execute_result"
    }
   ],
   "source": [
    "# RFE algorithm: most important features\n",
    "\n",
    "estimator = LinearRegression()\n",
    "rfe_selector = RFE(estimator, n_features_to_select=3, step=1)\n",
    "rfe_feat_selected = rfe_selector.fit(X_train, y_train)\n",
    "rfe_feat_selected.get_feature_names_out()"
   ]
  },
  {
   "cell_type": "code",
   "execution_count": 7,
   "metadata": {},
   "outputs": [],
   "source": [
    "# RFE. Train and test samples\n",
    "rfe_feats = list(rfe_feat_selected.get_feature_names_out())\n",
    "\n",
    "X_train_rfe = X_train[rfe_feats]\n",
    "X_test_rfe = X_test[rfe_feats]"
   ]
  },
  {
   "cell_type": "markdown",
   "metadata": {},
   "source": [
    "OLS model with RFE selection. MAE"
   ]
  },
  {
   "cell_type": "code",
   "execution_count": 8,
   "metadata": {},
   "outputs": [
    {
     "name": "stdout",
     "output_type": "stream",
     "text": [
      "Test MAE, RFE:  5096.570\n"
     ]
    }
   ],
   "source": [
    "estimator_rfe = LinearRegression()\n",
    "estimator_rfe.fit(X_train_rfe, y_train)\n",
    "y_pred_test_rfe = estimator_rfe.predict(X_test_rfe)\n",
    "print(f'Test MAE, RFE: {mean_absolute_error(y_test, y_pred_test_rfe): .3f}')"
   ]
  },
  {
   "cell_type": "markdown",
   "metadata": {},
   "source": [
    "SelectKBest: most important features. Since we have numeric input and numeric output, the best choice is to use Pearson correlation."
   ]
  },
  {
   "cell_type": "code",
   "execution_count": 9,
   "metadata": {},
   "outputs": [
    {
     "data": {
      "text/plain": [
       "array(['year', 'cylinders', 'odometer'], dtype=object)"
      ]
     },
     "execution_count": 9,
     "metadata": {},
     "output_type": "execute_result"
    }
   ],
   "source": [
    "kbest_selector = SelectKBest(f_regression, k=3)\n",
    "kbest_selector.fit(X_train, y_train)\n",
    " \n",
    "kbest_selector.get_feature_names_out()"
   ]
  },
  {
   "cell_type": "code",
   "execution_count": 10,
   "metadata": {},
   "outputs": [],
   "source": [
    "kbest_feats = list(kbest_selector.get_feature_names_out())\n",
    "\n",
    "X_train_kbest = X_train[kbest_feats]\n",
    "X_test_kbest = X_test[kbest_feats]"
   ]
  },
  {
   "cell_type": "markdown",
   "metadata": {},
   "source": [
    "OLS model with SelectKBest features. MAE"
   ]
  },
  {
   "cell_type": "code",
   "execution_count": 11,
   "metadata": {},
   "outputs": [
    {
     "name": "stdout",
     "output_type": "stream",
     "text": [
      "Test MAE, SelectKBest:  4708.946\n"
     ]
    }
   ],
   "source": [
    "estimator_kbest = LinearRegression()\n",
    "estimator_kbest.fit(X_train_kbest, y_train)\n",
    "y_pred_test_kbest = estimator_kbest.predict(X_test_kbest)\n",
    "print(f'Test MAE, SelectKBest: {mean_absolute_error(y_test, y_pred_test_kbest): .3f}')"
   ]
  },
  {
   "cell_type": "markdown",
   "metadata": {},
   "source": [
    "*The best result is shown by the model with no feature selection, since we learn the model on all numeric features. SelectKBest result shows insignifant decline but speed up the learning process. Therefore, in terms of learning time/MAE SelectKBest is the best feature selection method so far. And finally RFE result is the worst one because of significant MAE decline.*"
   ]
  }
 ],
 "metadata": {
  "kernelspec": {
   "display_name": "base",
   "language": "python",
   "name": "python3"
  },
  "language_info": {
   "codemirror_mode": {
    "name": "ipython",
    "version": 3
   },
   "file_extension": ".py",
   "mimetype": "text/x-python",
   "name": "python",
   "nbconvert_exporter": "python",
   "pygments_lexer": "ipython3",
   "version": "3.11.4"
  },
  "orig_nbformat": 4
 },
 "nbformat": 4,
 "nbformat_minor": 2
}
